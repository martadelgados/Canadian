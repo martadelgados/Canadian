{
 "cells": [
  {
   "cell_type": "markdown",
   "id": "e0d72926",
   "metadata": {},
   "source": [
    "# Objetivo"
   ]
  },
  {
   "cell_type": "markdown",
   "id": "d7a9d506",
   "metadata": {},
   "source": [
    "En esta práctica nos encontramos ante un problema de clasificación: vamos a obtener una variable categórica como respuesta. Para este ejercicio obtendremos los datos de **Canadian Car Accidents 1994-2014**."
   ]
  },
  {
   "cell_type": "markdown",
   "id": "05fcb253",
   "metadata": {},
   "source": [
    "- ¿Qué tipos de vehículos (modelos, antigüedad, etc.) y conductores son más propensos a tener accidentes (acción correctiva en prima)?\n",
    "- ¿Qué tipos de vehículos (modelos, antigüedad, etc.) y conductores son menos propensos a tener accidentes (descuento en prima)?\n",
    "- ¿Qué es lo que más contribuye a que existan fallecimientos en un accidente?\n",
    "- Dado un accidente, ¿se puede generar un modelo que prediga si habrá fallecimientos o no? ¿Si se va a necesitar tratamiento médico o no? Las aseguradoras tienen que inmovilizar capital para pagar estas casuísticas.\n",
    "- Libertad para generar análisis de valor y nuevas ideas. Se debe atacar mínimo un modelo (estimar si habrá fallecidos o no). Hecho esto, se puede plantear de forma opcional otros alcances (libertad para plantear opciones).\n",
    "- Plus: complementar con datos abiertos de clima (aunque Canadá es muy grande) y de otra tipología, ¿hay algún tipo de relación con temperaturas medias, precipitación media del día/mes, nieve...? ¿a más días festivos o de vacaciones, más accidentes? etc.\n"
   ]
  },
  {
   "cell_type": "markdown",
   "id": "b3701911",
   "metadata": {},
   "source": [
    "Each feature is 100% categorical data, with some features having 2 categories, while others can have 30+. The data is not completely imputed appropriately (you can thank Stats Canada), so some data preprocessing is required. For instance, categories may have duplicates in the form of '01' and '1', or some data may be formatted as integers while others are formatted as strings. Some data is not known and is marked accordingly in 'drivingLegend.pdf'. Unfortunately, features such as location and impaired driving are not a part of this feature set, however there are plenty of others to work with."
   ]
  },
  {
   "cell_type": "markdown",
   "id": "65ae5771",
   "metadata": {},
   "source": [
    "**Hay que quitar valores raros, analizar dataset, quitar columnas no importantes etc**"
   ]
  },
  {
   "cell_type": "code",
   "execution_count": 1,
   "id": "7517a043",
   "metadata": {},
   "outputs": [],
   "source": [
    "# Importamos las librerías a utilizar\n",
    "import pandas as pd\n",
    "import warnings\n",
    "from sklearn.metrics import confusion_matrix\n",
    "from  sklearn.ensemble import BaggingRegressor\n",
    "from sklearn.ensemble import GradientBoostingClassifier\n",
    "from sklearn.linear_model import LogisticRegression\n",
    "warnings.filterwarnings('ignore')"
   ]
  },
  {
   "cell_type": "code",
   "execution_count": 2,
   "id": "f0e64431",
   "metadata": {},
   "outputs": [],
   "source": [
    "db = pd.read_csv(\"NCDB_1999_to_2014.csv\")"
   ]
  },
  {
   "cell_type": "code",
   "execution_count": 3,
   "id": "c952a295",
   "metadata": {},
   "outputs": [
    {
     "data": {
      "text/html": [
       "<div>\n",
       "<style scoped>\n",
       "    .dataframe tbody tr th:only-of-type {\n",
       "        vertical-align: middle;\n",
       "    }\n",
       "\n",
       "    .dataframe tbody tr th {\n",
       "        vertical-align: top;\n",
       "    }\n",
       "\n",
       "    .dataframe thead th {\n",
       "        text-align: right;\n",
       "    }\n",
       "</style>\n",
       "<table border=\"1\" class=\"dataframe\">\n",
       "  <thead>\n",
       "    <tr style=\"text-align: right;\">\n",
       "      <th></th>\n",
       "      <th>C_YEAR</th>\n",
       "      <th>C_MNTH</th>\n",
       "      <th>C_WDAY</th>\n",
       "      <th>C_HOUR</th>\n",
       "      <th>C_SEV</th>\n",
       "      <th>C_VEHS</th>\n",
       "      <th>C_CONF</th>\n",
       "      <th>C_RCFG</th>\n",
       "      <th>C_WTHR</th>\n",
       "      <th>C_RSUR</th>\n",
       "      <th>...</th>\n",
       "      <th>V_ID</th>\n",
       "      <th>V_TYPE</th>\n",
       "      <th>V_YEAR</th>\n",
       "      <th>P_ID</th>\n",
       "      <th>P_SEX</th>\n",
       "      <th>P_AGE</th>\n",
       "      <th>P_PSN</th>\n",
       "      <th>P_ISEV</th>\n",
       "      <th>P_SAFE</th>\n",
       "      <th>P_USER</th>\n",
       "    </tr>\n",
       "  </thead>\n",
       "  <tbody>\n",
       "    <tr>\n",
       "      <th>0</th>\n",
       "      <td>1999</td>\n",
       "      <td>1</td>\n",
       "      <td>1</td>\n",
       "      <td>20</td>\n",
       "      <td>2</td>\n",
       "      <td>02</td>\n",
       "      <td>34</td>\n",
       "      <td>UU</td>\n",
       "      <td>1</td>\n",
       "      <td>5</td>\n",
       "      <td>...</td>\n",
       "      <td>01</td>\n",
       "      <td>06</td>\n",
       "      <td>1990</td>\n",
       "      <td>01</td>\n",
       "      <td>M</td>\n",
       "      <td>41</td>\n",
       "      <td>11</td>\n",
       "      <td>1</td>\n",
       "      <td>UU</td>\n",
       "      <td>1</td>\n",
       "    </tr>\n",
       "    <tr>\n",
       "      <th>1</th>\n",
       "      <td>1999</td>\n",
       "      <td>1</td>\n",
       "      <td>1</td>\n",
       "      <td>20</td>\n",
       "      <td>2</td>\n",
       "      <td>02</td>\n",
       "      <td>34</td>\n",
       "      <td>UU</td>\n",
       "      <td>1</td>\n",
       "      <td>5</td>\n",
       "      <td>...</td>\n",
       "      <td>02</td>\n",
       "      <td>01</td>\n",
       "      <td>1987</td>\n",
       "      <td>01</td>\n",
       "      <td>M</td>\n",
       "      <td>19</td>\n",
       "      <td>11</td>\n",
       "      <td>1</td>\n",
       "      <td>UU</td>\n",
       "      <td>1</td>\n",
       "    </tr>\n",
       "    <tr>\n",
       "      <th>2</th>\n",
       "      <td>1999</td>\n",
       "      <td>1</td>\n",
       "      <td>1</td>\n",
       "      <td>20</td>\n",
       "      <td>2</td>\n",
       "      <td>02</td>\n",
       "      <td>34</td>\n",
       "      <td>UU</td>\n",
       "      <td>1</td>\n",
       "      <td>5</td>\n",
       "      <td>...</td>\n",
       "      <td>02</td>\n",
       "      <td>01</td>\n",
       "      <td>1987</td>\n",
       "      <td>02</td>\n",
       "      <td>F</td>\n",
       "      <td>20</td>\n",
       "      <td>13</td>\n",
       "      <td>2</td>\n",
       "      <td>02</td>\n",
       "      <td>2</td>\n",
       "    </tr>\n",
       "    <tr>\n",
       "      <th>3</th>\n",
       "      <td>1999</td>\n",
       "      <td>1</td>\n",
       "      <td>1</td>\n",
       "      <td>08</td>\n",
       "      <td>2</td>\n",
       "      <td>01</td>\n",
       "      <td>01</td>\n",
       "      <td>UU</td>\n",
       "      <td>5</td>\n",
       "      <td>3</td>\n",
       "      <td>...</td>\n",
       "      <td>01</td>\n",
       "      <td>01</td>\n",
       "      <td>1986</td>\n",
       "      <td>01</td>\n",
       "      <td>M</td>\n",
       "      <td>46</td>\n",
       "      <td>11</td>\n",
       "      <td>1</td>\n",
       "      <td>UU</td>\n",
       "      <td>1</td>\n",
       "    </tr>\n",
       "    <tr>\n",
       "      <th>4</th>\n",
       "      <td>1999</td>\n",
       "      <td>1</td>\n",
       "      <td>1</td>\n",
       "      <td>08</td>\n",
       "      <td>2</td>\n",
       "      <td>01</td>\n",
       "      <td>01</td>\n",
       "      <td>UU</td>\n",
       "      <td>5</td>\n",
       "      <td>3</td>\n",
       "      <td>...</td>\n",
       "      <td>99</td>\n",
       "      <td>NN</td>\n",
       "      <td>NNNN</td>\n",
       "      <td>01</td>\n",
       "      <td>M</td>\n",
       "      <td>05</td>\n",
       "      <td>99</td>\n",
       "      <td>2</td>\n",
       "      <td>UU</td>\n",
       "      <td>3</td>\n",
       "    </tr>\n",
       "    <tr>\n",
       "      <th>...</th>\n",
       "      <td>...</td>\n",
       "      <td>...</td>\n",
       "      <td>...</td>\n",
       "      <td>...</td>\n",
       "      <td>...</td>\n",
       "      <td>...</td>\n",
       "      <td>...</td>\n",
       "      <td>...</td>\n",
       "      <td>...</td>\n",
       "      <td>...</td>\n",
       "      <td>...</td>\n",
       "      <td>...</td>\n",
       "      <td>...</td>\n",
       "      <td>...</td>\n",
       "      <td>...</td>\n",
       "      <td>...</td>\n",
       "      <td>...</td>\n",
       "      <td>...</td>\n",
       "      <td>...</td>\n",
       "      <td>...</td>\n",
       "      <td>...</td>\n",
       "    </tr>\n",
       "    <tr>\n",
       "      <th>5860400</th>\n",
       "      <td>2014</td>\n",
       "      <td>UU</td>\n",
       "      <td>U</td>\n",
       "      <td>UU</td>\n",
       "      <td>2</td>\n",
       "      <td>UU</td>\n",
       "      <td>UU</td>\n",
       "      <td>01</td>\n",
       "      <td>U</td>\n",
       "      <td>U</td>\n",
       "      <td>...</td>\n",
       "      <td>13</td>\n",
       "      <td>07</td>\n",
       "      <td>UUUU</td>\n",
       "      <td>01</td>\n",
       "      <td>M</td>\n",
       "      <td>24</td>\n",
       "      <td>11</td>\n",
       "      <td>1</td>\n",
       "      <td>NN</td>\n",
       "      <td>1</td>\n",
       "    </tr>\n",
       "    <tr>\n",
       "      <th>5860401</th>\n",
       "      <td>2014</td>\n",
       "      <td>UU</td>\n",
       "      <td>U</td>\n",
       "      <td>23</td>\n",
       "      <td>2</td>\n",
       "      <td>01</td>\n",
       "      <td>06</td>\n",
       "      <td>05</td>\n",
       "      <td>1</td>\n",
       "      <td>1</td>\n",
       "      <td>...</td>\n",
       "      <td>1</td>\n",
       "      <td>14</td>\n",
       "      <td>2006</td>\n",
       "      <td>01</td>\n",
       "      <td>M</td>\n",
       "      <td>29</td>\n",
       "      <td>96</td>\n",
       "      <td>2</td>\n",
       "      <td>09</td>\n",
       "      <td>5</td>\n",
       "    </tr>\n",
       "    <tr>\n",
       "      <th>5860402</th>\n",
       "      <td>2014</td>\n",
       "      <td>UU</td>\n",
       "      <td>U</td>\n",
       "      <td>14</td>\n",
       "      <td>2</td>\n",
       "      <td>01</td>\n",
       "      <td>02</td>\n",
       "      <td>01</td>\n",
       "      <td>1</td>\n",
       "      <td>5</td>\n",
       "      <td>...</td>\n",
       "      <td>1</td>\n",
       "      <td>01</td>\n",
       "      <td>2006</td>\n",
       "      <td>01</td>\n",
       "      <td>F</td>\n",
       "      <td>UU</td>\n",
       "      <td>11</td>\n",
       "      <td>2</td>\n",
       "      <td>01</td>\n",
       "      <td>1</td>\n",
       "    </tr>\n",
       "    <tr>\n",
       "      <th>5860403</th>\n",
       "      <td>2014</td>\n",
       "      <td>UU</td>\n",
       "      <td>U</td>\n",
       "      <td>22</td>\n",
       "      <td>1</td>\n",
       "      <td>01</td>\n",
       "      <td>06</td>\n",
       "      <td>01</td>\n",
       "      <td>2</td>\n",
       "      <td>4</td>\n",
       "      <td>...</td>\n",
       "      <td>1</td>\n",
       "      <td>22</td>\n",
       "      <td>UUUU</td>\n",
       "      <td>01</td>\n",
       "      <td>M</td>\n",
       "      <td>67</td>\n",
       "      <td>12</td>\n",
       "      <td>3</td>\n",
       "      <td>01</td>\n",
       "      <td>U</td>\n",
       "    </tr>\n",
       "    <tr>\n",
       "      <th>5860404</th>\n",
       "      <td>2014</td>\n",
       "      <td>UU</td>\n",
       "      <td>U</td>\n",
       "      <td>22</td>\n",
       "      <td>1</td>\n",
       "      <td>01</td>\n",
       "      <td>06</td>\n",
       "      <td>01</td>\n",
       "      <td>2</td>\n",
       "      <td>4</td>\n",
       "      <td>...</td>\n",
       "      <td>1</td>\n",
       "      <td>22</td>\n",
       "      <td>UUUU</td>\n",
       "      <td>02</td>\n",
       "      <td>M</td>\n",
       "      <td>10</td>\n",
       "      <td>98</td>\n",
       "      <td>1</td>\n",
       "      <td>01</td>\n",
       "      <td>U</td>\n",
       "    </tr>\n",
       "  </tbody>\n",
       "</table>\n",
       "<p>5860405 rows × 22 columns</p>\n",
       "</div>"
      ],
      "text/plain": [
       "         C_YEAR C_MNTH C_WDAY C_HOUR  C_SEV C_VEHS C_CONF C_RCFG C_WTHR  \\\n",
       "0          1999      1      1     20      2     02     34     UU      1   \n",
       "1          1999      1      1     20      2     02     34     UU      1   \n",
       "2          1999      1      1     20      2     02     34     UU      1   \n",
       "3          1999      1      1     08      2     01     01     UU      5   \n",
       "4          1999      1      1     08      2     01     01     UU      5   \n",
       "...         ...    ...    ...    ...    ...    ...    ...    ...    ...   \n",
       "5860400    2014     UU      U     UU      2     UU     UU     01      U   \n",
       "5860401    2014     UU      U     23      2     01     06     05      1   \n",
       "5860402    2014     UU      U     14      2     01     02     01      1   \n",
       "5860403    2014     UU      U     22      1     01     06     01      2   \n",
       "5860404    2014     UU      U     22      1     01     06     01      2   \n",
       "\n",
       "        C_RSUR  ... V_ID V_TYPE V_YEAR P_ID P_SEX P_AGE P_PSN P_ISEV P_SAFE  \\\n",
       "0            5  ...   01     06   1990   01     M    41    11      1     UU   \n",
       "1            5  ...   02     01   1987   01     M    19    11      1     UU   \n",
       "2            5  ...   02     01   1987   02     F    20    13      2     02   \n",
       "3            3  ...   01     01   1986   01     M    46    11      1     UU   \n",
       "4            3  ...   99     NN   NNNN   01     M    05    99      2     UU   \n",
       "...        ...  ...  ...    ...    ...  ...   ...   ...   ...    ...    ...   \n",
       "5860400      U  ...   13     07   UUUU   01     M    24    11      1     NN   \n",
       "5860401      1  ...    1     14   2006   01     M    29    96      2     09   \n",
       "5860402      5  ...    1     01   2006   01     F    UU    11      2     01   \n",
       "5860403      4  ...    1     22   UUUU   01     M    67    12      3     01   \n",
       "5860404      4  ...    1     22   UUUU   02     M    10    98      1     01   \n",
       "\n",
       "        P_USER  \n",
       "0            1  \n",
       "1            1  \n",
       "2            2  \n",
       "3            1  \n",
       "4            3  \n",
       "...        ...  \n",
       "5860400      1  \n",
       "5860401      5  \n",
       "5860402      1  \n",
       "5860403      U  \n",
       "5860404      U  \n",
       "\n",
       "[5860405 rows x 22 columns]"
      ]
     },
     "execution_count": 3,
     "metadata": {},
     "output_type": "execute_result"
    }
   ],
   "source": [
    "db"
   ]
  },
  {
   "cell_type": "code",
   "execution_count": 4,
   "id": "fb940e29",
   "metadata": {},
   "outputs": [
    {
     "data": {
      "text/plain": [
       "Index(['C_YEAR', 'C_MNTH', 'C_WDAY', 'C_HOUR', 'C_SEV', 'C_VEHS', 'C_CONF',\n",
       "       'C_RCFG', 'C_WTHR', 'C_RSUR', 'C_RALN', 'C_TRAF', 'V_ID', 'V_TYPE',\n",
       "       'V_YEAR', 'P_ID', 'P_SEX', 'P_AGE', 'P_PSN', 'P_ISEV', 'P_SAFE',\n",
       "       'P_USER'],\n",
       "      dtype='object')"
      ]
     },
     "execution_count": 4,
     "metadata": {},
     "output_type": "execute_result"
    }
   ],
   "source": [
    "db.columns"
   ]
  },
  {
   "cell_type": "markdown",
   "id": "ebe8ed4e",
   "metadata": {},
   "source": [
    "- 'C_YEAR': Year,\n",
    "- 'C_MNTH': Month, \n",
    "- 'C_WDAY': Day of week, \n",
    "- 'C_HOUR': Collision hour, \n",
    "- 'C_SEV': Collision severity, \n",
    "- 'C_VEHS': Number of vehicles involved in collision, \n",
    "- 'C_CONF': Collision configuration,\n",
    "- 'C_RCFG': Roadway configuration, \n",
    "- 'C_WTHR': Weather condition, \n",
    "- 'C_RSUR': Road surface, \n",
    "- 'C_RALN': Road alignment, \n",
    "- 'C_TRAF': Traffic control, \n",
    "- 'V_ID': Vehicle sequence number, \n",
    "- 'V_TYPE': Vehicle type,\n",
    "- 'V_YEAR': Vehicle model year, \n",
    "- 'P_ID': Person sequence number, \n",
    "- 'P_SEX': Person sex, \n",
    "- 'P_AGE': Person age, \n",
    "- 'P_PSN': Person position, \n",
    "- 'P_ISEV': Medical treatment required, \n",
    "- 'P_SAFE': Safety device used,\n",
    "- 'P_USER': Road user class\n",
    "\n",
    "In general: *UU/U: Unknown; XX/X: Jurisdiction does not provide this data; QQ/Q: Choice is other than the preceding values; NN: data element nos applicable*"
   ]
  },
  {
   "cell_type": "markdown",
   "id": "566d866f",
   "metadata": {},
   "source": [
    "Vemos que la información se compone de las personas relacionadas con el accidente: edad, género, vehículo que conduce, datos de su accidente."
   ]
  },
  {
   "cell_type": "code",
   "execution_count": 5,
   "id": "7faa1ed8",
   "metadata": {},
   "outputs": [
    {
     "data": {
      "text/plain": [
       "C_YEAR     int64\n",
       "C_MNTH    object\n",
       "C_WDAY    object\n",
       "C_HOUR    object\n",
       "C_SEV      int64\n",
       "C_VEHS    object\n",
       "C_CONF    object\n",
       "C_RCFG    object\n",
       "C_WTHR    object\n",
       "C_RSUR    object\n",
       "C_RALN    object\n",
       "C_TRAF    object\n",
       "V_ID      object\n",
       "V_TYPE    object\n",
       "V_YEAR    object\n",
       "P_ID      object\n",
       "P_SEX     object\n",
       "P_AGE     object\n",
       "P_PSN     object\n",
       "P_ISEV    object\n",
       "P_SAFE    object\n",
       "P_USER    object\n",
       "dtype: object"
      ]
     },
     "execution_count": 5,
     "metadata": {},
     "output_type": "execute_result"
    }
   ],
   "source": [
    "db.dtypes"
   ]
  },
  {
   "cell_type": "markdown",
   "id": "1d86aff9",
   "metadata": {},
   "source": [
    "El hecho de que existan variables no conocidas (U), no especificadas (X), no definida (Q) causa que la mayoría de las variables sean de tipo object, a pesar de estar mayoritariamente compuesta por números."
   ]
  },
  {
   "cell_type": "code",
   "execution_count": 59,
   "id": "0e2f5ea0",
   "metadata": {},
   "outputs": [
    {
     "name": "stdout",
     "output_type": "stream",
     "text": [
      "Variables numéricas  ['C_YEAR', 'C_SEV']\n",
      "Variables categóricas:  ['C_MNTH', 'C_WDAY', 'C_HOUR', 'C_VEHS', 'C_CONF', 'C_RCFG', 'C_WTHR', 'C_RSUR', 'C_RALN', 'C_TRAF', 'V_ID', 'V_TYPE', 'V_YEAR', 'P_ID', 'P_SEX', 'P_AGE', 'P_PSN', 'P_ISEV', 'P_SAFE', 'P_USER']\n"
     ]
    }
   ],
   "source": [
    "#diferenciamos numéricas de categóricas\n",
    "numerical_var = (db.dtypes[db.dtypes!='object'].index.to_list())\n",
    "categorical_var = (db.dtypes[db.dtypes=='object'].index.to_list())\n",
    "\n",
    "print('Variables numéricas ', numerical_var)\n",
    "print('Variables categóricas: ', categorical_var)"
   ]
  },
  {
   "cell_type": "code",
   "execution_count": 60,
   "id": "2d76d40f",
   "metadata": {},
   "outputs": [],
   "source": [
    "# Valores sin información: cambiar\n",
    "cambio_Q = ['Q', 'QQ', 'QQQQ']\n",
    "cambio_N = ['N', 'NN', 'NNNN']\n",
    "cambio_U = ['U', 'UU', 'UUUU']\n",
    "cambio_X = ['X', 'XX', 'XXXX']"
   ]
  },
  {
   "cell_type": "code",
   "execution_count": 61,
   "id": "b1e91494",
   "metadata": {},
   "outputs": [],
   "source": [
    "db[categorical_var] = db[categorical_var].replace(cambio_Q, 0)\n",
    "db[categorical_var] = db[categorical_var].replace(cambio_N, 0)\n",
    "db[categorical_var] = db[categorical_var].replace(cambio_U, 0)\n",
    "db[categorical_var] = db[categorical_var].replace(cambio_X, 0)"
   ]
  },
  {
   "cell_type": "code",
   "execution_count": 85,
   "id": "3f3e6e6e",
   "metadata": {},
   "outputs": [
    {
     "data": {
      "text/plain": [
       "C_VEHS    3\n",
       "C_YEAR    0\n",
       "V_ID      0\n",
       "P_SAFE    0\n",
       "P_ISEV    0\n",
       "dtype: int64"
      ]
     },
     "execution_count": 85,
     "metadata": {},
     "output_type": "execute_result"
    }
   ],
   "source": [
    "db.isnull().sum().sort_values(ascending = False).head()"
   ]
  },
  {
   "cell_type": "code",
   "execution_count": 94,
   "id": "73bc83bf",
   "metadata": {},
   "outputs": [],
   "source": [
    "db2 = db.dropna()"
   ]
  },
  {
   "cell_type": "code",
   "execution_count": 97,
   "id": "571aa944",
   "metadata": {},
   "outputs": [
    {
     "data": {
      "text/html": [
       "<div>\n",
       "<style scoped>\n",
       "    .dataframe tbody tr th:only-of-type {\n",
       "        vertical-align: middle;\n",
       "    }\n",
       "\n",
       "    .dataframe tbody tr th {\n",
       "        vertical-align: top;\n",
       "    }\n",
       "\n",
       "    .dataframe thead th {\n",
       "        text-align: right;\n",
       "    }\n",
       "</style>\n",
       "<table border=\"1\" class=\"dataframe\">\n",
       "  <thead>\n",
       "    <tr style=\"text-align: right;\">\n",
       "      <th></th>\n",
       "      <th>C_YEAR</th>\n",
       "      <th>C_MNTH</th>\n",
       "      <th>C_WDAY</th>\n",
       "      <th>C_HOUR</th>\n",
       "      <th>C_SEV</th>\n",
       "      <th>C_VEHS</th>\n",
       "      <th>C_CONF</th>\n",
       "      <th>C_RCFG</th>\n",
       "      <th>C_WTHR</th>\n",
       "      <th>C_RSUR</th>\n",
       "      <th>...</th>\n",
       "      <th>V_ID</th>\n",
       "      <th>V_TYPE</th>\n",
       "      <th>V_YEAR</th>\n",
       "      <th>P_ID</th>\n",
       "      <th>P_SEX</th>\n",
       "      <th>P_AGE</th>\n",
       "      <th>P_PSN</th>\n",
       "      <th>P_ISEV</th>\n",
       "      <th>P_SAFE</th>\n",
       "      <th>P_USER</th>\n",
       "    </tr>\n",
       "  </thead>\n",
       "  <tbody>\n",
       "    <tr>\n",
       "      <th>0</th>\n",
       "      <td>1999</td>\n",
       "      <td>1</td>\n",
       "      <td>1</td>\n",
       "      <td>20</td>\n",
       "      <td>2</td>\n",
       "      <td>02</td>\n",
       "      <td>34</td>\n",
       "      <td>0</td>\n",
       "      <td>1</td>\n",
       "      <td>5</td>\n",
       "      <td>...</td>\n",
       "      <td>01</td>\n",
       "      <td>06</td>\n",
       "      <td>1990</td>\n",
       "      <td>01</td>\n",
       "      <td>M</td>\n",
       "      <td>41</td>\n",
       "      <td>11</td>\n",
       "      <td>1</td>\n",
       "      <td>0</td>\n",
       "      <td>1</td>\n",
       "    </tr>\n",
       "    <tr>\n",
       "      <th>1</th>\n",
       "      <td>1999</td>\n",
       "      <td>1</td>\n",
       "      <td>1</td>\n",
       "      <td>20</td>\n",
       "      <td>2</td>\n",
       "      <td>02</td>\n",
       "      <td>34</td>\n",
       "      <td>0</td>\n",
       "      <td>1</td>\n",
       "      <td>5</td>\n",
       "      <td>...</td>\n",
       "      <td>02</td>\n",
       "      <td>01</td>\n",
       "      <td>1987</td>\n",
       "      <td>01</td>\n",
       "      <td>M</td>\n",
       "      <td>19</td>\n",
       "      <td>11</td>\n",
       "      <td>1</td>\n",
       "      <td>0</td>\n",
       "      <td>1</td>\n",
       "    </tr>\n",
       "    <tr>\n",
       "      <th>2</th>\n",
       "      <td>1999</td>\n",
       "      <td>1</td>\n",
       "      <td>1</td>\n",
       "      <td>20</td>\n",
       "      <td>2</td>\n",
       "      <td>02</td>\n",
       "      <td>34</td>\n",
       "      <td>0</td>\n",
       "      <td>1</td>\n",
       "      <td>5</td>\n",
       "      <td>...</td>\n",
       "      <td>02</td>\n",
       "      <td>01</td>\n",
       "      <td>1987</td>\n",
       "      <td>02</td>\n",
       "      <td>F</td>\n",
       "      <td>20</td>\n",
       "      <td>13</td>\n",
       "      <td>2</td>\n",
       "      <td>02</td>\n",
       "      <td>2</td>\n",
       "    </tr>\n",
       "    <tr>\n",
       "      <th>3</th>\n",
       "      <td>1999</td>\n",
       "      <td>1</td>\n",
       "      <td>1</td>\n",
       "      <td>08</td>\n",
       "      <td>2</td>\n",
       "      <td>01</td>\n",
       "      <td>01</td>\n",
       "      <td>0</td>\n",
       "      <td>5</td>\n",
       "      <td>3</td>\n",
       "      <td>...</td>\n",
       "      <td>01</td>\n",
       "      <td>01</td>\n",
       "      <td>1986</td>\n",
       "      <td>01</td>\n",
       "      <td>M</td>\n",
       "      <td>46</td>\n",
       "      <td>11</td>\n",
       "      <td>1</td>\n",
       "      <td>0</td>\n",
       "      <td>1</td>\n",
       "    </tr>\n",
       "    <tr>\n",
       "      <th>4</th>\n",
       "      <td>1999</td>\n",
       "      <td>1</td>\n",
       "      <td>1</td>\n",
       "      <td>08</td>\n",
       "      <td>2</td>\n",
       "      <td>01</td>\n",
       "      <td>01</td>\n",
       "      <td>0</td>\n",
       "      <td>5</td>\n",
       "      <td>3</td>\n",
       "      <td>...</td>\n",
       "      <td>99</td>\n",
       "      <td>0</td>\n",
       "      <td>0</td>\n",
       "      <td>01</td>\n",
       "      <td>M</td>\n",
       "      <td>05</td>\n",
       "      <td>99</td>\n",
       "      <td>2</td>\n",
       "      <td>0</td>\n",
       "      <td>3</td>\n",
       "    </tr>\n",
       "    <tr>\n",
       "      <th>...</th>\n",
       "      <td>...</td>\n",
       "      <td>...</td>\n",
       "      <td>...</td>\n",
       "      <td>...</td>\n",
       "      <td>...</td>\n",
       "      <td>...</td>\n",
       "      <td>...</td>\n",
       "      <td>...</td>\n",
       "      <td>...</td>\n",
       "      <td>...</td>\n",
       "      <td>...</td>\n",
       "      <td>...</td>\n",
       "      <td>...</td>\n",
       "      <td>...</td>\n",
       "      <td>...</td>\n",
       "      <td>...</td>\n",
       "      <td>...</td>\n",
       "      <td>...</td>\n",
       "      <td>...</td>\n",
       "      <td>...</td>\n",
       "      <td>...</td>\n",
       "    </tr>\n",
       "    <tr>\n",
       "      <th>5860400</th>\n",
       "      <td>2014</td>\n",
       "      <td>0</td>\n",
       "      <td>0</td>\n",
       "      <td>0</td>\n",
       "      <td>2</td>\n",
       "      <td>0</td>\n",
       "      <td>0</td>\n",
       "      <td>01</td>\n",
       "      <td>0</td>\n",
       "      <td>0</td>\n",
       "      <td>...</td>\n",
       "      <td>13</td>\n",
       "      <td>07</td>\n",
       "      <td>0</td>\n",
       "      <td>01</td>\n",
       "      <td>M</td>\n",
       "      <td>24</td>\n",
       "      <td>11</td>\n",
       "      <td>1</td>\n",
       "      <td>0</td>\n",
       "      <td>1</td>\n",
       "    </tr>\n",
       "    <tr>\n",
       "      <th>5860401</th>\n",
       "      <td>2014</td>\n",
       "      <td>0</td>\n",
       "      <td>0</td>\n",
       "      <td>23</td>\n",
       "      <td>2</td>\n",
       "      <td>01</td>\n",
       "      <td>06</td>\n",
       "      <td>05</td>\n",
       "      <td>1</td>\n",
       "      <td>1</td>\n",
       "      <td>...</td>\n",
       "      <td>1</td>\n",
       "      <td>14</td>\n",
       "      <td>2006</td>\n",
       "      <td>01</td>\n",
       "      <td>M</td>\n",
       "      <td>29</td>\n",
       "      <td>96</td>\n",
       "      <td>2</td>\n",
       "      <td>09</td>\n",
       "      <td>5</td>\n",
       "    </tr>\n",
       "    <tr>\n",
       "      <th>5860402</th>\n",
       "      <td>2014</td>\n",
       "      <td>0</td>\n",
       "      <td>0</td>\n",
       "      <td>14</td>\n",
       "      <td>2</td>\n",
       "      <td>01</td>\n",
       "      <td>02</td>\n",
       "      <td>01</td>\n",
       "      <td>1</td>\n",
       "      <td>5</td>\n",
       "      <td>...</td>\n",
       "      <td>1</td>\n",
       "      <td>01</td>\n",
       "      <td>2006</td>\n",
       "      <td>01</td>\n",
       "      <td>F</td>\n",
       "      <td>0</td>\n",
       "      <td>11</td>\n",
       "      <td>2</td>\n",
       "      <td>01</td>\n",
       "      <td>1</td>\n",
       "    </tr>\n",
       "    <tr>\n",
       "      <th>5860403</th>\n",
       "      <td>2014</td>\n",
       "      <td>0</td>\n",
       "      <td>0</td>\n",
       "      <td>22</td>\n",
       "      <td>1</td>\n",
       "      <td>01</td>\n",
       "      <td>06</td>\n",
       "      <td>01</td>\n",
       "      <td>2</td>\n",
       "      <td>4</td>\n",
       "      <td>...</td>\n",
       "      <td>1</td>\n",
       "      <td>22</td>\n",
       "      <td>0</td>\n",
       "      <td>01</td>\n",
       "      <td>M</td>\n",
       "      <td>67</td>\n",
       "      <td>12</td>\n",
       "      <td>3</td>\n",
       "      <td>01</td>\n",
       "      <td>0</td>\n",
       "    </tr>\n",
       "    <tr>\n",
       "      <th>5860404</th>\n",
       "      <td>2014</td>\n",
       "      <td>0</td>\n",
       "      <td>0</td>\n",
       "      <td>22</td>\n",
       "      <td>1</td>\n",
       "      <td>01</td>\n",
       "      <td>06</td>\n",
       "      <td>01</td>\n",
       "      <td>2</td>\n",
       "      <td>4</td>\n",
       "      <td>...</td>\n",
       "      <td>1</td>\n",
       "      <td>22</td>\n",
       "      <td>0</td>\n",
       "      <td>02</td>\n",
       "      <td>M</td>\n",
       "      <td>10</td>\n",
       "      <td>98</td>\n",
       "      <td>1</td>\n",
       "      <td>01</td>\n",
       "      <td>0</td>\n",
       "    </tr>\n",
       "  </tbody>\n",
       "</table>\n",
       "<p>5860402 rows × 22 columns</p>\n",
       "</div>"
      ],
      "text/plain": [
       "         C_YEAR C_MNTH C_WDAY C_HOUR  C_SEV C_VEHS C_CONF C_RCFG C_WTHR  \\\n",
       "0          1999      1      1     20      2     02     34      0      1   \n",
       "1          1999      1      1     20      2     02     34      0      1   \n",
       "2          1999      1      1     20      2     02     34      0      1   \n",
       "3          1999      1      1     08      2     01     01      0      5   \n",
       "4          1999      1      1     08      2     01     01      0      5   \n",
       "...         ...    ...    ...    ...    ...    ...    ...    ...    ...   \n",
       "5860400    2014      0      0      0      2      0      0     01      0   \n",
       "5860401    2014      0      0     23      2     01     06     05      1   \n",
       "5860402    2014      0      0     14      2     01     02     01      1   \n",
       "5860403    2014      0      0     22      1     01     06     01      2   \n",
       "5860404    2014      0      0     22      1     01     06     01      2   \n",
       "\n",
       "        C_RSUR  ... V_ID V_TYPE V_YEAR P_ID P_SEX P_AGE P_PSN P_ISEV P_SAFE  \\\n",
       "0            5  ...   01     06   1990   01     M    41    11      1      0   \n",
       "1            5  ...   02     01   1987   01     M    19    11      1      0   \n",
       "2            5  ...   02     01   1987   02     F    20    13      2     02   \n",
       "3            3  ...   01     01   1986   01     M    46    11      1      0   \n",
       "4            3  ...   99      0      0   01     M    05    99      2      0   \n",
       "...        ...  ...  ...    ...    ...  ...   ...   ...   ...    ...    ...   \n",
       "5860400      0  ...   13     07      0   01     M    24    11      1      0   \n",
       "5860401      1  ...    1     14   2006   01     M    29    96      2     09   \n",
       "5860402      5  ...    1     01   2006   01     F     0    11      2     01   \n",
       "5860403      4  ...    1     22      0   01     M    67    12      3     01   \n",
       "5860404      4  ...    1     22      0   02     M    10    98      1     01   \n",
       "\n",
       "        P_USER  \n",
       "0            1  \n",
       "1            1  \n",
       "2            2  \n",
       "3            1  \n",
       "4            3  \n",
       "...        ...  \n",
       "5860400      1  \n",
       "5860401      5  \n",
       "5860402      1  \n",
       "5860403      0  \n",
       "5860404      0  \n",
       "\n",
       "[5860402 rows x 22 columns]"
      ]
     },
     "execution_count": 97,
     "metadata": {},
     "output_type": "execute_result"
    }
   ],
   "source": [
    "db2"
   ]
  },
  {
   "cell_type": "markdown",
   "id": "c582b7d5",
   "metadata": {},
   "source": [
    "### ¿Qué tipos de vehículos (modelos, antigüedad, etc.) y conductores son más propensos a tener accidentes (acción correctiva en prima)? \n",
    "### ¿Qué tipos de vehículos (modelos, antigüedad, etc.) y conductores son menos propensos a tener accidentes (descuento en prima)?"
   ]
  },
  {
   "cell_type": "markdown",
   "id": "813ab7fb",
   "metadata": {},
   "source": [
    "Para saber que vehículos y conductores son más (o menos) propensos a tener accidentes tendremos que filtrar la variable **P_PSN** *Person position* a 11 (*Driver* - Conductor). Esto también reducirá el número de vehículos pero consideramos que esto es adecuado ya que en esta base de datos el mismo vehículo puede aparecer más veces para el mismo accidente (más de una persona involucrada), por lo que los coches más propensos a tener accidentes no serían completamente precisos."
   ]
  },
  {
   "cell_type": "code",
   "execution_count": 62,
   "id": "d06d32d6",
   "metadata": {},
   "outputs": [],
   "source": [
    "prueba = db"
   ]
  },
  {
   "cell_type": "code",
   "execution_count": 63,
   "id": "d2b93673",
   "metadata": {},
   "outputs": [],
   "source": [
    "# Quitar comillas al 11 cuando en un ejercicio anterior hayamos cambiado P_PSN a numeric\n",
    "pruebafilt = prueba[prueba['P_PSN'] == \"11\"]  "
   ]
  },
  {
   "cell_type": "code",
   "execution_count": 64,
   "id": "591a5cc0",
   "metadata": {},
   "outputs": [
    {
     "data": {
      "text/html": [
       "<div>\n",
       "<style scoped>\n",
       "    .dataframe tbody tr th:only-of-type {\n",
       "        vertical-align: middle;\n",
       "    }\n",
       "\n",
       "    .dataframe tbody tr th {\n",
       "        vertical-align: top;\n",
       "    }\n",
       "\n",
       "    .dataframe thead th {\n",
       "        text-align: right;\n",
       "    }\n",
       "</style>\n",
       "<table border=\"1\" class=\"dataframe\">\n",
       "  <thead>\n",
       "    <tr style=\"text-align: right;\">\n",
       "      <th></th>\n",
       "      <th>C_YEAR</th>\n",
       "      <th>C_MNTH</th>\n",
       "      <th>C_WDAY</th>\n",
       "      <th>C_HOUR</th>\n",
       "      <th>C_SEV</th>\n",
       "      <th>C_VEHS</th>\n",
       "      <th>C_CONF</th>\n",
       "      <th>C_RCFG</th>\n",
       "      <th>C_WTHR</th>\n",
       "      <th>C_RSUR</th>\n",
       "      <th>...</th>\n",
       "      <th>V_ID</th>\n",
       "      <th>V_TYPE</th>\n",
       "      <th>V_YEAR</th>\n",
       "      <th>P_ID</th>\n",
       "      <th>P_SEX</th>\n",
       "      <th>P_AGE</th>\n",
       "      <th>P_PSN</th>\n",
       "      <th>P_ISEV</th>\n",
       "      <th>P_SAFE</th>\n",
       "      <th>P_USER</th>\n",
       "    </tr>\n",
       "  </thead>\n",
       "  <tbody>\n",
       "    <tr>\n",
       "      <th>0</th>\n",
       "      <td>1999</td>\n",
       "      <td>1</td>\n",
       "      <td>1</td>\n",
       "      <td>20</td>\n",
       "      <td>2</td>\n",
       "      <td>02</td>\n",
       "      <td>34</td>\n",
       "      <td>0</td>\n",
       "      <td>1</td>\n",
       "      <td>5</td>\n",
       "      <td>...</td>\n",
       "      <td>01</td>\n",
       "      <td>06</td>\n",
       "      <td>1990</td>\n",
       "      <td>01</td>\n",
       "      <td>M</td>\n",
       "      <td>41</td>\n",
       "      <td>11</td>\n",
       "      <td>1</td>\n",
       "      <td>0</td>\n",
       "      <td>1</td>\n",
       "    </tr>\n",
       "    <tr>\n",
       "      <th>1</th>\n",
       "      <td>1999</td>\n",
       "      <td>1</td>\n",
       "      <td>1</td>\n",
       "      <td>20</td>\n",
       "      <td>2</td>\n",
       "      <td>02</td>\n",
       "      <td>34</td>\n",
       "      <td>0</td>\n",
       "      <td>1</td>\n",
       "      <td>5</td>\n",
       "      <td>...</td>\n",
       "      <td>02</td>\n",
       "      <td>01</td>\n",
       "      <td>1987</td>\n",
       "      <td>01</td>\n",
       "      <td>M</td>\n",
       "      <td>19</td>\n",
       "      <td>11</td>\n",
       "      <td>1</td>\n",
       "      <td>0</td>\n",
       "      <td>1</td>\n",
       "    </tr>\n",
       "    <tr>\n",
       "      <th>3</th>\n",
       "      <td>1999</td>\n",
       "      <td>1</td>\n",
       "      <td>1</td>\n",
       "      <td>08</td>\n",
       "      <td>2</td>\n",
       "      <td>01</td>\n",
       "      <td>01</td>\n",
       "      <td>0</td>\n",
       "      <td>5</td>\n",
       "      <td>3</td>\n",
       "      <td>...</td>\n",
       "      <td>01</td>\n",
       "      <td>01</td>\n",
       "      <td>1986</td>\n",
       "      <td>01</td>\n",
       "      <td>M</td>\n",
       "      <td>46</td>\n",
       "      <td>11</td>\n",
       "      <td>1</td>\n",
       "      <td>0</td>\n",
       "      <td>1</td>\n",
       "    </tr>\n",
       "    <tr>\n",
       "      <th>5</th>\n",
       "      <td>1999</td>\n",
       "      <td>1</td>\n",
       "      <td>1</td>\n",
       "      <td>17</td>\n",
       "      <td>2</td>\n",
       "      <td>03</td>\n",
       "      <td>0</td>\n",
       "      <td>0</td>\n",
       "      <td>1</td>\n",
       "      <td>2</td>\n",
       "      <td>...</td>\n",
       "      <td>01</td>\n",
       "      <td>01</td>\n",
       "      <td>1984</td>\n",
       "      <td>01</td>\n",
       "      <td>M</td>\n",
       "      <td>28</td>\n",
       "      <td>11</td>\n",
       "      <td>1</td>\n",
       "      <td>0</td>\n",
       "      <td>1</td>\n",
       "    </tr>\n",
       "    <tr>\n",
       "      <th>6</th>\n",
       "      <td>1999</td>\n",
       "      <td>1</td>\n",
       "      <td>1</td>\n",
       "      <td>17</td>\n",
       "      <td>2</td>\n",
       "      <td>03</td>\n",
       "      <td>0</td>\n",
       "      <td>0</td>\n",
       "      <td>1</td>\n",
       "      <td>2</td>\n",
       "      <td>...</td>\n",
       "      <td>02</td>\n",
       "      <td>01</td>\n",
       "      <td>1991</td>\n",
       "      <td>01</td>\n",
       "      <td>M</td>\n",
       "      <td>21</td>\n",
       "      <td>11</td>\n",
       "      <td>1</td>\n",
       "      <td>0</td>\n",
       "      <td>1</td>\n",
       "    </tr>\n",
       "    <tr>\n",
       "      <th>...</th>\n",
       "      <td>...</td>\n",
       "      <td>...</td>\n",
       "      <td>...</td>\n",
       "      <td>...</td>\n",
       "      <td>...</td>\n",
       "      <td>...</td>\n",
       "      <td>...</td>\n",
       "      <td>...</td>\n",
       "      <td>...</td>\n",
       "      <td>...</td>\n",
       "      <td>...</td>\n",
       "      <td>...</td>\n",
       "      <td>...</td>\n",
       "      <td>...</td>\n",
       "      <td>...</td>\n",
       "      <td>...</td>\n",
       "      <td>...</td>\n",
       "      <td>...</td>\n",
       "      <td>...</td>\n",
       "      <td>...</td>\n",
       "      <td>...</td>\n",
       "    </tr>\n",
       "    <tr>\n",
       "      <th>5860397</th>\n",
       "      <td>2014</td>\n",
       "      <td>0</td>\n",
       "      <td>0</td>\n",
       "      <td>0</td>\n",
       "      <td>2</td>\n",
       "      <td>0</td>\n",
       "      <td>0</td>\n",
       "      <td>01</td>\n",
       "      <td>0</td>\n",
       "      <td>0</td>\n",
       "      <td>...</td>\n",
       "      <td>10</td>\n",
       "      <td>01</td>\n",
       "      <td>0</td>\n",
       "      <td>01</td>\n",
       "      <td>F</td>\n",
       "      <td>79</td>\n",
       "      <td>11</td>\n",
       "      <td>1</td>\n",
       "      <td>0</td>\n",
       "      <td>1</td>\n",
       "    </tr>\n",
       "    <tr>\n",
       "      <th>5860398</th>\n",
       "      <td>2014</td>\n",
       "      <td>0</td>\n",
       "      <td>0</td>\n",
       "      <td>0</td>\n",
       "      <td>2</td>\n",
       "      <td>0</td>\n",
       "      <td>0</td>\n",
       "      <td>01</td>\n",
       "      <td>0</td>\n",
       "      <td>0</td>\n",
       "      <td>...</td>\n",
       "      <td>11</td>\n",
       "      <td>01</td>\n",
       "      <td>0</td>\n",
       "      <td>01</td>\n",
       "      <td>F</td>\n",
       "      <td>20</td>\n",
       "      <td>11</td>\n",
       "      <td>1</td>\n",
       "      <td>0</td>\n",
       "      <td>1</td>\n",
       "    </tr>\n",
       "    <tr>\n",
       "      <th>5860399</th>\n",
       "      <td>2014</td>\n",
       "      <td>0</td>\n",
       "      <td>0</td>\n",
       "      <td>0</td>\n",
       "      <td>2</td>\n",
       "      <td>0</td>\n",
       "      <td>0</td>\n",
       "      <td>01</td>\n",
       "      <td>0</td>\n",
       "      <td>0</td>\n",
       "      <td>...</td>\n",
       "      <td>12</td>\n",
       "      <td>01</td>\n",
       "      <td>0</td>\n",
       "      <td>01</td>\n",
       "      <td>F</td>\n",
       "      <td>47</td>\n",
       "      <td>11</td>\n",
       "      <td>1</td>\n",
       "      <td>0</td>\n",
       "      <td>1</td>\n",
       "    </tr>\n",
       "    <tr>\n",
       "      <th>5860400</th>\n",
       "      <td>2014</td>\n",
       "      <td>0</td>\n",
       "      <td>0</td>\n",
       "      <td>0</td>\n",
       "      <td>2</td>\n",
       "      <td>0</td>\n",
       "      <td>0</td>\n",
       "      <td>01</td>\n",
       "      <td>0</td>\n",
       "      <td>0</td>\n",
       "      <td>...</td>\n",
       "      <td>13</td>\n",
       "      <td>07</td>\n",
       "      <td>0</td>\n",
       "      <td>01</td>\n",
       "      <td>M</td>\n",
       "      <td>24</td>\n",
       "      <td>11</td>\n",
       "      <td>1</td>\n",
       "      <td>0</td>\n",
       "      <td>1</td>\n",
       "    </tr>\n",
       "    <tr>\n",
       "      <th>5860402</th>\n",
       "      <td>2014</td>\n",
       "      <td>0</td>\n",
       "      <td>0</td>\n",
       "      <td>14</td>\n",
       "      <td>2</td>\n",
       "      <td>01</td>\n",
       "      <td>02</td>\n",
       "      <td>01</td>\n",
       "      <td>1</td>\n",
       "      <td>5</td>\n",
       "      <td>...</td>\n",
       "      <td>1</td>\n",
       "      <td>01</td>\n",
       "      <td>2006</td>\n",
       "      <td>01</td>\n",
       "      <td>F</td>\n",
       "      <td>0</td>\n",
       "      <td>11</td>\n",
       "      <td>2</td>\n",
       "      <td>01</td>\n",
       "      <td>1</td>\n",
       "    </tr>\n",
       "  </tbody>\n",
       "</table>\n",
       "<p>3926086 rows × 22 columns</p>\n",
       "</div>"
      ],
      "text/plain": [
       "         C_YEAR C_MNTH C_WDAY C_HOUR  C_SEV C_VEHS C_CONF C_RCFG C_WTHR  \\\n",
       "0          1999      1      1     20      2     02     34      0      1   \n",
       "1          1999      1      1     20      2     02     34      0      1   \n",
       "3          1999      1      1     08      2     01     01      0      5   \n",
       "5          1999      1      1     17      2     03      0      0      1   \n",
       "6          1999      1      1     17      2     03      0      0      1   \n",
       "...         ...    ...    ...    ...    ...    ...    ...    ...    ...   \n",
       "5860397    2014      0      0      0      2      0      0     01      0   \n",
       "5860398    2014      0      0      0      2      0      0     01      0   \n",
       "5860399    2014      0      0      0      2      0      0     01      0   \n",
       "5860400    2014      0      0      0      2      0      0     01      0   \n",
       "5860402    2014      0      0     14      2     01     02     01      1   \n",
       "\n",
       "        C_RSUR  ... V_ID V_TYPE V_YEAR P_ID P_SEX P_AGE P_PSN P_ISEV P_SAFE  \\\n",
       "0            5  ...   01     06   1990   01     M    41    11      1      0   \n",
       "1            5  ...   02     01   1987   01     M    19    11      1      0   \n",
       "3            3  ...   01     01   1986   01     M    46    11      1      0   \n",
       "5            2  ...   01     01   1984   01     M    28    11      1      0   \n",
       "6            2  ...   02     01   1991   01     M    21    11      1      0   \n",
       "...        ...  ...  ...    ...    ...  ...   ...   ...   ...    ...    ...   \n",
       "5860397      0  ...   10     01      0   01     F    79    11      1      0   \n",
       "5860398      0  ...   11     01      0   01     F    20    11      1      0   \n",
       "5860399      0  ...   12     01      0   01     F    47    11      1      0   \n",
       "5860400      0  ...   13     07      0   01     M    24    11      1      0   \n",
       "5860402      5  ...    1     01   2006   01     F     0    11      2     01   \n",
       "\n",
       "        P_USER  \n",
       "0            1  \n",
       "1            1  \n",
       "3            1  \n",
       "5            1  \n",
       "6            1  \n",
       "...        ...  \n",
       "5860397      1  \n",
       "5860398      1  \n",
       "5860399      1  \n",
       "5860400      1  \n",
       "5860402      1  \n",
       "\n",
       "[3926086 rows x 22 columns]"
      ]
     },
     "execution_count": 64,
     "metadata": {},
     "output_type": "execute_result"
    }
   ],
   "source": [
    "pruebafilt"
   ]
  },
  {
   "cell_type": "markdown",
   "id": "b4dc0c5e",
   "metadata": {},
   "source": [
    "Datos de personas:\n",
    "'P_ID': Person sequence number,\n",
    "'P_SEX': Person sex,\n",
    "'P_AGE': Person age"
   ]
  },
  {
   "cell_type": "code",
   "execution_count": 65,
   "id": "08c7eea2",
   "metadata": {},
   "outputs": [
    {
     "data": {
      "text/plain": [
       "01    3899480\n",
       "02      19728\n",
       "03       4312\n",
       "04       1528\n",
       "05        570\n",
       "Name: P_ID, dtype: int64"
      ]
     },
     "execution_count": 65,
     "metadata": {},
     "output_type": "execute_result"
    }
   ],
   "source": [
    "pruebafilt[\"P_ID\"].value_counts().head()"
   ]
  },
  {
   "cell_type": "code",
   "execution_count": 66,
   "id": "6dd9b8dc",
   "metadata": {},
   "outputs": [
    {
     "data": {
      "text/plain": [
       "M    2355082\n",
       "F    1413370\n",
       "0     157634\n",
       "Name: P_SEX, dtype: int64"
      ]
     },
     "execution_count": 66,
     "metadata": {},
     "output_type": "execute_result"
    }
   ],
   "source": [
    "pruebafilt['P_SEX'].value_counts()"
   ]
  },
  {
   "cell_type": "code",
   "execution_count": 67,
   "id": "3b216e12",
   "metadata": {},
   "outputs": [
    {
     "name": "stdout",
     "output_type": "stream",
     "text": [
      "M    2355082\n",
      "F    1413370\n",
      "0     157634\n",
      "Name: P_SEX, dtype: int64\n"
     ]
    },
    {
     "data": {
      "text/plain": [
       "<AxesSubplot:title={'center':'Accidentes por género'}>"
      ]
     },
     "execution_count": 67,
     "metadata": {},
     "output_type": "execute_result"
    },
    {
     "data": {
      "image/png": "[encoded data removed]",
      "text/plain": [
       "<Figure size 432x288 with 1 Axes>"
      ]
     },
     "metadata": {
      "needs_background": "light"
     },
     "output_type": "display_data"
    }
   ],
   "source": [
    "elimsex = pruebafilt[pruebafilt['P_SEX'] != \"U\"] \n",
    "elimsex = elimsex[elimsex['P_SEX'] != \"N\"]  \n",
    "print(elimsex['P_SEX'].value_counts())\n",
    "elimsex['P_SEX'].value_counts().sort_values().plot(kind = 'barh', title=\"Accidentes por género\")"
   ]
  },
  {
   "cell_type": "code",
   "execution_count": 68,
   "id": "6ec2d448",
   "metadata": {},
   "outputs": [
    {
     "data": {
      "text/plain": [
       "0     209207\n",
       "19    106282\n",
       "18    105127\n",
       "20    103124\n",
       "21     99183\n",
       "Name: P_AGE, dtype: int64"
      ]
     },
     "execution_count": 68,
     "metadata": {},
     "output_type": "execute_result"
    }
   ],
   "source": [
    "pruebafilt['P_AGE'].value_counts().head()"
   ]
  },
  {
   "cell_type": "code",
   "execution_count": 69,
   "id": "361680d1",
   "metadata": {},
   "outputs": [
    {
     "name": "stdout",
     "output_type": "stream",
     "text": [
      "0     209207\n",
      "19    106282\n",
      "18    105127\n",
      "20    103124\n",
      "21     99183\n",
      "       ...  \n",
      "03        72\n",
      "96        67\n",
      "02        66\n",
      "98        40\n",
      "97        26\n",
      "Name: P_AGE, Length: 100, dtype: int64\n"
     ]
    },
    {
     "data": {
      "text/plain": [
       "<AxesSubplot:title={'center':'Accidentes por edad'}>"
      ]
     },
     "execution_count": 69,
     "metadata": {},
     "output_type": "execute_result"
    },
    {
     "data": {
      "image/png": "[encoded data removed]",
      "text/plain": [
       "<Figure size 432x288 with 1 Axes>"
      ]
     },
     "metadata": {
      "needs_background": "light"
     },
     "output_type": "display_data"
    }
   ],
   "source": [
    "elimage = pruebafilt[pruebafilt['P_AGE'] != \"UU\"] \n",
    "elimage = elimage[elimage['P_AGE'] != \"N\"]  \n",
    "print(elimage['P_AGE'].value_counts())\n",
    "elimage['P_AGE'].value_counts().sort_values(ascending=False).plot(title=\"Accidentes por edad\")"
   ]
  },
  {
   "cell_type": "markdown",
   "id": "00cac354",
   "metadata": {},
   "source": [
    "Datos de coches: 'V_ID': Vehicle sequence number,\n",
    "'V_TYPE': Vehicle type,\n",
    "'V_YEAR': Vehicle model year,"
   ]
  },
  {
   "cell_type": "code",
   "execution_count": 70,
   "id": "a6646147",
   "metadata": {},
   "outputs": [],
   "source": [
    "elim1 = pruebafilt[pruebafilt['V_TYPE'] != \"UU\"] \n",
    "elim1 = elim1[elim1['V_TYPE'] != \"XX\"]  \n",
    "elim1 = elim1[elim1['V_TYPE'] != \"NN\"] \n",
    "elim1[\"V_TYPE\"].replace({\"QQ\": \"24\"}, inplace=True)"
   ]
  },
  {
   "cell_type": "code",
   "execution_count": 71,
   "id": "6c6eac44",
   "metadata": {},
   "outputs": [
    {
     "data": {
      "text/plain": [
       "01    3316715\n",
       "06     122285\n",
       "17     106822\n",
       "14      94194\n",
       "07      73832\n",
       "08      63895\n",
       "0       49989\n",
       "05      45836\n",
       "11      24862\n",
       "09       7044\n",
       "20       6627\n",
       "16       5095\n",
       "22       3092\n",
       "23       1855\n",
       "18       1739\n",
       "19       1440\n",
       "21        401\n",
       "10        363\n",
       "Name: V_TYPE, dtype: int64"
      ]
     },
     "execution_count": 71,
     "metadata": {},
     "output_type": "execute_result"
    }
   ],
   "source": [
    "elim1[\"V_TYPE\"].value_counts()"
   ]
  },
  {
   "cell_type": "code",
   "execution_count": 72,
   "id": "1a953eec",
   "metadata": {},
   "outputs": [
    {
     "name": "stdout",
     "output_type": "stream",
     "text": [
      "01    3316715\n",
      "06     122285\n",
      "17     106822\n",
      "14      94194\n",
      "07      73832\n",
      "08      63895\n",
      "0       49989\n",
      "05      45836\n",
      "11      24862\n",
      "09       7044\n",
      "Name: V_TYPE, dtype: int64\n"
     ]
    },
    {
     "data": {
      "text/plain": [
       "<AxesSubplot:title={'center':'Accidentes por tipo de coche'}>"
      ]
     },
     "execution_count": 72,
     "metadata": {},
     "output_type": "execute_result"
    },
    {
     "data": {
      "image/png": "[encoded data removed]",
      "text/plain": [
       "<Figure size 432x288 with 1 Axes>"
      ]
     },
     "metadata": {
      "needs_background": "light"
     },
     "output_type": "display_data"
    }
   ],
   "source": [
    "print(elim1[\"V_TYPE\"].value_counts().head(10))\n",
    "elim1[\"V_TYPE\"].value_counts().head(10).sort_values().plot(kind = 'barh', title=\"Accidentes por tipo de coche\")"
   ]
  },
  {
   "cell_type": "markdown",
   "id": "e63a4384",
   "metadata": {},
   "source": [
    "Los automóviles que más accidentes tienen son los vehículos ligeros con diferencia (01). Probablemente porque son los más comunes y existen más cantidades de estos vehículos."
   ]
  },
  {
   "cell_type": "code",
   "execution_count": 73,
   "id": "7be7a2de",
   "metadata": {},
   "outputs": [],
   "source": [
    "elim2 = pruebafilt[pruebafilt['V_YEAR'] != \"UUUU\"] \n",
    "elim2 = elim2[elim2['V_YEAR'] != \"XXXX\"]  \n",
    "elim2 = elim2[elim2['V_YEAR'] != \"NNNN\"] "
   ]
  },
  {
   "cell_type": "code",
   "execution_count": 74,
   "id": "472536d9",
   "metadata": {},
   "outputs": [
    {
     "name": "stdout",
     "output_type": "stream",
     "text": [
      "0       299749\n",
      "2000    222032\n",
      "1998    202593\n",
      "2002    201397\n",
      "1999    198183\n",
      "2003    192379\n",
      "2001    192009\n",
      "1997    180474\n",
      "2005    156822\n",
      "2004    154739\n",
      "1995    154379\n",
      "1996    135332\n",
      "1994    133498\n",
      "1992    131924\n",
      "2006    131733\n",
      "1993    128335\n",
      "2007    127629\n",
      "1991    115770\n",
      "1990    108901\n",
      "2008    101524\n",
      "Name: V_YEAR, dtype: int64\n"
     ]
    },
    {
     "data": {
      "text/plain": [
       "<AxesSubplot:title={'center':'Accidentes por tipo de coche'}>"
      ]
     },
     "execution_count": 74,
     "metadata": {},
     "output_type": "execute_result"
    },
    {
     "data": {
      "image/png": "[encoded data removed]",
      "text/plain": [
       "<Figure size 432x288 with 1 Axes>"
      ]
     },
     "metadata": {
      "needs_background": "light"
     },
     "output_type": "display_data"
    }
   ],
   "source": [
    "print(elim2[\"V_YEAR\"].value_counts().head(20))\n",
    "elim2[\"V_YEAR\"].value_counts().head(20).sort_values().plot(kind = 'barh', title=\"Accidentes por tipo de coche\")"
   ]
  },
  {
   "cell_type": "code",
   "execution_count": 75,
   "id": "ce93c9ac",
   "metadata": {
    "scrolled": true
   },
   "outputs": [
    {
     "name": "stdout",
     "output_type": "stream",
     "text": [
      "2000    281609\n",
      "2002    280588\n",
      "1999    274553\n",
      "2003    273889\n",
      "2001    272937\n",
      "2004    263265\n",
      "2005    262902\n",
      "2006    255964\n",
      "2007    247854\n",
      "2008    226611\n",
      "2009    219567\n",
      "2010    219117\n",
      "2012    215717\n",
      "2011    215373\n",
      "2013    213800\n",
      "2014    202340\n",
      "Name: C_YEAR, dtype: int64\n"
     ]
    },
    {
     "data": {
      "text/plain": [
       "<AxesSubplot:title={'center':'Accidentes por año'}>"
      ]
     },
     "execution_count": 75,
     "metadata": {},
     "output_type": "execute_result"
    },
    {
     "data": {
      "image/png": "[encoded data removed]",
      "text/plain": [
       "<Figure size 432x288 with 1 Axes>"
      ]
     },
     "metadata": {
      "needs_background": "light"
     },
     "output_type": "display_data"
    }
   ],
   "source": [
    "print(pruebafilt[\"C_YEAR\"].value_counts().head(20))\n",
    "pruebafilt[\"C_YEAR\"].value_counts().head(20).sort_values().plot(kind = 'barh', title=\"Accidentes por año\")"
   ]
  },
  {
   "cell_type": "code",
   "execution_count": 76,
   "id": "19389c4c",
   "metadata": {
    "scrolled": true
   },
   "outputs": [
    {
     "data": {
      "text/plain": [
       "0       299749\n",
       "2000    222032\n",
       "1998    202593\n",
       "2002    201397\n",
       "1999    198183\n",
       "Name: V_YEAR, dtype: int64"
      ]
     },
     "execution_count": 76,
     "metadata": {},
     "output_type": "execute_result"
    }
   ],
   "source": [
    "pruebafilt[\"V_YEAR\"].value_counts().head()"
   ]
  },
  {
   "cell_type": "markdown",
   "id": "70f05da4",
   "metadata": {},
   "source": [
    "### ¿Qué es lo que más contribuye a que existan fallecimientos en un accidente?"
   ]
  },
  {
   "cell_type": "code",
   "execution_count": null,
   "id": "1fbe2c9a",
   "metadata": {},
   "outputs": [],
   "source": []
  },
  {
   "cell_type": "markdown",
   "id": "04f2403b",
   "metadata": {},
   "source": [
    "Variable P_ISEV"
   ]
  },
  {
   "cell_type": "markdown",
   "id": "3f3c074f",
   "metadata": {},
   "source": [
    "### Dado un accidente, ¿se puede generar un modelo que prediga si habrá fallecimientos o no? ¿Si se va a necesitar tratamiento médico o no? Las aseguradoras tienen que inmovilizar capital para pagar estas casuísticas."
   ]
  },
  {
   "cell_type": "markdown",
   "id": "cf305174",
   "metadata": {},
   "source": [
    "Variable P_ISEV fatality; P_ISEV = 1 medical treatment."
   ]
  },
  {
   "cell_type": "markdown",
   "id": "5ebc389e",
   "metadata": {},
   "source": [
    "### Libertad para generar análisis de valor y nuevas ideas. Se debe atacar mínimo un modelo (estimar si habrá fallecidos o no). Hecho esto, se puede plantear de forma opcional otros alcances (libertad para plantear opciones)."
   ]
  },
  {
   "cell_type": "markdown",
   "id": "29e828a0",
   "metadata": {},
   "source": [
    "### Plus: complementar con datos abiertos de clima (aunque Canadá es muy grande) y de otra tipología, ¿hay algún tipo de relación con temperaturas medias, precipitación media del día/mes, nieve...? ¿a más días festivos o de vacaciones, más accidentes? etc."
   ]
  },
  {
   "cell_type": "markdown",
   "id": "4ed1b310",
   "metadata": {},
   "source": [
    "C_WTHR"
   ]
  },
  {
   "cell_type": "markdown",
   "id": "b58ff31d",
   "metadata": {},
   "source": [
    "C_MNTH"
   ]
  },
  {
   "cell_type": "markdown",
   "id": "0bc84201",
   "metadata": {},
   "source": [
    "C_RCFG?"
   ]
  },
  {
   "cell_type": "markdown",
   "id": "62fafa8a",
   "metadata": {},
   "source": [
    "P_SAFE?"
   ]
  }
 ],
 "metadata": {
  "kernelspec": {
   "display_name": "Python 3",
   "language": "python",
   "name": "python3"
  },
  "language_info": {
   "codemirror_mode": {
    "name": "ipython",
    "version": 3
   },
   "file_extension": ".py",
   "mimetype": "text/x-python",
   "name": "python",
   "nbconvert_exporter": "python",
   "pygments_lexer": "ipython3",
   "version": "3.8.8"
  }
 },
 "nbformat": 4,
 "nbformat_minor": 5
}
