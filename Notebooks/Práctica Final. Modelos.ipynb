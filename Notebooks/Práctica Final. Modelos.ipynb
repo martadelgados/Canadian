{
 "cells": [
  {
   "cell_type": "markdown",
   "metadata": {},
   "source": [
    "# PRÁCTICA FINAL: MODELOS"
   ]
  },
  {
   "cell_type": "markdown",
   "metadata": {},
   "source": [
    "**Machine Learning: Modelos Supervisados**"
   ]
  },
  {
   "cell_type": "markdown",
   "metadata": {},
   "source": [
    "*Autores: Marta Delgado, Susana Jodra, Marta Onieva, Loreto Torres*"
   ]
  },
  {
   "cell_type": "markdown",
   "metadata": {},
   "source": [
    "#### Objetivo"
   ]
  },
  {
   "cell_type": "markdown",
   "metadata": {},
   "source": [
    "En este apartado generamos dos modelos que nos ayuden a predecir los fallecimientos y además, determinar si necesitarán tratamiento médico, para ello utilizamos los modelos de **Regresión Logística** y **XGBoost**, aunque hay más modelos que hemos estudiado en clase:\n",
    "1. Regresión Logística\n",
    "2. K-NN\n",
    "3. Arbol de decisión simple\n",
    "4. Bagging Classifier\n",
    "5. Random Forest\n",
    "6. Gradient Boost\n",
    "7. XGBoost\n",
    "\n",
    "Y posteriormente los evaluamos en función de las métricas de:\n",
    "- Accuracy\n",
    "- Precision\n",
    "- Recall\n",
    "- Confusion Matrix\n",
    "- F-score\n",
    "- Curva ROC\n",
    "- Area bajo la curva\n",
    "\n",
    "Seleccionaremos el mejor modelo y analizaremos la importancia del resto de variables para ese modelo según el peso, ganancia y cover.\n",
    "\n",
    "Tras este análisis responderemos a la pregunta planteada sobre el tratamiento médico y haremos una conclusión."
   ]
  },
  {
   "cell_type": "markdown",
   "metadata": {},
   "source": [
    "### Dado un accidente, ¿se puede generar un modelo que prediga si habrá fallecimientos o no? ¿Si se va a necesitar tratamiento médico o no? Las aseguradoras tienen que inmovilizar capital para pagar estas casuísticas."
   ]
  },
  {
   "cell_type": "code",
   "execution_count": 1,
   "metadata": {},
   "outputs": [],
   "source": [
    "# Importamos las librerías a utilizar\n",
    "import numpy as np\n",
    "import pandas as pd\n",
    "import matplotlib.pyplot as plt\n",
    "import warnings\n",
    "import seaborn as sns\n",
    "import seaborn as sb\n",
    "import plotly.graph_objects as go\n",
    "from sklearn.utils import shuffle\n",
    "from sklearn.model_selection import train_test_split\n",
    "from sklearn.decomposition import PCA\n",
    "from sklearn.preprocessing import StandardScaler\n",
    "from sklearn.preprocessing import MinMaxScaler\n",
    "from sklearn.pipeline import make_pipeline\n",
    "from sklearn.decomposition import KernelPCA\n",
    "from sklearn.cluster import DBSCAN\n",
    "from sklearn.manifold import TSNE\n",
    "from sklearn.datasets import load_digits\n",
    "from sklearn.datasets import make_blobs\n",
    "from sklearn.mixture import GaussianMixture\n",
    "from sklearn.cluster import KMeans\n",
    "from sklearn.metrics import silhouette_score\n",
    "from xgboost import XGBClassifier\n",
    "import xgboost as xgb\n",
    "from sklearn.preprocessing import OneHotEncoder\n",
    "from category_encoders.leave_one_out import LeaveOneOutEncoder\n",
    "from sklearn.metrics import precision_score, recall_score, f1_score, confusion_matrix, accuracy_score, roc_auc_score\n",
    "\n",
    "warnings.filterwarnings('ignore')"
   ]
  },
  {
   "cell_type": "code",
   "execution_count": 132,
   "metadata": {},
   "outputs": [],
   "source": [
    "db = pd.read_csv(\"NCDB_1999_to_2014.csv\")"
   ]
  },
  {
   "cell_type": "code",
   "execution_count": 133,
   "metadata": {},
   "outputs": [
    {
     "name": "stdout",
     "output_type": "stream",
     "text": [
      "Variables numéricas  ['C_YEAR', 'C_SEV']\n",
      "Variables categóricas:  ['C_MNTH', 'C_WDAY', 'C_HOUR', 'C_VEHS', 'C_CONF', 'C_RCFG', 'C_WTHR', 'C_RSUR', 'C_RALN', 'C_TRAF', 'V_ID', 'V_TYPE', 'V_YEAR', 'P_ID', 'P_SEX', 'P_AGE', 'P_PSN', 'P_ISEV', 'P_SAFE', 'P_USER']\n"
     ]
    }
   ],
   "source": [
    "#diferenciamos numéricas de categóricas\n",
    "numerical_var = (db.dtypes[db.dtypes!='object'].index.to_list())\n",
    "categorical_var = (db.dtypes[db.dtypes=='object'].index.to_list())\n",
    "\n",
    "print('Variables numéricas ', numerical_var)\n",
    "print('Variables categóricas: ', categorical_var)"
   ]
  },
  {
   "cell_type": "code",
   "execution_count": 134,
   "metadata": {},
   "outputs": [],
   "source": [
    "# Valores sin información: cambiar\n",
    "cambio_Q = ['Q', 'QQ', 'QQQQ']\n",
    "cambio_N = ['N', 'NN', 'NNNN']\n",
    "cambio_U = ['U', 'UU', 'UUUU']\n",
    "cambio_X = ['X', 'XX', 'XXXX']"
   ]
  },
  {
   "cell_type": "code",
   "execution_count": 135,
   "metadata": {},
   "outputs": [],
   "source": [
    "db[categorical_var] = db[categorical_var].replace(cambio_Q, 0)\n",
    "db[categorical_var] = db[categorical_var].replace(cambio_N, 0)\n",
    "db[categorical_var] = db[categorical_var].replace(cambio_U, 0)\n",
    "db[categorical_var] = db[categorical_var].replace(cambio_X, 0)"
   ]
  },
  {
   "cell_type": "markdown",
   "metadata": {},
   "source": [
    "#### Valores nulos"
   ]
  },
  {
   "cell_type": "code",
   "execution_count": 136,
   "metadata": {},
   "outputs": [
    {
     "data": {
      "text/plain": [
       "C_YEAR    0\n",
       "C_MNTH    0\n",
       "C_WDAY    0\n",
       "C_HOUR    0\n",
       "C_SEV     0\n",
       "C_VEHS    3\n",
       "C_CONF    0\n",
       "C_RCFG    0\n",
       "C_WTHR    0\n",
       "C_RSUR    0\n",
       "C_RALN    0\n",
       "C_TRAF    0\n",
       "V_ID      0\n",
       "V_TYPE    0\n",
       "V_YEAR    0\n",
       "P_ID      0\n",
       "P_SEX     0\n",
       "P_AGE     0\n",
       "P_PSN     0\n",
       "P_ISEV    0\n",
       "P_SAFE    0\n",
       "P_USER    0\n",
       "dtype: int64"
      ]
     },
     "execution_count": 136,
     "metadata": {},
     "output_type": "execute_result"
    }
   ],
   "source": [
    "db.isnull().sum()"
   ]
  },
  {
   "cell_type": "markdown",
   "metadata": {},
   "source": [
    "Al tratarse de solo 3 valores de la columna de 'C_VEHS', la cual indica el número de vehículos implicados en el accidente, eliminamos los valores NA:"
   ]
  },
  {
   "cell_type": "code",
   "execution_count": 137,
   "metadata": {},
   "outputs": [],
   "source": [
    "db=db.dropna()"
   ]
  },
  {
   "cell_type": "markdown",
   "metadata": {},
   "source": [
    "Moficamos la variables de 'P_SEX' para que sea numérica como el resto de variables:"
   ]
  },
  {
   "cell_type": "code",
   "execution_count": 138,
   "metadata": {},
   "outputs": [],
   "source": [
    "db.P_SEX.replace({'M':0,'F':1},inplace=True)"
   ]
  },
  {
   "cell_type": "code",
   "execution_count": 139,
   "metadata": {},
   "outputs": [],
   "source": [
    "df_model = db.copy()"
   ]
  },
  {
   "cell_type": "code",
   "execution_count": 140,
   "metadata": {},
   "outputs": [],
   "source": [
    "numerical = ['C_YEAR', 'C_SEV', 'C_MNTH', 'C_WDAY','C_HOUR', 'C_VEHS', 'C_CONF','C_RCFG','C_WTHR','C_RSUR','C_RALN',\n",
    "        'C_TRAF','V_ID','V_TYPE', 'V_YEAR','P_ID','P_AGE','P_PSN','P_ISEV','P_SAFE','P_USER','P_SEX']\n",
    "\n",
    "df_model = df_model[numerical].astype(int)"
   ]
  },
  {
   "cell_type": "markdown",
   "metadata": {},
   "source": [
    "### Variable Objetivo: C_SEV"
   ]
  },
  {
   "cell_type": "markdown",
   "metadata": {},
   "source": [
    "#### Distribución de la variable objetivo"
   ]
  },
  {
   "cell_type": "code",
   "execution_count": 141,
   "metadata": {},
   "outputs": [
    {
     "data": {
      "text/plain": [
       "2    5761769\n",
       "1      98633\n",
       "Name: C_SEV, dtype: int64"
      ]
     },
     "execution_count": 141,
     "metadata": {},
     "output_type": "execute_result"
    }
   ],
   "source": [
    "df_model['C_SEV'].value_counts()"
   ]
  },
  {
   "cell_type": "code",
   "execution_count": 142,
   "metadata": {},
   "outputs": [
    {
     "name": "stdout",
     "output_type": "stream",
     "text": [
      "2    98.316958\n",
      "1     1.683042\n",
      "Name: C_SEV, dtype: float64\n"
     ]
    },
    {
     "data": {
      "text/plain": [
       "Text(0, 0.5, 'Frecuencia')"
      ]
     },
     "execution_count": 142,
     "metadata": {},
     "output_type": "execute_result"
    },
    {
     "data": {
      "image/png": "[encoded data removed]",
      "text/plain": [
       "<Figure size 1008x576 with 1 Axes>"
      ]
     },
     "metadata": {
      "needs_background": "light"
     },
     "output_type": "display_data"
    }
   ],
   "source": [
    "print(df_model['C_SEV'].value_counts()/sum(df_model['C_SEV'].value_counts())*100)\n",
    "ax = df_model['C_SEV'].value_counts().plot(kind='bar',\n",
    "                                    figsize=(14,8),\n",
    "                                    title=\"Número de Accidentes por gravedad\", color=[\"lightblue\",\"lightgreen\"])\n",
    "ax.set_xlabel(\"Gravedad\")\n",
    "ax.set_ylabel(\"Frecuencia\")"
   ]
  },
  {
   "cell_type": "markdown",
   "metadata": {},
   "source": [
    "Antes de comenzar con el entrenamiento y validación de los modelos, observamos como se distribuye la variable objetivo. C_SEV nos indica la gravedad de la colisión, de forma que los accidentes con un valor 1 en esta columna son aquellos en los cuales al menos se ha producido una muerte, mientras que los accidentes que toman el valor 2 no son mortales. Observamos que la gran mayoría (98,32%) de accidentes no han sido mortales frente al **1,68% de accidentes mortales**."
   ]
  },
  {
   "cell_type": "markdown",
   "metadata": {},
   "source": [
    "Esta distribución desproporcionada nos indica la necesidad de dividir los conjuntos de entrenamiento y validación de forma proporcionada, ya que si no se podría dar que la mayoría de accidentes mortales se encuentren en un subconjunto."
   ]
  },
  {
   "cell_type": "markdown",
   "metadata": {},
   "source": [
    "#### Correlaciones: variable objetivo (C_SEV) con resto de variables"
   ]
  },
  {
   "cell_type": "code",
   "execution_count": 143,
   "metadata": {},
   "outputs": [
    {
     "data": {
      "text/plain": [
       "C_SEV     1.000000\n",
       "P_SEX     0.027959\n",
       "C_RCFG    0.027682\n",
       "C_CONF    0.020953\n",
       "C_HOUR    0.018129\n",
       "V_YEAR    0.008976\n",
       "C_MNTH   -0.005877\n",
       "C_RSUR   -0.007126\n",
       "P_SAFE   -0.009124\n",
       "C_VEHS   -0.017820\n",
       "C_WDAY   -0.018195\n",
       "C_WTHR   -0.018498\n",
       "P_USER   -0.018692\n",
       "P_AGE    -0.019447\n",
       "V_ID     -0.019447\n",
       "P_PSN    -0.027771\n",
       "V_TYPE   -0.027969\n",
       "P_ID     -0.031769\n",
       "C_RALN   -0.059322\n",
       "C_TRAF   -0.060905\n",
       "P_ISEV   -0.134780\n",
       "Name: C_SEV, dtype: float64"
      ]
     },
     "execution_count": 143,
     "metadata": {},
     "output_type": "execute_result"
    }
   ],
   "source": [
    "df_model[df_model.columns[1:]].corr()['C_SEV'][:].sort_values(ascending=False)"
   ]
  },
  {
   "cell_type": "markdown",
   "metadata": {},
   "source": [
    "Como podemos observar ninguna variable está correlacionada con la variable objetivo ni positivamente ni negativamente, son independientes."
   ]
  },
  {
   "cell_type": "markdown",
   "metadata": {},
   "source": [
    "#### División conjuntos de entrenamiento y validación (train y test)"
   ]
  },
  {
   "cell_type": "code",
   "execution_count": 144,
   "metadata": {},
   "outputs": [],
   "source": [
    "objetivo = ['C_SEV']"
   ]
  },
  {
   "cell_type": "code",
   "execution_count": 145,
   "metadata": {},
   "outputs": [],
   "source": [
    "X = df_model.drop(objetivo,axis=1)\n",
    "Y = df_model[objetivo]"
   ]
  },
  {
   "cell_type": "code",
   "execution_count": 146,
   "metadata": {},
   "outputs": [],
   "source": [
    "# Division del dataset en entrenamiento y test\n",
    "# proporcion 30 y 70\n",
    "# utilizamos stratify para que los subconjuntos mantengan la proporción de las clases\n",
    "\n",
    "x_train, x_test, y_train, y_test = train_test_split(X, Y, test_size=0.30, random_state=0)"
   ]
  },
  {
   "cell_type": "code",
   "execution_count": 147,
   "metadata": {},
   "outputs": [
    {
     "name": "stdout",
     "output_type": "stream",
     "text": [
      "(4102281, 21)\n",
      "2    98.316229\n",
      "1     1.683771\n",
      "Name: C_SEV, dtype: float64\n"
     ]
    },
    {
     "data": {
      "text/plain": [
       "C_SEV\n",
       "2        4033208\n",
       "1          69073\n",
       "dtype: int64"
      ]
     },
     "execution_count": 147,
     "metadata": {},
     "output_type": "execute_result"
    }
   ],
   "source": [
    "# conjunto de entrenamiento (TRAIN)\n",
    "print(x_train.shape)\n",
    "# 4102281 filas\n",
    "\n",
    "print(y_train['C_SEV'].value_counts()/sum(y_train['C_SEV'].value_counts())*100)\n",
    "y_train.value_counts()"
   ]
  },
  {
   "cell_type": "code",
   "execution_count": 148,
   "metadata": {},
   "outputs": [
    {
     "name": "stdout",
     "output_type": "stream",
     "text": [
      "2    98.31866\n",
      "1     1.68134\n",
      "Name: C_SEV, dtype: float64\n"
     ]
    },
    {
     "data": {
      "text/plain": [
       "C_SEV\n",
       "2        1728561\n",
       "1          29560\n",
       "dtype: int64"
      ]
     },
     "execution_count": 148,
     "metadata": {},
     "output_type": "execute_result"
    }
   ],
   "source": [
    "# conjunto de validación (TEST)\n",
    "x_test.shape\n",
    "# 1758121 filas\n",
    "\n",
    "print(y_test['C_SEV'].value_counts()/sum(y_test['C_SEV'].value_counts())*100)\n",
    "y_test.value_counts()"
   ]
  },
  {
   "cell_type": "markdown",
   "metadata": {},
   "source": [
    "Los conjuntos están desbalanceados dada la desproporcionada distribución de la variable objetivo en la base de datos original. Se mantiene la distribución de 1,68% de accidentes mortales frente a 98,32% de accidentes no mortales."
   ]
  },
  {
   "cell_type": "markdown",
   "metadata": {},
   "source": [
    "## Modelos"
   ]
  },
  {
   "cell_type": "markdown",
   "metadata": {},
   "source": [
    "### **REGRESIÓN LOGÍSTICA**"
   ]
  },
  {
   "cell_type": "code",
   "execution_count": 149,
   "metadata": {},
   "outputs": [],
   "source": [
    "from sklearn.linear_model import LogisticRegression\n",
    "logit = LogisticRegression()"
   ]
  },
  {
   "cell_type": "markdown",
   "metadata": {},
   "source": [
    "**CONJUNTO DE ENTRENAMIENTO**"
   ]
  },
  {
   "cell_type": "code",
   "execution_count": 150,
   "metadata": {},
   "outputs": [
    {
     "data": {
      "text/plain": [
       "LogisticRegression()"
      ]
     },
     "execution_count": 150,
     "metadata": {},
     "output_type": "execute_result"
    }
   ],
   "source": [
    "logit.fit(x_train, y_train)"
   ]
  },
  {
   "cell_type": "code",
   "execution_count": 210,
   "metadata": {},
   "outputs": [
    {
     "data": {
      "text/plain": [
       "0.983162294343074"
      ]
     },
     "execution_count": 210,
     "metadata": {},
     "output_type": "execute_result"
    }
   ],
   "source": [
    "# ACCURACY\n",
    "accuracy_score(y_train, logit.predict(x_train))\n",
    "\n",
    "# 0.983162294343074"
   ]
  },
  {
   "cell_type": "markdown",
   "metadata": {},
   "source": [
    "La métrica de **exactitud** nos indica que el modelo es muy bueno, sin embargo hay que tener en cuenta que las clases están desbalanceadas, ya que predominan los casos en los que los accidentes no son mortales, y esta métrica es engañosa cuando esto sucede porque nos hace creer que el modelo es mejor de lo que en realidad es. Por eso, calculamos el resto de métricas para comparar."
   ]
  },
  {
   "cell_type": "code",
   "execution_count": 152,
   "metadata": {},
   "outputs": [
    {
     "data": {
      "text/plain": [
       "0.41964285714285715"
      ]
     },
     "execution_count": 152,
     "metadata": {},
     "output_type": "execute_result"
    }
   ],
   "source": [
    "# PRECISION\n",
    "precision_score(y_train, logit.predict(x_train))\n",
    "\n",
    "# 0.41964285714285715"
   ]
  },
  {
   "cell_type": "markdown",
   "metadata": {},
   "source": [
    "De acuerdo a la métrica de **precisión**, obtenemos que el modelo se equivocará el 58% de las veces que prediga que un accidente será mortal y solo acertará el 41,96% de las veces."
   ]
  },
  {
   "cell_type": "code",
   "execution_count": 153,
   "metadata": {},
   "outputs": [
    {
     "data": {
      "text/plain": [
       "0.0013608790699694527"
      ]
     },
     "execution_count": 153,
     "metadata": {},
     "output_type": "execute_result"
    }
   ],
   "source": [
    "# RECALL\n",
    "recall_score(y_train, logit.predict(x_train))\n",
    "\n",
    "# 0.0013608790699694527"
   ]
  },
  {
   "cell_type": "markdown",
   "metadata": {},
   "source": [
    "La métrica de **exhaustividad** (RECALL) nos informa de la cantidad de fallecimientos que el modelo de machine learning entrenado es capaz de identificar. Obtenemos que el modelo es solo capaz de identificar aproximandamente el 0,14% de los accidentes que son mortales."
   ]
  },
  {
   "cell_type": "code",
   "execution_count": 154,
   "metadata": {},
   "outputs": [],
   "source": [
    "# CONFUSION MATRIX\n",
    "cm = confusion_matrix(y_train, logit.predict(x_train))"
   ]
  },
  {
   "cell_type": "code",
   "execution_count": 155,
   "metadata": {},
   "outputs": [
    {
     "data": {
      "image/png": "[encoded data removed]",
      "text/plain": [
       "<Figure size 432x288 with 1 Axes>"
      ]
     },
     "metadata": {
      "needs_background": "light"
     },
     "output_type": "display_data"
    }
   ],
   "source": [
    "plt.clf()\n",
    "plt.imshow(cm, interpolation='nearest', cmap=plt.cm.Wistia)\n",
    "class1 = ['Mortal','No Mortal']\n",
    "plt.title('Matriz de confusión accidente MORTAL o NO MORTAL - Train data')\n",
    "plt.ylabel('True label')\n",
    "plt.xlabel('Predicted label')\n",
    "tick_marks = np.arange(len(class1))\n",
    "plt.xticks(tick_marks, class1, rotation=45)\n",
    "plt.yticks(tick_marks, class1)\n",
    "s = [['TN','FP'], ['FN', 'TP']]\n",
    "for i in range(2):\n",
    "    for j in range(2):\n",
    "        plt.text(j,i, str(s[i][j])+\" = \"+str(cm[i][j]))\n",
    "plt.show()"
   ]
  },
  {
   "cell_type": "markdown",
   "metadata": {},
   "source": [
    "Según la **matriz de confusión** que obtenemos del modelo entrenado concluimos que el modelo si que sirve para predecir los accidentes no mortales (Verdaderos Positivos - True Positive: el modelo predice que no son mortales y verdaderamente no son mortales). Pero, el modelo no sirve para predecir los mortales ya que la mayoría de accidentes mortales el modelo predice que no son mortales (los considera Falsos Positivos)."
   ]
  },
  {
   "cell_type": "code",
   "execution_count": 156,
   "metadata": {},
   "outputs": [
    {
     "data": {
      "text/plain": [
       "0.0027129601570053535"
      ]
     },
     "execution_count": 156,
     "metadata": {},
     "output_type": "execute_result"
    }
   ],
   "source": [
    "# F1 SCORE\n",
    "f1_score(y_train, logit.predict(x_train))\n",
    "\n",
    "# 0.0027129601570053535"
   ]
  },
  {
   "cell_type": "markdown",
   "metadata": {},
   "source": [
    "El **score F1** combina las métricas de precisión y recall calculadas anteriormente en una sola medida, dando a ambas el mismo peso."
   ]
  },
  {
   "cell_type": "code",
   "execution_count": 157,
   "metadata": {},
   "outputs": [
    {
     "data": {
      "text/plain": [
       "0.5006643233317043"
      ]
     },
     "execution_count": 157,
     "metadata": {},
     "output_type": "execute_result"
    }
   ],
   "source": [
    "# AREA BAJO LA CURVA\n",
    "roc_auc_score(y_train, logit.predict(x_train))\n",
    "\n",
    "# 0.5006643233317043\n",
    "# el modelo es muy malo"
   ]
  },
  {
   "cell_type": "markdown",
   "metadata": {},
   "source": [
    "El valor que obtenemos de **área bajo la curva** nos indica que el modelo no predice correctamente, hace predicciones aleatorias."
   ]
  },
  {
   "cell_type": "markdown",
   "metadata": {},
   "source": [
    "Una vez entrenado el modelo procedemos a validar los resultados entrenados para comprobar si obtenemos las mismas conclusiones:"
   ]
  },
  {
   "cell_type": "markdown",
   "metadata": {},
   "source": [
    "**CONJUNTO TEST**"
   ]
  },
  {
   "cell_type": "code",
   "execution_count": 158,
   "metadata": {},
   "outputs": [
    {
     "data": {
      "text/plain": [
       "LogisticRegression()"
      ]
     },
     "execution_count": 158,
     "metadata": {},
     "output_type": "execute_result"
    }
   ],
   "source": [
    "logit.fit(x_test, y_test)"
   ]
  },
  {
   "cell_type": "code",
   "execution_count": 211,
   "metadata": {},
   "outputs": [
    {
     "data": {
      "text/plain": [
       "0.9831865952343439"
      ]
     },
     "execution_count": 211,
     "metadata": {},
     "output_type": "execute_result"
    }
   ],
   "source": [
    "# ACCURACY\n",
    "accuracy_score(y_test, logit.predict(x_test))\n",
    "\n",
    "# 0.9831865952343439"
   ]
  },
  {
   "cell_type": "markdown",
   "metadata": {},
   "source": [
    "Como ocurría en el conjunto de entrenamiento, la métrica de **exactitud (Accuracy)** nos indica que el modelo es muy bueno, aunque la realidad es lo contrario."
   ]
  },
  {
   "cell_type": "code",
   "execution_count": 160,
   "metadata": {},
   "outputs": [
    {
     "data": {
      "text/plain": [
       "0.0"
      ]
     },
     "execution_count": 160,
     "metadata": {},
     "output_type": "execute_result"
    }
   ],
   "source": [
    "# PRECISION\n",
    "precision_score(y_test, logit.predict(x_test))\n",
    "# 0.0"
   ]
  },
  {
   "cell_type": "markdown",
   "metadata": {},
   "source": [
    "Según la métrica de **precisión**, el modelo no acierta ni un solo accidente mortal."
   ]
  },
  {
   "cell_type": "code",
   "execution_count": 161,
   "metadata": {},
   "outputs": [
    {
     "data": {
      "text/plain": [
       "0.0"
      ]
     },
     "execution_count": 161,
     "metadata": {},
     "output_type": "execute_result"
    }
   ],
   "source": [
    "# RECALL\n",
    "recall_score(y_test, logit.predict(x_test))\n",
    "# 0.0"
   ]
  },
  {
   "cell_type": "markdown",
   "metadata": {},
   "source": [
    "De acuerdo a la métrica de **exhaustividad (o recall)** el modelo no es capaz de identificar qué accidentes son mortales ya que los clasifica todos como no mortales, como observaremos a continuación en la matriz de confusión"
   ]
  },
  {
   "cell_type": "markdown",
   "metadata": {},
   "source": [
    "Dado que ambas métricas de Recall y Precision son 0 **no es necesario calcular el valor de F1 score ya que también será 0**."
   ]
  },
  {
   "cell_type": "code",
   "execution_count": 162,
   "metadata": {},
   "outputs": [
    {
     "data": {
      "text/plain": [
       "array([[      0,   29560],\n",
       "       [      0, 1728561]], dtype=int64)"
      ]
     },
     "execution_count": 162,
     "metadata": {},
     "output_type": "execute_result"
    }
   ],
   "source": [
    "# CONFUSION MATRIX\n",
    "cm = confusion_matrix(y_test, logit.predict(x_test))\n",
    "cm"
   ]
  },
  {
   "cell_type": "code",
   "execution_count": 163,
   "metadata": {
    "scrolled": true
   },
   "outputs": [
    {
     "data": {
      "image/png": "[encoded data removed]",
      "text/plain": [
       "<Figure size 432x288 with 1 Axes>"
      ]
     },
     "metadata": {
      "needs_background": "light"
     },
     "output_type": "display_data"
    }
   ],
   "source": [
    "plt.clf()\n",
    "plt.imshow(cm, interpolation='nearest', cmap=plt.cm.Wistia)\n",
    "class1 = ['Mortal','No Mortal']\n",
    "plt.title('Matriz de confusión accidente MORTAL o NO MORTAL - TEST data')\n",
    "plt.ylabel('True label')\n",
    "plt.xlabel('Predicted label')\n",
    "tick_marks = np.arange(len(class1))\n",
    "plt.xticks(tick_marks, class1, rotation=45)\n",
    "plt.yticks(tick_marks, class1)\n",
    "s = [['TN','FP'], ['FN', 'TP']]\n",
    "for i in range(2):\n",
    "    for j in range(2):\n",
    "        plt.text(j,i, str(s[i][j])+\" = \"+str(cm[i][j]))\n",
    "plt.show()"
   ]
  },
  {
   "cell_type": "markdown",
   "metadata": {},
   "source": [
    "Tras calcular la **matriz de confusión** obtenemos que el modelo predice todos los accidentes como no mortales por ello obtenemos que le modelo predice correctamente los Verdaderos Positivos (True Positive: aquellos que el modelo predice como no mortales y verderamente son no mortales), mientres que el modelo es incapaz de predecir los accidentes mortales porque los clasifica como Falsos Positivos (False Positive: aquellos accidentes que el modelo predice como no mortales y en realidad son mortales)."
   ]
  },
  {
   "cell_type": "code",
   "execution_count": 73,
   "metadata": {},
   "outputs": [
    {
     "data": {
      "text/plain": [
       "0.5"
      ]
     },
     "execution_count": 73,
     "metadata": {},
     "output_type": "execute_result"
    }
   ],
   "source": [
    "# AREA BAJO LA CURVA\n",
    "roc_auc_score(y_test, logit.predict(x_test))\n",
    "# 0.5\n",
    "# el modelo es nulo"
   ]
  },
  {
   "cell_type": "markdown",
   "metadata": {},
   "source": [
    "El modelo no sirve para predecir la mortalidad de los accidentes, ya que predice los resultados aleatoriamente según el **score del area bajo la curva**."
   ]
  },
  {
   "cell_type": "markdown",
   "metadata": {},
   "source": [
    "### **XGBoost**"
   ]
  },
  {
   "cell_type": "code",
   "execution_count": 181,
   "metadata": {},
   "outputs": [],
   "source": [
    "model = XGBClassifier(subsample = 0.7, max_depth = 4)"
   ]
  },
  {
   "cell_type": "code",
   "execution_count": 182,
   "metadata": {},
   "outputs": [
    {
     "data": {
      "text/plain": [
       "XGBClassifier(base_score=0.5, booster='gbtree', colsample_bylevel=1,\n",
       "              colsample_bynode=1, colsample_bytree=1, enable_categorical=False,\n",
       "              gamma=0, gpu_id=-1, importance_type=None,\n",
       "              interaction_constraints='', learning_rate=0.300000012,\n",
       "              max_delta_step=0, max_depth=4, min_child_weight=1, missing=nan,\n",
       "              monotone_constraints='()', n_estimators=100, n_jobs=4,\n",
       "              num_parallel_tree=1, predictor='auto', random_state=0,\n",
       "              reg_alpha=0, reg_lambda=1, scale_pos_weight=1, subsample=0.7,\n",
       "              tree_method='exact', validate_parameters=1, verbosity=None)"
      ]
     },
     "execution_count": 182,
     "metadata": {},
     "output_type": "execute_result"
    }
   ],
   "source": [
    "model.fit(x_train, y_train, eval_metric='rmse')"
   ]
  },
  {
   "cell_type": "markdown",
   "metadata": {},
   "source": [
    "**CONJUNTO de ENTRENAMIENTO**"
   ]
  },
  {
   "cell_type": "code",
   "execution_count": 202,
   "metadata": {},
   "outputs": [
    {
     "data": {
      "text/plain": [
       "0.9902473770080596"
      ]
     },
     "execution_count": 202,
     "metadata": {},
     "output_type": "execute_result"
    }
   ],
   "source": [
    "# ACCURACY\n",
    "accuracy_score(y_train, model.predict(x_train))\n",
    "\n",
    "# 0.9902473770080596"
   ]
  },
  {
   "cell_type": "code",
   "execution_count": 204,
   "metadata": {},
   "outputs": [
    {
     "data": {
      "text/plain": [
       "0.9881428235531222"
      ]
     },
     "execution_count": 204,
     "metadata": {},
     "output_type": "execute_result"
    }
   ],
   "source": [
    "# PRECISION\n",
    "precision_score(y_train, model.predict(x_train))\n",
    "# 0.9881428235531222"
   ]
  },
  {
   "cell_type": "code",
   "execution_count": 205,
   "metadata": {},
   "outputs": [
    {
     "data": {
      "text/plain": [
       "0.4258972391527804"
      ]
     },
     "execution_count": 205,
     "metadata": {},
     "output_type": "execute_result"
    }
   ],
   "source": [
    "# RECALL\n",
    "recall_score(y_train, model.predict(x_train))\n",
    "# 0.4258972391527804"
   ]
  },
  {
   "cell_type": "code",
   "execution_count": 206,
   "metadata": {},
   "outputs": [
    {
     "data": {
      "text/plain": [
       "0.5952409857957994"
      ]
     },
     "execution_count": 206,
     "metadata": {},
     "output_type": "execute_result"
    }
   ],
   "source": [
    "#F1 SCORE\n",
    "f1_score(y_train, model.predict(x_train))\n",
    "# 0.5952409857957994"
   ]
  },
  {
   "cell_type": "code",
   "execution_count": 207,
   "metadata": {},
   "outputs": [
    {
     "data": {
      "text/plain": [
       "0.7129048578859443"
      ]
     },
     "execution_count": 207,
     "metadata": {},
     "output_type": "execute_result"
    }
   ],
   "source": [
    "# AREA BAJO LA CURVA\n",
    "roc_auc_score(y_train, model.predict(x_train))\n",
    "# 0.7129048578859443"
   ]
  },
  {
   "cell_type": "code",
   "execution_count": 208,
   "metadata": {},
   "outputs": [
    {
     "data": {
      "text/plain": [
       "array([[  29418,   39655],\n",
       "       [    353, 4032855]], dtype=int64)"
      ]
     },
     "execution_count": 208,
     "metadata": {},
     "output_type": "execute_result"
    }
   ],
   "source": [
    "# CONFUSION MATRIX\n",
    "cm = confusion_matrix(y_train, model.predict(x_train))\n",
    "cm"
   ]
  },
  {
   "cell_type": "code",
   "execution_count": 209,
   "metadata": {},
   "outputs": [
    {
     "data": {
      "image/png": "[encoded data removed]",
      "text/plain": [
       "<Figure size 432x288 with 1 Axes>"
      ]
     },
     "metadata": {
      "needs_background": "light"
     },
     "output_type": "display_data"
    }
   ],
   "source": [
    "plt.clf()\n",
    "plt.imshow(cm, interpolation='nearest', cmap=plt.cm.Wistia)\n",
    "class1 = ['Mortal','No Mortal']\n",
    "plt.title('Matriz de confusión accidente MORTAL o NO MORTAL - Train data')\n",
    "plt.ylabel('True label')\n",
    "plt.xlabel('Predicted label')\n",
    "tick_marks = np.arange(len(class1))\n",
    "plt.xticks(tick_marks, class1, rotation=45)\n",
    "plt.yticks(tick_marks, class1)\n",
    "s = [['TN','FP'], ['FN', 'TP']]\n",
    "for i in range(2):\n",
    "    for j in range(2):\n",
    "        plt.text(j,i, str(s[i][j])+\" = \"+str(cm[i][j]))\n",
    "plt.show()"
   ]
  },
  {
   "cell_type": "markdown",
   "metadata": {},
   "source": [
    "Mediante la **matriz de correlación** se observa que mediante este modelo se predice mejor los True Negative (Verdaderos Negativos: aquellos accidentes que el modelo predice que son mortales y que en realidad son mortales) aunque el número de False Negative (Falso Negativos: aquellos accidentes que el modelo predice que no son mortales y en realidad son mortales). El objetivo de la predicción de los modelos es minimizar el total de Falsos Positivos y Falsos Negativos, que es lo mismo que maximizar los Verdaderos Negativos y Verdaderos Positivos."
   ]
  },
  {
   "cell_type": "markdown",
   "metadata": {},
   "source": [
    "Todas las métricas que obtenemos para el conjunto de entrenamiento del modelo de XGBoost son mejores que las del modelo anterior. Ahora procedemos a comprobar si ocurre lo mismo con el conjunto de validación."
   ]
  },
  {
   "cell_type": "markdown",
   "metadata": {},
   "source": [
    "**CONJUNTO TEST**"
   ]
  },
  {
   "cell_type": "code",
   "execution_count": 184,
   "metadata": {},
   "outputs": [
    {
     "data": {
      "text/plain": [
       "0.9902663127281911"
      ]
     },
     "execution_count": 184,
     "metadata": {},
     "output_type": "execute_result"
    }
   ],
   "source": [
    "# ACCURACY\n",
    "accuracy_score(y_test, model.predict(x_test))\n",
    "\n",
    "# 0.9902663127281911"
   ]
  },
  {
   "cell_type": "code",
   "execution_count": 198,
   "metadata": {},
   "outputs": [
    {
     "data": {
      "text/plain": [
       "0.9867813844348846"
      ]
     },
     "execution_count": 198,
     "metadata": {},
     "output_type": "execute_result"
    }
   ],
   "source": [
    "# PRECISION\n",
    "precision_score(y_test, model.predict(x_test))\n",
    "# 0.9867813844348846"
   ]
  },
  {
   "cell_type": "code",
   "execution_count": 199,
   "metadata": {},
   "outputs": [
    {
     "data": {
      "text/plain": [
       "0.42679296346414075"
      ]
     },
     "execution_count": 199,
     "metadata": {},
     "output_type": "execute_result"
    }
   ],
   "source": [
    "# RECALL\n",
    "recall_score(y_test, model.predict(x_test))\n",
    "# 0.42679296346414075"
   ]
  },
  {
   "cell_type": "code",
   "execution_count": 200,
   "metadata": {},
   "outputs": [
    {
     "data": {
      "text/plain": [
       "0.5958672806706814"
      ]
     },
     "execution_count": 200,
     "metadata": {},
     "output_type": "execute_result"
    }
   ],
   "source": [
    "#F1 SCORE\n",
    "f1_score(y_test, model.predict(x_test))\n",
    "# 0.5958672806706814"
   ]
  },
  {
   "cell_type": "code",
   "execution_count": 201,
   "metadata": {},
   "outputs": [
    {
     "data": {
      "text/plain": [
       "0.7133475971396261"
      ]
     },
     "execution_count": 201,
     "metadata": {},
     "output_type": "execute_result"
    }
   ],
   "source": [
    "# AREA BAJO LA CURVA\n",
    "roc_auc_score(y_test, model.predict(x_test))\n",
    "# 0.7133475971396261"
   ]
  },
  {
   "cell_type": "markdown",
   "metadata": {},
   "source": [
    "Confirmamos con las métricas que el modelo es un poco mejor que el anterior aunque la **exhaustividad (o recall)** es limitada (el modelo es capaz de identificar solo el 42,68% de los accidentes mortales) lo que hace que el **score F1** disminuya en comparación con la **precisión** de casi el 99%. El **área bajo la curva** se acerca más a 1 que el anterior modelo, lo que indica que este modelo es más preciso."
   ]
  },
  {
   "cell_type": "code",
   "execution_count": 194,
   "metadata": {},
   "outputs": [
    {
     "data": {
      "text/plain": [
       "array([[  12616,   16944],\n",
       "       [    169, 1728392]], dtype=int64)"
      ]
     },
     "execution_count": 194,
     "metadata": {},
     "output_type": "execute_result"
    }
   ],
   "source": [
    "# CONFUSION MATRIX\n",
    "cm = confusion_matrix(y_test, model.predict(x_test))\n",
    "cm"
   ]
  },
  {
   "cell_type": "code",
   "execution_count": 195,
   "metadata": {},
   "outputs": [
    {
     "data": {
      "image/png": "[encoded data removed]",
      "text/plain": [
       "<Figure size 432x288 with 1 Axes>"
      ]
     },
     "metadata": {
      "needs_background": "light"
     },
     "output_type": "display_data"
    }
   ],
   "source": [
    "plt.clf()\n",
    "plt.imshow(cm, interpolation='nearest', cmap=plt.cm.Wistia)\n",
    "class1 = ['Mortal','No Mortal']\n",
    "plt.title('Matriz de confusión accidente MORTAL o NO MORTAL - Test data')\n",
    "plt.ylabel('True label')\n",
    "plt.xlabel('Predicted label')\n",
    "tick_marks = np.arange(len(class1))\n",
    "plt.xticks(tick_marks, class1, rotation=45)\n",
    "plt.yticks(tick_marks, class1)\n",
    "s = [['TN','FP'], ['FN', 'TP']]\n",
    "for i in range(2):\n",
    "    for j in range(2):\n",
    "        plt.text(j,i, str(s[i][j])+\" = \"+str(cm[i][j]))\n",
    "plt.show()"
   ]
  },
  {
   "cell_type": "markdown",
   "metadata": {},
   "source": [
    "Al igual que ocurre con la matriz de confusión del conjunto de entrenamiento, en este caso se reduce el número de Falsos Positivos, aunque el modelo sigue sin ser capaz de identificar al menos el 50% de los accidentes mortales (como hemos visto antes con la precisión del 42%). Se reduce el número de Verdaderos Positivos respecto al modelo anterior por 169, que se compensa con la identificación de los Verdaderos Negativos. Es por ello, que se puede decir que el modelo de XGboost es más preciso que el modelo de Regresión Logística calculado previamente."
   ]
  },
  {
   "cell_type": "markdown",
   "metadata": {},
   "source": [
    "# Interpretación"
   ]
  },
  {
   "cell_type": "markdown",
   "metadata": {},
   "source": [
    "Dado que el modelo que mejor predice es el XGBoost, analizaremos la **importancia de las variables** de la base de datos en el modelo y la variable objetivo **según el peso, cover y ganancia**:"
   ]
  },
  {
   "cell_type": "markdown",
   "metadata": {},
   "source": [
    "**Importancia de las variables según el PESO:**"
   ]
  },
  {
   "cell_type": "code",
   "execution_count": 220,
   "metadata": {},
   "outputs": [
    {
     "data": {
      "image/png": "[encoded data removed]",
      "text/plain": [
       "<Figure size 432x288 with 1 Axes>"
      ]
     },
     "metadata": {
      "needs_background": "light"
     },
     "output_type": "display_data"
    }
   ],
   "source": [
    "xgb.plot_importance(model)\n",
    "plt.title('Importancia de las variables del modelo según Peso')\n",
    "plt.show()"
   ]
  },
  {
   "cell_type": "markdown",
   "metadata": {},
   "source": [
    "El peso muestra el número de veces que la característica se utiliza para dividir los datos. Este tipo de importancia de la característica puede favorecer las características numéricas y de alta cardinalidad. Se usa por default.\n",
    "\n",
    "En este caso la variable más importante es *'C_CONF'* que corresponde a la configuración del accidente (proporciona información sobre el movimiento de los vehículos y la dirección). También son importantes en menor medida pero por valores muy similares: *'P_ISEV'* (tratamiento médico requerido), *'C_VEHS'* (número de vehículos implicados en el accidente) y *'V_TYPE'* (tipo de vehiculo).\n",
    "\n",
    "La variable menos importante respecto al peso es *'P_SEX'* (genero), seguido por más de 20 puntos *'P_USER'* (tipo de usuario de la carretera), *'C_WTHR'* (Condiciones meteorológicas) y *'V_ID'* (Número de secuencia del vehículo).\n"
   ]
  },
  {
   "cell_type": "markdown",
   "metadata": {},
   "source": [
    "**Importancia de las variables según COVER (cobertura):**"
   ]
  },
  {
   "cell_type": "code",
   "execution_count": 221,
   "metadata": {},
   "outputs": [
    {
     "data": {
      "image/png": "[encoded data removed]",
      "text/plain": [
       "<Figure size 432x288 with 1 Axes>"
      ]
     },
     "metadata": {
      "needs_background": "light"
     },
     "output_type": "display_data"
    }
   ],
   "source": [
    "# Importancia por cover\n",
    "xgb.plot_importance(model, importance_type=\"cover\")\n",
    "plt.title('Importancia de las variables del modelo según cover')\n",
    "plt.show()"
   ]
  },
  {
   "cell_type": "markdown",
   "metadata": {},
   "source": [
    "La métrica Cover (cobertura) significa el número relativo de observaciones relacionadas con esta característica. \n",
    "\n",
    "La variable más importante es *'C_TRAF'* (control del tráfico), seguido por mucha distancia de *'P_ISEV'* (tratamiento médico requerido) y *'C_VEHS'* (número de vehículos implicados en el accidente).\n",
    "\n",
    "Las variables menos importantes son las relativas a fechas como el año del accidente, *'C_YEAR'*, el año del vehículo, *'V_YEAR'*, el día de la semana del accidente, *'C_WDAY'*."
   ]
  },
  {
   "cell_type": "markdown",
   "metadata": {},
   "source": [
    "**Importancia de las variables según GANANCIA:**"
   ]
  },
  {
   "cell_type": "code",
   "execution_count": 222,
   "metadata": {},
   "outputs": [
    {
     "data": {
      "image/png": "[encoded data removed]",
      "text/plain": [
       "<Figure size 432x288 with 1 Axes>"
      ]
     },
     "metadata": {
      "needs_background": "light"
     },
     "output_type": "display_data"
    }
   ],
   "source": [
    "# Importancia por ganancia\n",
    "xgb.plot_importance(model, importance_type=\"gain\")\n",
    "plt.title('Importancia de las variables del modelo según ganancia')\n",
    "plt.show()"
   ]
  },
  {
   "cell_type": "markdown",
   "metadata": {},
   "source": [
    "La ganancia implica la contribución relativa de la característica correspondiente al modelo, calculada tomando la contribución de cada característica para cada árbol del modelo. Un valor más alto de esta métrica en comparación con otra característica implica que es más importante para generar una predicción. Por ello, la ganancia es el atributo más relevante para interpretar la importancia relativa de cada característica.\n",
    "\n",
    "La variable más importante con mucha distancia respecto al resto es *'P_ISEV'* (tratamiento médico requerido).\n",
    "\n",
    "Las variables menos importantes son *'P_PSN'* (posición), *'C_MNTH'* (mes del accidente), *'P_AGE'* (edad) y *'V_YEAR'* (año del modelo del vehículo."
   ]
  },
  {
   "cell_type": "markdown",
   "metadata": {},
   "source": [
    "#### Estudio de la distribución de P_ISEV (tratamiento médico)"
   ]
  },
  {
   "cell_type": "code",
   "execution_count": 224,
   "metadata": {},
   "outputs": [
    {
     "name": "stdout",
     "output_type": "stream",
     "text": [
      "2    52.443996\n",
      "1    40.529762\n",
      "0     6.337654\n",
      "3     0.688588\n",
      "Name: P_ISEV, dtype: float64\n"
     ]
    },
    {
     "data": {
      "text/plain": [
       "Text(0, 0.5, 'Frecuencia')"
      ]
     },
     "execution_count": 224,
     "metadata": {},
     "output_type": "execute_result"
    },
    {
     "data": {
      "image/png": "[encoded data removed]",
      "text/plain": [
       "<Figure size 1008x576 with 1 Axes>"
      ]
     },
     "metadata": {
      "needs_background": "light"
     },
     "output_type": "display_data"
    }
   ],
   "source": [
    "print(df_model['P_ISEV'].value_counts()/sum(df_model['P_ISEV'].value_counts())*100)\n",
    "ax = df_model['P_ISEV'].value_counts().plot(kind='bar',\n",
    "                                    figsize=(14,8),\n",
    "                                    title=\"Número de Accidentes según tipo de tratamiento médico\", color=[\"lightblue\",\"lightgreen\"])\n",
    "ax.set_xlabel(\"Tratamiento médico\")\n",
    "ax.set_ylabel(\"Frecuencia\")"
   ]
  },
  {
   "cell_type": "markdown",
   "metadata": {},
   "source": [
    "P_ISEV: tratamiento médico requerido\n",
    "- 0: valores especiales modificados (N, U, X)    \n",
    "- 1: ninguna lesión\n",
    "- 2: lesión\n",
    "- 3: mortal"
   ]
  },
  {
   "cell_type": "markdown",
   "metadata": {},
   "source": [
    "# Conclusiones"
   ]
  },
  {
   "cell_type": "markdown",
   "metadata": {},
   "source": [
    "**Dado un accidente, ¿se puede generar un modelo que prediga si habrá fallecimientos o no? ¿Si se va a necesitar tratamiento médico o no? Las aseguradoras tienen que inmovilizar capital para pagar estas casuísticas.**"
   ]
  },
  {
   "cell_type": "markdown",
   "metadata": {},
   "source": [
    "- Tras haber entrenado los modelos de Regresión Logística y XGBoost, hemos determinado que el modelo XGBoost predice mejor la mortalidad de los accidentes basándonos en las métricas de precisión, exactitud, recall, matriz de confusión y área bajo la curva.\n",
    "- Una vez seleccionado el modelo XGBoost, hemos determinado la importancia de las variables según los tipos de peso, ganancia y cover. Todos tienen en común que la variable más importante es *'P_ISEV'* que informa sobre el tratamiento médico.\n",
    "- Según el breve estudio de la distribución de la variable del tratamiento médico, más de la mitad necesitan atención médica, solo fallecen en el acto el 0,69%. Las aseguradoras deberían inmovilizar provisiones para atender al tratamiento médico que suponen los accidentes, ya que solo en el 40% de las ocasiones no hay lesiones."
   ]
  }
 ],
 "metadata": {
  "kernelspec": {
   "display_name": "Python 3",
   "language": "python",
   "name": "python3"
  },
  "language_info": {
   "codemirror_mode": {
    "name": "ipython",
    "version": 3
   },
   "file_extension": ".py",
   "mimetype": "text/x-python",
   "name": "python",
   "nbconvert_exporter": "python",
   "pygments_lexer": "ipython3",
   "version": "3.8.5"
  }
 },
 "nbformat": 4,
 "nbformat_minor": 4
}
