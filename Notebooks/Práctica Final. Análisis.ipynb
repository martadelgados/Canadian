{
 "cells": [
  {
   "cell_type": "markdown",
   "id": "2f3561c2",
   "metadata": {},
   "source": [
    "# PRÁCTICA FINAL "
   ]
  },
  {
   "cell_type": "markdown",
   "id": "886d192c",
   "metadata": {},
   "source": [
    "**Machine Learning: Modelos Supervisados**"
   ]
  },
  {
   "cell_type": "markdown",
   "id": "d64ce8ed",
   "metadata": {},
   "source": [
    "*Autores: Marta Delgado, Susana Jodra, Marta Onieva, Loreto Torres*"
   ]
  },
  {
   "cell_type": "markdown",
   "id": "388a7c34",
   "metadata": {},
   "source": [
    "------"
   ]
  },
  {
   "cell_type": "markdown",
   "id": "afd47698",
   "metadata": {},
   "source": [
    "## Librerías"
   ]
  },
  {
   "cell_type": "code",
   "execution_count": 1,
   "id": "b064db15",
   "metadata": {},
   "outputs": [],
   "source": [
    "import pandas as pd\n",
    "import warnings\n",
    "warnings.filterwarnings('ignore')\n",
    "import numpy as np\n",
    "import matplotlib.pyplot as plt\n",
    "import seaborn as sns\n",
    "from sklearn.impute import SimpleImputer\n",
    "from sklearn.impute import KNNImputer\n",
    "from sklearn.preprocessing import StandardScaler\n",
    "from sklearn.preprocessing import LabelEncoder\n",
    "from sklearn.metrics import confusion_matrix\n",
    "from  sklearn.ensemble import BaggingRegressor\n",
    "from sklearn.ensemble import GradientBoostingClassifier\n",
    "from sklearn.linear_model import LogisticRegression\n",
    "from IPython.display import Image\n",
    "from IPython.core.display import HTML "
   ]
  },
  {
   "cell_type": "markdown",
   "id": "1734e5b5",
   "metadata": {},
   "source": [
    "## Introducción"
   ]
  },
  {
   "cell_type": "markdown",
   "id": "bf7b41ed",
   "metadata": {},
   "source": [
    "En esta práctica nos encontramos ante un problema de clasificación: vamos a obtener una variable categórica como respuesta. Para este ejercicio obtendremos los datos de **Canadian Car Accidents 1994-2014**. Analizaremos en profundidad las siguientes cuestiones:"
   ]
  },
  {
   "cell_type": "markdown",
   "id": "d7742f59",
   "metadata": {},
   "source": [
    "- ¿Qué tipos de vehículos (modelos, antigüedad, etc.) y conductores son más propensos a tener accidentes (acción correctiva en prima)?\n",
    "- ¿Qué tipos de vehículos (modelos, antigüedad, etc.) y conductores son menos propensos a tener accidentes (descuento en prima)?\n",
    "- ¿Qué es lo que más contribuye a que existan fallecimientos en un accidente?\n",
    "- Dado un accidente, ¿se puede generar un modelo que prediga si habrá fallecimientos o no? ¿Si se va a necesitar tratamiento médico o no? Las aseguradoras tienen que inmovilizar capital para pagar estas casuísticas.\n",
    "- Libertad para generar análisis de valor y nuevas ideas. Se debe atacar mínimo un modelo (estimar si habrá fallecidos o no). Hecho esto, se puede plantear de forma opcional otros alcances (libertad para plantear opciones).\n",
    "- Plus: complementar con datos abiertos de clima (aunque Canadá es muy grande) y de otra tipología, ¿hay algún tipo de relación con temperaturas medias, precipitación media del día/mes, nieve...? ¿a más días festivos o de vacaciones, más accidentes? etc.\n"
   ]
  },
  {
   "cell_type": "code",
   "execution_count": 2,
   "id": "c2de0715",
   "metadata": {},
   "outputs": [
    {
     "data": {
      "text/html": [
       "<img src=\"https://www.callkleinlawyers.com/wp-content/uploads/2019/08/burnaby-car-accident.jpg\"/>"
      ],
      "text/plain": [
       "<IPython.core.display.Image object>"
      ]
     },
     "execution_count": 2,
     "metadata": {},
     "output_type": "execute_result"
    }
   ],
   "source": [
    "Image(url= \"https://www.callkleinlawyers.com/wp-content/uploads/2019/08/burnaby-car-accident.jpg\")"
   ]
  },
  {
   "cell_type": "markdown",
   "id": "c7002f72",
   "metadata": {},
   "source": [
    "## 1. Datos:"
   ]
  },
  {
   "cell_type": "markdown",
   "id": "76a80006",
   "metadata": {},
   "source": [
    "En primer lugar importamos los datos. El dataset usado será obtenido de: https://www.kaggle.com/datasets/tbsteal/canadian-car-accidents-19942014?select=drivingLegend.pdf"
   ]
  },
  {
   "cell_type": "code",
   "execution_count": 3,
   "id": "1161abbe",
   "metadata": {},
   "outputs": [],
   "source": [
    "db = pd.read_csv(\"NCDB_1999_to_2014.csv\")"
   ]
  },
  {
   "cell_type": "code",
   "execution_count": 4,
   "id": "4cf1bdb8",
   "metadata": {},
   "outputs": [
    {
     "name": "stdout",
     "output_type": "stream",
     "text": [
      "(5860405, 22)\n"
     ]
    },
    {
     "data": {
      "text/html": [
       "<div>\n",
       "<style scoped>\n",
       "    .dataframe tbody tr th:only-of-type {\n",
       "        vertical-align: middle;\n",
       "    }\n",
       "\n",
       "    .dataframe tbody tr th {\n",
       "        vertical-align: top;\n",
       "    }\n",
       "\n",
       "    .dataframe thead th {\n",
       "        text-align: right;\n",
       "    }\n",
       "</style>\n",
       "<table border=\"1\" class=\"dataframe\">\n",
       "  <thead>\n",
       "    <tr style=\"text-align: right;\">\n",
       "      <th></th>\n",
       "      <th>C_YEAR</th>\n",
       "      <th>C_MNTH</th>\n",
       "      <th>C_WDAY</th>\n",
       "      <th>C_HOUR</th>\n",
       "      <th>C_SEV</th>\n",
       "      <th>C_VEHS</th>\n",
       "      <th>C_CONF</th>\n",
       "      <th>C_RCFG</th>\n",
       "      <th>C_WTHR</th>\n",
       "      <th>C_RSUR</th>\n",
       "      <th>...</th>\n",
       "      <th>V_ID</th>\n",
       "      <th>V_TYPE</th>\n",
       "      <th>V_YEAR</th>\n",
       "      <th>P_ID</th>\n",
       "      <th>P_SEX</th>\n",
       "      <th>P_AGE</th>\n",
       "      <th>P_PSN</th>\n",
       "      <th>P_ISEV</th>\n",
       "      <th>P_SAFE</th>\n",
       "      <th>P_USER</th>\n",
       "    </tr>\n",
       "  </thead>\n",
       "  <tbody>\n",
       "    <tr>\n",
       "      <th>0</th>\n",
       "      <td>1999</td>\n",
       "      <td>1</td>\n",
       "      <td>1</td>\n",
       "      <td>20</td>\n",
       "      <td>2</td>\n",
       "      <td>02</td>\n",
       "      <td>34</td>\n",
       "      <td>UU</td>\n",
       "      <td>1</td>\n",
       "      <td>5</td>\n",
       "      <td>...</td>\n",
       "      <td>01</td>\n",
       "      <td>06</td>\n",
       "      <td>1990</td>\n",
       "      <td>01</td>\n",
       "      <td>M</td>\n",
       "      <td>41</td>\n",
       "      <td>11</td>\n",
       "      <td>1</td>\n",
       "      <td>UU</td>\n",
       "      <td>1</td>\n",
       "    </tr>\n",
       "    <tr>\n",
       "      <th>1</th>\n",
       "      <td>1999</td>\n",
       "      <td>1</td>\n",
       "      <td>1</td>\n",
       "      <td>20</td>\n",
       "      <td>2</td>\n",
       "      <td>02</td>\n",
       "      <td>34</td>\n",
       "      <td>UU</td>\n",
       "      <td>1</td>\n",
       "      <td>5</td>\n",
       "      <td>...</td>\n",
       "      <td>02</td>\n",
       "      <td>01</td>\n",
       "      <td>1987</td>\n",
       "      <td>01</td>\n",
       "      <td>M</td>\n",
       "      <td>19</td>\n",
       "      <td>11</td>\n",
       "      <td>1</td>\n",
       "      <td>UU</td>\n",
       "      <td>1</td>\n",
       "    </tr>\n",
       "    <tr>\n",
       "      <th>2</th>\n",
       "      <td>1999</td>\n",
       "      <td>1</td>\n",
       "      <td>1</td>\n",
       "      <td>20</td>\n",
       "      <td>2</td>\n",
       "      <td>02</td>\n",
       "      <td>34</td>\n",
       "      <td>UU</td>\n",
       "      <td>1</td>\n",
       "      <td>5</td>\n",
       "      <td>...</td>\n",
       "      <td>02</td>\n",
       "      <td>01</td>\n",
       "      <td>1987</td>\n",
       "      <td>02</td>\n",
       "      <td>F</td>\n",
       "      <td>20</td>\n",
       "      <td>13</td>\n",
       "      <td>2</td>\n",
       "      <td>02</td>\n",
       "      <td>2</td>\n",
       "    </tr>\n",
       "    <tr>\n",
       "      <th>3</th>\n",
       "      <td>1999</td>\n",
       "      <td>1</td>\n",
       "      <td>1</td>\n",
       "      <td>08</td>\n",
       "      <td>2</td>\n",
       "      <td>01</td>\n",
       "      <td>01</td>\n",
       "      <td>UU</td>\n",
       "      <td>5</td>\n",
       "      <td>3</td>\n",
       "      <td>...</td>\n",
       "      <td>01</td>\n",
       "      <td>01</td>\n",
       "      <td>1986</td>\n",
       "      <td>01</td>\n",
       "      <td>M</td>\n",
       "      <td>46</td>\n",
       "      <td>11</td>\n",
       "      <td>1</td>\n",
       "      <td>UU</td>\n",
       "      <td>1</td>\n",
       "    </tr>\n",
       "    <tr>\n",
       "      <th>4</th>\n",
       "      <td>1999</td>\n",
       "      <td>1</td>\n",
       "      <td>1</td>\n",
       "      <td>08</td>\n",
       "      <td>2</td>\n",
       "      <td>01</td>\n",
       "      <td>01</td>\n",
       "      <td>UU</td>\n",
       "      <td>5</td>\n",
       "      <td>3</td>\n",
       "      <td>...</td>\n",
       "      <td>99</td>\n",
       "      <td>NN</td>\n",
       "      <td>NNNN</td>\n",
       "      <td>01</td>\n",
       "      <td>M</td>\n",
       "      <td>05</td>\n",
       "      <td>99</td>\n",
       "      <td>2</td>\n",
       "      <td>UU</td>\n",
       "      <td>3</td>\n",
       "    </tr>\n",
       "  </tbody>\n",
       "</table>\n",
       "<p>5 rows × 22 columns</p>\n",
       "</div>"
      ],
      "text/plain": [
       "   C_YEAR C_MNTH C_WDAY C_HOUR  C_SEV C_VEHS C_CONF C_RCFG C_WTHR C_RSUR  ...  \\\n",
       "0    1999      1      1     20      2     02     34     UU      1      5  ...   \n",
       "1    1999      1      1     20      2     02     34     UU      1      5  ...   \n",
       "2    1999      1      1     20      2     02     34     UU      1      5  ...   \n",
       "3    1999      1      1     08      2     01     01     UU      5      3  ...   \n",
       "4    1999      1      1     08      2     01     01     UU      5      3  ...   \n",
       "\n",
       "  V_ID V_TYPE V_YEAR P_ID P_SEX P_AGE P_PSN P_ISEV P_SAFE P_USER  \n",
       "0   01     06   1990   01     M    41    11      1     UU      1  \n",
       "1   02     01   1987   01     M    19    11      1     UU      1  \n",
       "2   02     01   1987   02     F    20    13      2     02      2  \n",
       "3   01     01   1986   01     M    46    11      1     UU      1  \n",
       "4   99     NN   NNNN   01     M    05    99      2     UU      3  \n",
       "\n",
       "[5 rows x 22 columns]"
      ]
     },
     "execution_count": 4,
     "metadata": {},
     "output_type": "execute_result"
    }
   ],
   "source": [
    "print(db.shape)\n",
    "db.head(5)"
   ]
  },
  {
   "cell_type": "markdown",
   "id": "8ba5a5f3",
   "metadata": {},
   "source": [
    "### 1.1 ANÁLISIS Y ESTUDIO INICIAL "
   ]
  },
  {
   "cell_type": "markdown",
   "id": "c5049460",
   "metadata": {},
   "source": [
    "El dataset con el que vamos a trabajar trata información que hace referencia a los accidentes de tráfico en Canada desde 1999 hasta 2014. Vemos que la información se compone de datos sobre las personas relacionadas con el accidente (`P_`), datos relativos al accidente (`C_`) y por último, datos relativos al vehículo involucrado (`V_`).\n",
    "\n",
    "La leyenda y significado de cada una de las variables se encuentra, en la carpeta `Information` del repositorio, bajo el nombre `drivingLegend`. La primera página incluye un pequeño resumen del dataset (`Canadian Car Accidents`) y de sus variables, y en el resto del documento, explica en detalle información sobre cada una de ellas. "
   ]
  },
  {
   "cell_type": "markdown",
   "id": "f55ebcd8",
   "metadata": {},
   "source": [
    "- **C_YEAR**: Year,\n",
    "- **C_MNTH**: Month, \n",
    "- **C_WDAY**: Day of week, \n",
    "- **C_HOUR**: Collision hour, \n",
    "- **C_SEV**: Collision severity, \n",
    "- **C_VEHS**: Number of vehicles involved in collision, \n",
    "- **C_CONF**: Collision configuration,\n",
    "- **C_RCFG**: Roadway configuration, \n",
    "- **C_WTHR**: Weather condition, \n",
    "- **C_RSUR**: Road surface, \n",
    "- **C_RALN**: Road alignment, \n",
    "- **C_TRAF**: Traffic control, \n",
    "- **V_ID**: Vehicle sequence number, \n",
    "- **V_TYPE**: Vehicle type,\n",
    "- **V_YEAR**: Vehicle model year, \n",
    "- **P_ID**: Person sequence number, \n",
    "- **P_SEX**: Person sex, \n",
    "- **P_AGE**: Person age, \n",
    "- **P_PSN**: Person position, \n",
    "- **P_ISEV**: Medical treatment required, \n",
    "- **P_SAFE**: Safety device used,\n",
    "- **P_USER**: Road user class\n",
    "\n",
    "En general: *`UU/U`: Unknown; `XX/X`: Jurisdiction does not provide this data; `QQ/Q`: Choice is other than the preceding values; `NN`: data element nos applicable*"
   ]
  },
  {
   "cell_type": "code",
   "execution_count": 5,
   "id": "b9b25341",
   "metadata": {},
   "outputs": [
    {
     "name": "stdout",
     "output_type": "stream",
     "text": [
      "Tipos de datos en el dataset:\n",
      "------------------------------\n"
     ]
    },
    {
     "data": {
      "text/html": [
       "<div>\n",
       "<style scoped>\n",
       "    .dataframe tbody tr th:only-of-type {\n",
       "        vertical-align: middle;\n",
       "    }\n",
       "\n",
       "    .dataframe tbody tr th {\n",
       "        vertical-align: top;\n",
       "    }\n",
       "\n",
       "    .dataframe thead th {\n",
       "        text-align: right;\n",
       "    }\n",
       "</style>\n",
       "<table border=\"1\" class=\"dataframe\">\n",
       "  <thead>\n",
       "    <tr style=\"text-align: right;\">\n",
       "      <th></th>\n",
       "      <th>TYPE</th>\n",
       "    </tr>\n",
       "  </thead>\n",
       "  <tbody>\n",
       "    <tr>\n",
       "      <th>C_YEAR</th>\n",
       "      <td>int64</td>\n",
       "    </tr>\n",
       "    <tr>\n",
       "      <th>C_MNTH</th>\n",
       "      <td>object</td>\n",
       "    </tr>\n",
       "    <tr>\n",
       "      <th>C_WDAY</th>\n",
       "      <td>object</td>\n",
       "    </tr>\n",
       "    <tr>\n",
       "      <th>C_HOUR</th>\n",
       "      <td>object</td>\n",
       "    </tr>\n",
       "    <tr>\n",
       "      <th>C_SEV</th>\n",
       "      <td>int64</td>\n",
       "    </tr>\n",
       "    <tr>\n",
       "      <th>C_VEHS</th>\n",
       "      <td>object</td>\n",
       "    </tr>\n",
       "    <tr>\n",
       "      <th>C_CONF</th>\n",
       "      <td>object</td>\n",
       "    </tr>\n",
       "    <tr>\n",
       "      <th>C_RCFG</th>\n",
       "      <td>object</td>\n",
       "    </tr>\n",
       "    <tr>\n",
       "      <th>C_WTHR</th>\n",
       "      <td>object</td>\n",
       "    </tr>\n",
       "    <tr>\n",
       "      <th>C_RSUR</th>\n",
       "      <td>object</td>\n",
       "    </tr>\n",
       "    <tr>\n",
       "      <th>C_RALN</th>\n",
       "      <td>object</td>\n",
       "    </tr>\n",
       "    <tr>\n",
       "      <th>C_TRAF</th>\n",
       "      <td>object</td>\n",
       "    </tr>\n",
       "    <tr>\n",
       "      <th>V_ID</th>\n",
       "      <td>object</td>\n",
       "    </tr>\n",
       "    <tr>\n",
       "      <th>V_TYPE</th>\n",
       "      <td>object</td>\n",
       "    </tr>\n",
       "    <tr>\n",
       "      <th>V_YEAR</th>\n",
       "      <td>object</td>\n",
       "    </tr>\n",
       "    <tr>\n",
       "      <th>P_ID</th>\n",
       "      <td>object</td>\n",
       "    </tr>\n",
       "    <tr>\n",
       "      <th>P_SEX</th>\n",
       "      <td>object</td>\n",
       "    </tr>\n",
       "    <tr>\n",
       "      <th>P_AGE</th>\n",
       "      <td>object</td>\n",
       "    </tr>\n",
       "    <tr>\n",
       "      <th>P_PSN</th>\n",
       "      <td>object</td>\n",
       "    </tr>\n",
       "    <tr>\n",
       "      <th>P_ISEV</th>\n",
       "      <td>object</td>\n",
       "    </tr>\n",
       "    <tr>\n",
       "      <th>P_SAFE</th>\n",
       "      <td>object</td>\n",
       "    </tr>\n",
       "    <tr>\n",
       "      <th>P_USER</th>\n",
       "      <td>object</td>\n",
       "    </tr>\n",
       "  </tbody>\n",
       "</table>\n",
       "</div>"
      ],
      "text/plain": [
       "          TYPE\n",
       "C_YEAR   int64\n",
       "C_MNTH  object\n",
       "C_WDAY  object\n",
       "C_HOUR  object\n",
       "C_SEV    int64\n",
       "C_VEHS  object\n",
       "C_CONF  object\n",
       "C_RCFG  object\n",
       "C_WTHR  object\n",
       "C_RSUR  object\n",
       "C_RALN  object\n",
       "C_TRAF  object\n",
       "V_ID    object\n",
       "V_TYPE  object\n",
       "V_YEAR  object\n",
       "P_ID    object\n",
       "P_SEX   object\n",
       "P_AGE   object\n",
       "P_PSN   object\n",
       "P_ISEV  object\n",
       "P_SAFE  object\n",
       "P_USER  object"
      ]
     },
     "execution_count": 5,
     "metadata": {},
     "output_type": "execute_result"
    }
   ],
   "source": [
    "print('Tipos de datos en el dataset:')\n",
    "print('------------------------------')\n",
    "tipos=pd.DataFrame(db.dtypes)\n",
    "tipos=tipos.rename(columns={0:'TYPE'})\n",
    "tipos"
   ]
  },
  {
   "cell_type": "markdown",
   "id": "f1689841",
   "metadata": {},
   "source": [
    "El hecho de que existan variables no conocidas (U), no especificadas (X), no definida (Q) causa que la mayoría de las variables sean de tipo `object`, a pesar de estar mayoritariamente compuesta por números. Por ello, llevaremos a cabo un procesamiento de los datos:"
   ]
  },
  {
   "cell_type": "markdown",
   "id": "ab32ad64",
   "metadata": {},
   "source": [
    "### 1.2 TRATAMIENTO DE LOS VALORES MISSING (NA's)"
   ]
  },
  {
   "cell_type": "code",
   "execution_count": 6,
   "id": "5b1d0b8f",
   "metadata": {},
   "outputs": [
    {
     "data": {
      "text/html": [
       "<div>\n",
       "<style scoped>\n",
       "    .dataframe tbody tr th:only-of-type {\n",
       "        vertical-align: middle;\n",
       "    }\n",
       "\n",
       "    .dataframe tbody tr th {\n",
       "        vertical-align: top;\n",
       "    }\n",
       "\n",
       "    .dataframe thead th {\n",
       "        text-align: right;\n",
       "    }\n",
       "</style>\n",
       "<table border=\"1\" class=\"dataframe\">\n",
       "  <thead>\n",
       "    <tr style=\"text-align: right;\">\n",
       "      <th></th>\n",
       "      <th>Nº NAs</th>\n",
       "    </tr>\n",
       "  </thead>\n",
       "  <tbody>\n",
       "    <tr>\n",
       "      <th>C_YEAR</th>\n",
       "      <td>0</td>\n",
       "    </tr>\n",
       "    <tr>\n",
       "      <th>C_MNTH</th>\n",
       "      <td>0</td>\n",
       "    </tr>\n",
       "    <tr>\n",
       "      <th>C_WDAY</th>\n",
       "      <td>0</td>\n",
       "    </tr>\n",
       "    <tr>\n",
       "      <th>C_HOUR</th>\n",
       "      <td>0</td>\n",
       "    </tr>\n",
       "    <tr>\n",
       "      <th>C_SEV</th>\n",
       "      <td>0</td>\n",
       "    </tr>\n",
       "    <tr>\n",
       "      <th>C_VEHS</th>\n",
       "      <td>3</td>\n",
       "    </tr>\n",
       "    <tr>\n",
       "      <th>C_CONF</th>\n",
       "      <td>0</td>\n",
       "    </tr>\n",
       "    <tr>\n",
       "      <th>C_RCFG</th>\n",
       "      <td>0</td>\n",
       "    </tr>\n",
       "    <tr>\n",
       "      <th>C_WTHR</th>\n",
       "      <td>0</td>\n",
       "    </tr>\n",
       "    <tr>\n",
       "      <th>C_RSUR</th>\n",
       "      <td>0</td>\n",
       "    </tr>\n",
       "    <tr>\n",
       "      <th>C_RALN</th>\n",
       "      <td>0</td>\n",
       "    </tr>\n",
       "    <tr>\n",
       "      <th>C_TRAF</th>\n",
       "      <td>0</td>\n",
       "    </tr>\n",
       "    <tr>\n",
       "      <th>V_ID</th>\n",
       "      <td>0</td>\n",
       "    </tr>\n",
       "    <tr>\n",
       "      <th>V_TYPE</th>\n",
       "      <td>0</td>\n",
       "    </tr>\n",
       "    <tr>\n",
       "      <th>V_YEAR</th>\n",
       "      <td>0</td>\n",
       "    </tr>\n",
       "    <tr>\n",
       "      <th>P_ID</th>\n",
       "      <td>0</td>\n",
       "    </tr>\n",
       "    <tr>\n",
       "      <th>P_SEX</th>\n",
       "      <td>0</td>\n",
       "    </tr>\n",
       "    <tr>\n",
       "      <th>P_AGE</th>\n",
       "      <td>0</td>\n",
       "    </tr>\n",
       "    <tr>\n",
       "      <th>P_PSN</th>\n",
       "      <td>0</td>\n",
       "    </tr>\n",
       "    <tr>\n",
       "      <th>P_ISEV</th>\n",
       "      <td>0</td>\n",
       "    </tr>\n",
       "    <tr>\n",
       "      <th>P_SAFE</th>\n",
       "      <td>0</td>\n",
       "    </tr>\n",
       "    <tr>\n",
       "      <th>P_USER</th>\n",
       "      <td>0</td>\n",
       "    </tr>\n",
       "  </tbody>\n",
       "</table>\n",
       "</div>"
      ],
      "text/plain": [
       "        Nº NAs\n",
       "C_YEAR       0\n",
       "C_MNTH       0\n",
       "C_WDAY       0\n",
       "C_HOUR       0\n",
       "C_SEV        0\n",
       "C_VEHS       3\n",
       "C_CONF       0\n",
       "C_RCFG       0\n",
       "C_WTHR       0\n",
       "C_RSUR       0\n",
       "C_RALN       0\n",
       "C_TRAF       0\n",
       "V_ID         0\n",
       "V_TYPE       0\n",
       "V_YEAR       0\n",
       "P_ID         0\n",
       "P_SEX        0\n",
       "P_AGE        0\n",
       "P_PSN        0\n",
       "P_ISEV       0\n",
       "P_SAFE       0\n",
       "P_USER       0"
      ]
     },
     "execution_count": 6,
     "metadata": {},
     "output_type": "execute_result"
    }
   ],
   "source": [
    "nas=pd.DataFrame(db.isna().sum())\n",
    "nas=nas.rename(columns={0:'Nº NAs'})\n",
    "nas"
   ]
  },
  {
   "cell_type": "markdown",
   "id": "aa8f284c",
   "metadata": {},
   "source": [
    "En referencia al número de NA's en todo el conjunto de datos, vemos que simplemente hay 3 datos faltantes en la columna `C_VEHS`, asi que simplemente procedemos a eliminarlos, ya que consideramos que no afectarán al dataset general."
   ]
  },
  {
   "cell_type": "code",
   "execution_count": 7,
   "id": "e996c0bf",
   "metadata": {},
   "outputs": [],
   "source": [
    "db = db.dropna()"
   ]
  },
  {
   "cell_type": "markdown",
   "id": "e1dcfb59",
   "metadata": {},
   "source": [
    "### 1.3 UNKNOWN VALUES"
   ]
  },
  {
   "cell_type": "markdown",
   "id": "6de5785c",
   "metadata": {},
   "source": [
    "A continuación, analizaremos los valores desconocidos.\n",
    "\n",
    "Como hemos podido ver antes, y como podemos leer en la leyenda de los datos, encontramos una serie de valores desconocidos o unknown values:\n",
    "   - `U`/`UU`/`UUU` : Unknown, un valor desconocido.\n",
    "   - `X`/`XX`/`XXX` : Jurisdiction does not provide this data element, no se ha proporcionado el dato.\n",
    "   - `Q`/`QQ`/`QQQ` : Choice is other than the preceding values, el valor es otra de las categoría conocidas.\n",
    "   - `N`/`NN`/`NNN` : Data element not applicable, generalmente un peatón al que no se le aplica criterio de valoración.\n",
    "\n",
    "Todos ellos suponen información faltante, asi, procederemos a reemplazarlos por valores outliers para no alterar el dataset. "
   ]
  },
  {
   "cell_type": "code",
   "execution_count": 8,
   "id": "e0654595",
   "metadata": {},
   "outputs": [],
   "source": [
    "db[\"V_TYPE\"].replace({\"QQ\": \"24\"}, inplace=True)"
   ]
  },
  {
   "cell_type": "code",
   "execution_count": 9,
   "id": "272eeeb4",
   "metadata": {},
   "outputs": [],
   "source": [
    "cambio_Q = ['Q', 'QQ', 'QQQQ']\n",
    "cambio_N = ['N', 'NN', 'NNNN']\n",
    "cambio_U = ['U', 'UU', 'UUUU']\n",
    "cambio_X = ['X', 'XX', 'XXXX']"
   ]
  },
  {
   "cell_type": "code",
   "execution_count": 10,
   "id": "98a35d40",
   "metadata": {},
   "outputs": [],
   "source": [
    "db = db.replace(cambio_Q, 100)\n",
    "db = db.replace(cambio_N, 100)\n",
    "db = db.replace(cambio_U, 100)\n",
    "db = db.replace(cambio_X, 100)"
   ]
  },
  {
   "cell_type": "code",
   "execution_count": 11,
   "id": "467068bf",
   "metadata": {},
   "outputs": [
    {
     "data": {
      "text/html": [
       "<div>\n",
       "<style scoped>\n",
       "    .dataframe tbody tr th:only-of-type {\n",
       "        vertical-align: middle;\n",
       "    }\n",
       "\n",
       "    .dataframe tbody tr th {\n",
       "        vertical-align: top;\n",
       "    }\n",
       "\n",
       "    .dataframe thead th {\n",
       "        text-align: right;\n",
       "    }\n",
       "</style>\n",
       "<table border=\"1\" class=\"dataframe\">\n",
       "  <thead>\n",
       "    <tr style=\"text-align: right;\">\n",
       "      <th></th>\n",
       "      <th>C_YEAR</th>\n",
       "      <th>C_MNTH</th>\n",
       "      <th>C_WDAY</th>\n",
       "      <th>C_HOUR</th>\n",
       "      <th>C_SEV</th>\n",
       "      <th>C_VEHS</th>\n",
       "      <th>C_CONF</th>\n",
       "      <th>C_RCFG</th>\n",
       "      <th>C_WTHR</th>\n",
       "      <th>C_RSUR</th>\n",
       "      <th>...</th>\n",
       "      <th>V_ID</th>\n",
       "      <th>V_TYPE</th>\n",
       "      <th>V_YEAR</th>\n",
       "      <th>P_ID</th>\n",
       "      <th>P_SEX</th>\n",
       "      <th>P_AGE</th>\n",
       "      <th>P_PSN</th>\n",
       "      <th>P_ISEV</th>\n",
       "      <th>P_SAFE</th>\n",
       "      <th>P_USER</th>\n",
       "    </tr>\n",
       "  </thead>\n",
       "  <tbody>\n",
       "    <tr>\n",
       "      <th>0</th>\n",
       "      <td>1999</td>\n",
       "      <td>1</td>\n",
       "      <td>1</td>\n",
       "      <td>20</td>\n",
       "      <td>2</td>\n",
       "      <td>02</td>\n",
       "      <td>34</td>\n",
       "      <td>100</td>\n",
       "      <td>1</td>\n",
       "      <td>5</td>\n",
       "      <td>...</td>\n",
       "      <td>01</td>\n",
       "      <td>06</td>\n",
       "      <td>1990</td>\n",
       "      <td>01</td>\n",
       "      <td>M</td>\n",
       "      <td>41</td>\n",
       "      <td>11</td>\n",
       "      <td>1</td>\n",
       "      <td>100</td>\n",
       "      <td>1</td>\n",
       "    </tr>\n",
       "    <tr>\n",
       "      <th>1</th>\n",
       "      <td>1999</td>\n",
       "      <td>1</td>\n",
       "      <td>1</td>\n",
       "      <td>20</td>\n",
       "      <td>2</td>\n",
       "      <td>02</td>\n",
       "      <td>34</td>\n",
       "      <td>100</td>\n",
       "      <td>1</td>\n",
       "      <td>5</td>\n",
       "      <td>...</td>\n",
       "      <td>02</td>\n",
       "      <td>01</td>\n",
       "      <td>1987</td>\n",
       "      <td>01</td>\n",
       "      <td>M</td>\n",
       "      <td>19</td>\n",
       "      <td>11</td>\n",
       "      <td>1</td>\n",
       "      <td>100</td>\n",
       "      <td>1</td>\n",
       "    </tr>\n",
       "    <tr>\n",
       "      <th>2</th>\n",
       "      <td>1999</td>\n",
       "      <td>1</td>\n",
       "      <td>1</td>\n",
       "      <td>20</td>\n",
       "      <td>2</td>\n",
       "      <td>02</td>\n",
       "      <td>34</td>\n",
       "      <td>100</td>\n",
       "      <td>1</td>\n",
       "      <td>5</td>\n",
       "      <td>...</td>\n",
       "      <td>02</td>\n",
       "      <td>01</td>\n",
       "      <td>1987</td>\n",
       "      <td>02</td>\n",
       "      <td>F</td>\n",
       "      <td>20</td>\n",
       "      <td>13</td>\n",
       "      <td>2</td>\n",
       "      <td>02</td>\n",
       "      <td>2</td>\n",
       "    </tr>\n",
       "    <tr>\n",
       "      <th>3</th>\n",
       "      <td>1999</td>\n",
       "      <td>1</td>\n",
       "      <td>1</td>\n",
       "      <td>08</td>\n",
       "      <td>2</td>\n",
       "      <td>01</td>\n",
       "      <td>01</td>\n",
       "      <td>100</td>\n",
       "      <td>5</td>\n",
       "      <td>3</td>\n",
       "      <td>...</td>\n",
       "      <td>01</td>\n",
       "      <td>01</td>\n",
       "      <td>1986</td>\n",
       "      <td>01</td>\n",
       "      <td>M</td>\n",
       "      <td>46</td>\n",
       "      <td>11</td>\n",
       "      <td>1</td>\n",
       "      <td>100</td>\n",
       "      <td>1</td>\n",
       "    </tr>\n",
       "    <tr>\n",
       "      <th>4</th>\n",
       "      <td>1999</td>\n",
       "      <td>1</td>\n",
       "      <td>1</td>\n",
       "      <td>08</td>\n",
       "      <td>2</td>\n",
       "      <td>01</td>\n",
       "      <td>01</td>\n",
       "      <td>100</td>\n",
       "      <td>5</td>\n",
       "      <td>3</td>\n",
       "      <td>...</td>\n",
       "      <td>99</td>\n",
       "      <td>100</td>\n",
       "      <td>100</td>\n",
       "      <td>01</td>\n",
       "      <td>M</td>\n",
       "      <td>05</td>\n",
       "      <td>99</td>\n",
       "      <td>2</td>\n",
       "      <td>100</td>\n",
       "      <td>3</td>\n",
       "    </tr>\n",
       "    <tr>\n",
       "      <th>...</th>\n",
       "      <td>...</td>\n",
       "      <td>...</td>\n",
       "      <td>...</td>\n",
       "      <td>...</td>\n",
       "      <td>...</td>\n",
       "      <td>...</td>\n",
       "      <td>...</td>\n",
       "      <td>...</td>\n",
       "      <td>...</td>\n",
       "      <td>...</td>\n",
       "      <td>...</td>\n",
       "      <td>...</td>\n",
       "      <td>...</td>\n",
       "      <td>...</td>\n",
       "      <td>...</td>\n",
       "      <td>...</td>\n",
       "      <td>...</td>\n",
       "      <td>...</td>\n",
       "      <td>...</td>\n",
       "      <td>...</td>\n",
       "      <td>...</td>\n",
       "    </tr>\n",
       "    <tr>\n",
       "      <th>5860400</th>\n",
       "      <td>2014</td>\n",
       "      <td>100</td>\n",
       "      <td>100</td>\n",
       "      <td>100</td>\n",
       "      <td>2</td>\n",
       "      <td>100</td>\n",
       "      <td>100</td>\n",
       "      <td>01</td>\n",
       "      <td>100</td>\n",
       "      <td>100</td>\n",
       "      <td>...</td>\n",
       "      <td>13</td>\n",
       "      <td>07</td>\n",
       "      <td>100</td>\n",
       "      <td>01</td>\n",
       "      <td>M</td>\n",
       "      <td>24</td>\n",
       "      <td>11</td>\n",
       "      <td>1</td>\n",
       "      <td>100</td>\n",
       "      <td>1</td>\n",
       "    </tr>\n",
       "    <tr>\n",
       "      <th>5860401</th>\n",
       "      <td>2014</td>\n",
       "      <td>100</td>\n",
       "      <td>100</td>\n",
       "      <td>23</td>\n",
       "      <td>2</td>\n",
       "      <td>01</td>\n",
       "      <td>06</td>\n",
       "      <td>05</td>\n",
       "      <td>1</td>\n",
       "      <td>1</td>\n",
       "      <td>...</td>\n",
       "      <td>1</td>\n",
       "      <td>14</td>\n",
       "      <td>2006</td>\n",
       "      <td>01</td>\n",
       "      <td>M</td>\n",
       "      <td>29</td>\n",
       "      <td>96</td>\n",
       "      <td>2</td>\n",
       "      <td>09</td>\n",
       "      <td>5</td>\n",
       "    </tr>\n",
       "    <tr>\n",
       "      <th>5860402</th>\n",
       "      <td>2014</td>\n",
       "      <td>100</td>\n",
       "      <td>100</td>\n",
       "      <td>14</td>\n",
       "      <td>2</td>\n",
       "      <td>01</td>\n",
       "      <td>02</td>\n",
       "      <td>01</td>\n",
       "      <td>1</td>\n",
       "      <td>5</td>\n",
       "      <td>...</td>\n",
       "      <td>1</td>\n",
       "      <td>01</td>\n",
       "      <td>2006</td>\n",
       "      <td>01</td>\n",
       "      <td>F</td>\n",
       "      <td>100</td>\n",
       "      <td>11</td>\n",
       "      <td>2</td>\n",
       "      <td>01</td>\n",
       "      <td>1</td>\n",
       "    </tr>\n",
       "    <tr>\n",
       "      <th>5860403</th>\n",
       "      <td>2014</td>\n",
       "      <td>100</td>\n",
       "      <td>100</td>\n",
       "      <td>22</td>\n",
       "      <td>1</td>\n",
       "      <td>01</td>\n",
       "      <td>06</td>\n",
       "      <td>01</td>\n",
       "      <td>2</td>\n",
       "      <td>4</td>\n",
       "      <td>...</td>\n",
       "      <td>1</td>\n",
       "      <td>22</td>\n",
       "      <td>100</td>\n",
       "      <td>01</td>\n",
       "      <td>M</td>\n",
       "      <td>67</td>\n",
       "      <td>12</td>\n",
       "      <td>3</td>\n",
       "      <td>01</td>\n",
       "      <td>100</td>\n",
       "    </tr>\n",
       "    <tr>\n",
       "      <th>5860404</th>\n",
       "      <td>2014</td>\n",
       "      <td>100</td>\n",
       "      <td>100</td>\n",
       "      <td>22</td>\n",
       "      <td>1</td>\n",
       "      <td>01</td>\n",
       "      <td>06</td>\n",
       "      <td>01</td>\n",
       "      <td>2</td>\n",
       "      <td>4</td>\n",
       "      <td>...</td>\n",
       "      <td>1</td>\n",
       "      <td>22</td>\n",
       "      <td>100</td>\n",
       "      <td>02</td>\n",
       "      <td>M</td>\n",
       "      <td>10</td>\n",
       "      <td>98</td>\n",
       "      <td>1</td>\n",
       "      <td>01</td>\n",
       "      <td>100</td>\n",
       "    </tr>\n",
       "  </tbody>\n",
       "</table>\n",
       "<p>5860402 rows × 22 columns</p>\n",
       "</div>"
      ],
      "text/plain": [
       "         C_YEAR C_MNTH C_WDAY C_HOUR  C_SEV C_VEHS C_CONF C_RCFG C_WTHR  \\\n",
       "0          1999      1      1     20      2     02     34    100      1   \n",
       "1          1999      1      1     20      2     02     34    100      1   \n",
       "2          1999      1      1     20      2     02     34    100      1   \n",
       "3          1999      1      1     08      2     01     01    100      5   \n",
       "4          1999      1      1     08      2     01     01    100      5   \n",
       "...         ...    ...    ...    ...    ...    ...    ...    ...    ...   \n",
       "5860400    2014    100    100    100      2    100    100     01    100   \n",
       "5860401    2014    100    100     23      2     01     06     05      1   \n",
       "5860402    2014    100    100     14      2     01     02     01      1   \n",
       "5860403    2014    100    100     22      1     01     06     01      2   \n",
       "5860404    2014    100    100     22      1     01     06     01      2   \n",
       "\n",
       "        C_RSUR  ... V_ID V_TYPE V_YEAR P_ID P_SEX P_AGE P_PSN P_ISEV P_SAFE  \\\n",
       "0            5  ...   01     06   1990   01     M    41    11      1    100   \n",
       "1            5  ...   02     01   1987   01     M    19    11      1    100   \n",
       "2            5  ...   02     01   1987   02     F    20    13      2     02   \n",
       "3            3  ...   01     01   1986   01     M    46    11      1    100   \n",
       "4            3  ...   99    100    100   01     M    05    99      2    100   \n",
       "...        ...  ...  ...    ...    ...  ...   ...   ...   ...    ...    ...   \n",
       "5860400    100  ...   13     07    100   01     M    24    11      1    100   \n",
       "5860401      1  ...    1     14   2006   01     M    29    96      2     09   \n",
       "5860402      5  ...    1     01   2006   01     F   100    11      2     01   \n",
       "5860403      4  ...    1     22    100   01     M    67    12      3     01   \n",
       "5860404      4  ...    1     22    100   02     M    10    98      1     01   \n",
       "\n",
       "        P_USER  \n",
       "0            1  \n",
       "1            1  \n",
       "2            2  \n",
       "3            1  \n",
       "4            3  \n",
       "...        ...  \n",
       "5860400      1  \n",
       "5860401      5  \n",
       "5860402      1  \n",
       "5860403    100  \n",
       "5860404    100  \n",
       "\n",
       "[5860402 rows x 22 columns]"
      ]
     },
     "execution_count": 11,
     "metadata": {},
     "output_type": "execute_result"
    }
   ],
   "source": [
    "db"
   ]
  },
  {
   "cell_type": "markdown",
   "id": "9755aa46",
   "metadata": {},
   "source": [
    "### 1.4 FILAS REPETIDAS"
   ]
  },
  {
   "cell_type": "markdown",
   "id": "af603970",
   "metadata": {},
   "source": [
    "Al analizar las columnas y variables del dataset, podemos concluir a priori, que cada fila no representa un accidente diferente, si no que se desglosan en ella, las personas y vehiculos implicados. Para responder a algunas de las cuestiones y predecir ciertos datos, este hecho es de gran importancia, pues solo habria que tener en cuenta el número total de accidentes.\n",
    "\n",
    "Asi, a continuación, también es importante analizar la existencia de filas repetidas, y si fueran una cifra considerada, proceder a eliminarlas."
   ]
  },
  {
   "cell_type": "code",
   "execution_count": 12,
   "id": "f44d8c8b",
   "metadata": {},
   "outputs": [
    {
     "data": {
      "text/html": [
       "<div>\n",
       "<style scoped>\n",
       "    .dataframe tbody tr th:only-of-type {\n",
       "        vertical-align: middle;\n",
       "    }\n",
       "\n",
       "    .dataframe tbody tr th {\n",
       "        vertical-align: top;\n",
       "    }\n",
       "\n",
       "    .dataframe thead th {\n",
       "        text-align: right;\n",
       "    }\n",
       "</style>\n",
       "<table border=\"1\" class=\"dataframe\">\n",
       "  <thead>\n",
       "    <tr style=\"text-align: right;\">\n",
       "      <th></th>\n",
       "      <th>C_YEAR</th>\n",
       "      <th>C_MNTH</th>\n",
       "      <th>C_WDAY</th>\n",
       "      <th>C_HOUR</th>\n",
       "      <th>C_SEV</th>\n",
       "      <th>C_VEHS</th>\n",
       "      <th>C_CONF</th>\n",
       "      <th>C_RCFG</th>\n",
       "      <th>C_WTHR</th>\n",
       "      <th>C_RSUR</th>\n",
       "      <th>...</th>\n",
       "      <th>V_ID</th>\n",
       "      <th>V_TYPE</th>\n",
       "      <th>V_YEAR</th>\n",
       "      <th>P_ID</th>\n",
       "      <th>P_SEX</th>\n",
       "      <th>P_AGE</th>\n",
       "      <th>P_PSN</th>\n",
       "      <th>P_ISEV</th>\n",
       "      <th>P_SAFE</th>\n",
       "      <th>P_USER</th>\n",
       "    </tr>\n",
       "  </thead>\n",
       "  <tbody>\n",
       "    <tr>\n",
       "      <th>17</th>\n",
       "      <td>1999</td>\n",
       "      <td>1</td>\n",
       "      <td>1</td>\n",
       "      <td>11</td>\n",
       "      <td>2</td>\n",
       "      <td>02</td>\n",
       "      <td>34</td>\n",
       "      <td>100</td>\n",
       "      <td>1</td>\n",
       "      <td>2</td>\n",
       "      <td>...</td>\n",
       "      <td>01</td>\n",
       "      <td>06</td>\n",
       "      <td>1988</td>\n",
       "      <td>01</td>\n",
       "      <td>F</td>\n",
       "      <td>30</td>\n",
       "      <td>11</td>\n",
       "      <td>2</td>\n",
       "      <td>02</td>\n",
       "      <td>1</td>\n",
       "    </tr>\n",
       "    <tr>\n",
       "      <th>18</th>\n",
       "      <td>1999</td>\n",
       "      <td>1</td>\n",
       "      <td>1</td>\n",
       "      <td>11</td>\n",
       "      <td>2</td>\n",
       "      <td>02</td>\n",
       "      <td>34</td>\n",
       "      <td>100</td>\n",
       "      <td>1</td>\n",
       "      <td>2</td>\n",
       "      <td>...</td>\n",
       "      <td>02</td>\n",
       "      <td>06</td>\n",
       "      <td>1993</td>\n",
       "      <td>01</td>\n",
       "      <td>M</td>\n",
       "      <td>49</td>\n",
       "      <td>11</td>\n",
       "      <td>2</td>\n",
       "      <td>02</td>\n",
       "      <td>1</td>\n",
       "    </tr>\n",
       "    <tr>\n",
       "      <th>3214</th>\n",
       "      <td>1999</td>\n",
       "      <td>1</td>\n",
       "      <td>1</td>\n",
       "      <td>21</td>\n",
       "      <td>2</td>\n",
       "      <td>02</td>\n",
       "      <td>33</td>\n",
       "      <td>02</td>\n",
       "      <td>1</td>\n",
       "      <td>5</td>\n",
       "      <td>...</td>\n",
       "      <td>01</td>\n",
       "      <td>06</td>\n",
       "      <td>1998</td>\n",
       "      <td>01</td>\n",
       "      <td>M</td>\n",
       "      <td>32</td>\n",
       "      <td>11</td>\n",
       "      <td>2</td>\n",
       "      <td>02</td>\n",
       "      <td>1</td>\n",
       "    </tr>\n",
       "    <tr>\n",
       "      <th>3215</th>\n",
       "      <td>1999</td>\n",
       "      <td>1</td>\n",
       "      <td>1</td>\n",
       "      <td>21</td>\n",
       "      <td>2</td>\n",
       "      <td>02</td>\n",
       "      <td>33</td>\n",
       "      <td>02</td>\n",
       "      <td>1</td>\n",
       "      <td>5</td>\n",
       "      <td>...</td>\n",
       "      <td>02</td>\n",
       "      <td>01</td>\n",
       "      <td>1989</td>\n",
       "      <td>01</td>\n",
       "      <td>F</td>\n",
       "      <td>17</td>\n",
       "      <td>11</td>\n",
       "      <td>1</td>\n",
       "      <td>100</td>\n",
       "      <td>1</td>\n",
       "    </tr>\n",
       "    <tr>\n",
       "      <th>7119</th>\n",
       "      <td>1999</td>\n",
       "      <td>1</td>\n",
       "      <td>2</td>\n",
       "      <td>23</td>\n",
       "      <td>2</td>\n",
       "      <td>01</td>\n",
       "      <td>01</td>\n",
       "      <td>01</td>\n",
       "      <td>4</td>\n",
       "      <td>5</td>\n",
       "      <td>...</td>\n",
       "      <td>01</td>\n",
       "      <td>06</td>\n",
       "      <td>1993</td>\n",
       "      <td>01</td>\n",
       "      <td>M</td>\n",
       "      <td>35</td>\n",
       "      <td>11</td>\n",
       "      <td>2</td>\n",
       "      <td>02</td>\n",
       "      <td>1</td>\n",
       "    </tr>\n",
       "    <tr>\n",
       "      <th>...</th>\n",
       "      <td>...</td>\n",
       "      <td>...</td>\n",
       "      <td>...</td>\n",
       "      <td>...</td>\n",
       "      <td>...</td>\n",
       "      <td>...</td>\n",
       "      <td>...</td>\n",
       "      <td>...</td>\n",
       "      <td>...</td>\n",
       "      <td>...</td>\n",
       "      <td>...</td>\n",
       "      <td>...</td>\n",
       "      <td>...</td>\n",
       "      <td>...</td>\n",
       "      <td>...</td>\n",
       "      <td>...</td>\n",
       "      <td>...</td>\n",
       "      <td>...</td>\n",
       "      <td>...</td>\n",
       "      <td>...</td>\n",
       "      <td>...</td>\n",
       "    </tr>\n",
       "    <tr>\n",
       "      <th>5845016</th>\n",
       "      <td>2014</td>\n",
       "      <td>12</td>\n",
       "      <td>3</td>\n",
       "      <td>11</td>\n",
       "      <td>2</td>\n",
       "      <td>01</td>\n",
       "      <td>06</td>\n",
       "      <td>02</td>\n",
       "      <td>1</td>\n",
       "      <td>1</td>\n",
       "      <td>...</td>\n",
       "      <td>1</td>\n",
       "      <td>01</td>\n",
       "      <td>100</td>\n",
       "      <td>01</td>\n",
       "      <td>100</td>\n",
       "      <td>100</td>\n",
       "      <td>11</td>\n",
       "      <td>1</td>\n",
       "      <td>100</td>\n",
       "      <td>1</td>\n",
       "    </tr>\n",
       "    <tr>\n",
       "      <th>5848882</th>\n",
       "      <td>2014</td>\n",
       "      <td>12</td>\n",
       "      <td>4</td>\n",
       "      <td>08</td>\n",
       "      <td>2</td>\n",
       "      <td>02</td>\n",
       "      <td>36</td>\n",
       "      <td>02</td>\n",
       "      <td>4</td>\n",
       "      <td>5</td>\n",
       "      <td>...</td>\n",
       "      <td>1</td>\n",
       "      <td>01</td>\n",
       "      <td>2013</td>\n",
       "      <td>01</td>\n",
       "      <td>F</td>\n",
       "      <td>17</td>\n",
       "      <td>11</td>\n",
       "      <td>1</td>\n",
       "      <td>02</td>\n",
       "      <td>1</td>\n",
       "    </tr>\n",
       "    <tr>\n",
       "      <th>5848883</th>\n",
       "      <td>2014</td>\n",
       "      <td>12</td>\n",
       "      <td>4</td>\n",
       "      <td>08</td>\n",
       "      <td>2</td>\n",
       "      <td>02</td>\n",
       "      <td>36</td>\n",
       "      <td>02</td>\n",
       "      <td>4</td>\n",
       "      <td>5</td>\n",
       "      <td>...</td>\n",
       "      <td>1</td>\n",
       "      <td>01</td>\n",
       "      <td>2013</td>\n",
       "      <td>02</td>\n",
       "      <td>F</td>\n",
       "      <td>17</td>\n",
       "      <td>13</td>\n",
       "      <td>2</td>\n",
       "      <td>02</td>\n",
       "      <td>2</td>\n",
       "    </tr>\n",
       "    <tr>\n",
       "      <th>5848884</th>\n",
       "      <td>2014</td>\n",
       "      <td>12</td>\n",
       "      <td>4</td>\n",
       "      <td>08</td>\n",
       "      <td>2</td>\n",
       "      <td>02</td>\n",
       "      <td>36</td>\n",
       "      <td>02</td>\n",
       "      <td>4</td>\n",
       "      <td>5</td>\n",
       "      <td>...</td>\n",
       "      <td>2</td>\n",
       "      <td>01</td>\n",
       "      <td>2013</td>\n",
       "      <td>01</td>\n",
       "      <td>M</td>\n",
       "      <td>58</td>\n",
       "      <td>11</td>\n",
       "      <td>1</td>\n",
       "      <td>02</td>\n",
       "      <td>1</td>\n",
       "    </tr>\n",
       "    <tr>\n",
       "      <th>5858840</th>\n",
       "      <td>2014</td>\n",
       "      <td>12</td>\n",
       "      <td>7</td>\n",
       "      <td>15</td>\n",
       "      <td>2</td>\n",
       "      <td>02</td>\n",
       "      <td>35</td>\n",
       "      <td>02</td>\n",
       "      <td>1</td>\n",
       "      <td>1</td>\n",
       "      <td>...</td>\n",
       "      <td>2</td>\n",
       "      <td>01</td>\n",
       "      <td>2008</td>\n",
       "      <td>02</td>\n",
       "      <td>F</td>\n",
       "      <td>48</td>\n",
       "      <td>13</td>\n",
       "      <td>2</td>\n",
       "      <td>02</td>\n",
       "      <td>2</td>\n",
       "    </tr>\n",
       "  </tbody>\n",
       "</table>\n",
       "<p>5106 rows × 22 columns</p>\n",
       "</div>"
      ],
      "text/plain": [
       "         C_YEAR C_MNTH C_WDAY C_HOUR  C_SEV C_VEHS C_CONF C_RCFG C_WTHR  \\\n",
       "17         1999      1      1     11      2     02     34    100      1   \n",
       "18         1999      1      1     11      2     02     34    100      1   \n",
       "3214       1999      1      1     21      2     02     33     02      1   \n",
       "3215       1999      1      1     21      2     02     33     02      1   \n",
       "7119       1999      1      2     23      2     01     01     01      4   \n",
       "...         ...    ...    ...    ...    ...    ...    ...    ...    ...   \n",
       "5845016    2014     12      3     11      2     01     06     02      1   \n",
       "5848882    2014     12      4     08      2     02     36     02      4   \n",
       "5848883    2014     12      4     08      2     02     36     02      4   \n",
       "5848884    2014     12      4     08      2     02     36     02      4   \n",
       "5858840    2014     12      7     15      2     02     35     02      1   \n",
       "\n",
       "        C_RSUR  ... V_ID V_TYPE V_YEAR P_ID P_SEX P_AGE P_PSN P_ISEV P_SAFE  \\\n",
       "17           2  ...   01     06   1988   01     F    30    11      2     02   \n",
       "18           2  ...   02     06   1993   01     M    49    11      2     02   \n",
       "3214         5  ...   01     06   1998   01     M    32    11      2     02   \n",
       "3215         5  ...   02     01   1989   01     F    17    11      1    100   \n",
       "7119         5  ...   01     06   1993   01     M    35    11      2     02   \n",
       "...        ...  ...  ...    ...    ...  ...   ...   ...   ...    ...    ...   \n",
       "5845016      1  ...    1     01    100   01   100   100    11      1    100   \n",
       "5848882      5  ...    1     01   2013   01     F    17    11      1     02   \n",
       "5848883      5  ...    1     01   2013   02     F    17    13      2     02   \n",
       "5848884      5  ...    2     01   2013   01     M    58    11      1     02   \n",
       "5858840      1  ...    2     01   2008   02     F    48    13      2     02   \n",
       "\n",
       "        P_USER  \n",
       "17           1  \n",
       "18           1  \n",
       "3214         1  \n",
       "3215         1  \n",
       "7119         1  \n",
       "...        ...  \n",
       "5845016      1  \n",
       "5848882      1  \n",
       "5848883      2  \n",
       "5848884      1  \n",
       "5858840      2  \n",
       "\n",
       "[5106 rows x 22 columns]"
      ]
     },
     "execution_count": 12,
     "metadata": {},
     "output_type": "execute_result"
    }
   ],
   "source": [
    "db[db.duplicated(keep = 'first')]"
   ]
  },
  {
   "cell_type": "markdown",
   "id": "a6fd3aaa",
   "metadata": {},
   "source": [
    "Podemos ver que hay **5,106** filas repetidas, lo cual supone solamente un **0,087%** del total de filas (**5,860,402**), por lo que no las eliminamos."
   ]
  },
  {
   "cell_type": "markdown",
   "id": "3ce4a97f",
   "metadata": {},
   "source": [
    "### 1.5 TRANSFORMACIÓN VARIABLES CUALITATIVAS "
   ]
  },
  {
   "cell_type": "markdown",
   "id": "2f0603ba",
   "metadata": {},
   "source": [
    "Para poder llevar a cabo el análisis es necesario cambiar las variables considerdas categóricas a valores numéricos. Empezamos modificando el Sexo de las personas, y conviertiendolo en una variable dicotómica que tome los valores `0` para el sexo masculino, y `1` para el femenino."
   ]
  },
  {
   "cell_type": "markdown",
   "id": "757bd7a5",
   "metadata": {},
   "source": [
    "#### 1.5.1 VARIABLE `P_SEX`"
   ]
  },
  {
   "cell_type": "code",
   "execution_count": 13,
   "id": "e5fc3722",
   "metadata": {},
   "outputs": [],
   "source": [
    "db.P_SEX.replace({'M':0,'F':1},inplace=True)"
   ]
  },
  {
   "cell_type": "code",
   "execution_count": 14,
   "id": "93044d81",
   "metadata": {},
   "outputs": [
    {
     "data": {
      "text/html": [
       "<div>\n",
       "<style scoped>\n",
       "    .dataframe tbody tr th:only-of-type {\n",
       "        vertical-align: middle;\n",
       "    }\n",
       "\n",
       "    .dataframe tbody tr th {\n",
       "        vertical-align: top;\n",
       "    }\n",
       "\n",
       "    .dataframe thead th {\n",
       "        text-align: right;\n",
       "    }\n",
       "</style>\n",
       "<table border=\"1\" class=\"dataframe\">\n",
       "  <thead>\n",
       "    <tr style=\"text-align: right;\">\n",
       "      <th></th>\n",
       "      <th>C_YEAR</th>\n",
       "      <th>C_MNTH</th>\n",
       "      <th>C_WDAY</th>\n",
       "      <th>C_HOUR</th>\n",
       "      <th>C_SEV</th>\n",
       "      <th>C_VEHS</th>\n",
       "      <th>C_CONF</th>\n",
       "      <th>C_RCFG</th>\n",
       "      <th>C_WTHR</th>\n",
       "      <th>C_RSUR</th>\n",
       "      <th>...</th>\n",
       "      <th>V_ID</th>\n",
       "      <th>V_TYPE</th>\n",
       "      <th>V_YEAR</th>\n",
       "      <th>P_ID</th>\n",
       "      <th>P_SEX</th>\n",
       "      <th>P_AGE</th>\n",
       "      <th>P_PSN</th>\n",
       "      <th>P_ISEV</th>\n",
       "      <th>P_SAFE</th>\n",
       "      <th>P_USER</th>\n",
       "    </tr>\n",
       "  </thead>\n",
       "  <tbody>\n",
       "    <tr>\n",
       "      <th>0</th>\n",
       "      <td>1999</td>\n",
       "      <td>1</td>\n",
       "      <td>1</td>\n",
       "      <td>20</td>\n",
       "      <td>2</td>\n",
       "      <td>02</td>\n",
       "      <td>34</td>\n",
       "      <td>100</td>\n",
       "      <td>1</td>\n",
       "      <td>5</td>\n",
       "      <td>...</td>\n",
       "      <td>01</td>\n",
       "      <td>06</td>\n",
       "      <td>1990</td>\n",
       "      <td>01</td>\n",
       "      <td>0</td>\n",
       "      <td>41</td>\n",
       "      <td>11</td>\n",
       "      <td>1</td>\n",
       "      <td>100</td>\n",
       "      <td>1</td>\n",
       "    </tr>\n",
       "    <tr>\n",
       "      <th>1</th>\n",
       "      <td>1999</td>\n",
       "      <td>1</td>\n",
       "      <td>1</td>\n",
       "      <td>20</td>\n",
       "      <td>2</td>\n",
       "      <td>02</td>\n",
       "      <td>34</td>\n",
       "      <td>100</td>\n",
       "      <td>1</td>\n",
       "      <td>5</td>\n",
       "      <td>...</td>\n",
       "      <td>02</td>\n",
       "      <td>01</td>\n",
       "      <td>1987</td>\n",
       "      <td>01</td>\n",
       "      <td>0</td>\n",
       "      <td>19</td>\n",
       "      <td>11</td>\n",
       "      <td>1</td>\n",
       "      <td>100</td>\n",
       "      <td>1</td>\n",
       "    </tr>\n",
       "    <tr>\n",
       "      <th>2</th>\n",
       "      <td>1999</td>\n",
       "      <td>1</td>\n",
       "      <td>1</td>\n",
       "      <td>20</td>\n",
       "      <td>2</td>\n",
       "      <td>02</td>\n",
       "      <td>34</td>\n",
       "      <td>100</td>\n",
       "      <td>1</td>\n",
       "      <td>5</td>\n",
       "      <td>...</td>\n",
       "      <td>02</td>\n",
       "      <td>01</td>\n",
       "      <td>1987</td>\n",
       "      <td>02</td>\n",
       "      <td>1</td>\n",
       "      <td>20</td>\n",
       "      <td>13</td>\n",
       "      <td>2</td>\n",
       "      <td>02</td>\n",
       "      <td>2</td>\n",
       "    </tr>\n",
       "    <tr>\n",
       "      <th>3</th>\n",
       "      <td>1999</td>\n",
       "      <td>1</td>\n",
       "      <td>1</td>\n",
       "      <td>08</td>\n",
       "      <td>2</td>\n",
       "      <td>01</td>\n",
       "      <td>01</td>\n",
       "      <td>100</td>\n",
       "      <td>5</td>\n",
       "      <td>3</td>\n",
       "      <td>...</td>\n",
       "      <td>01</td>\n",
       "      <td>01</td>\n",
       "      <td>1986</td>\n",
       "      <td>01</td>\n",
       "      <td>0</td>\n",
       "      <td>46</td>\n",
       "      <td>11</td>\n",
       "      <td>1</td>\n",
       "      <td>100</td>\n",
       "      <td>1</td>\n",
       "    </tr>\n",
       "    <tr>\n",
       "      <th>4</th>\n",
       "      <td>1999</td>\n",
       "      <td>1</td>\n",
       "      <td>1</td>\n",
       "      <td>08</td>\n",
       "      <td>2</td>\n",
       "      <td>01</td>\n",
       "      <td>01</td>\n",
       "      <td>100</td>\n",
       "      <td>5</td>\n",
       "      <td>3</td>\n",
       "      <td>...</td>\n",
       "      <td>99</td>\n",
       "      <td>100</td>\n",
       "      <td>100</td>\n",
       "      <td>01</td>\n",
       "      <td>0</td>\n",
       "      <td>05</td>\n",
       "      <td>99</td>\n",
       "      <td>2</td>\n",
       "      <td>100</td>\n",
       "      <td>3</td>\n",
       "    </tr>\n",
       "    <tr>\n",
       "      <th>...</th>\n",
       "      <td>...</td>\n",
       "      <td>...</td>\n",
       "      <td>...</td>\n",
       "      <td>...</td>\n",
       "      <td>...</td>\n",
       "      <td>...</td>\n",
       "      <td>...</td>\n",
       "      <td>...</td>\n",
       "      <td>...</td>\n",
       "      <td>...</td>\n",
       "      <td>...</td>\n",
       "      <td>...</td>\n",
       "      <td>...</td>\n",
       "      <td>...</td>\n",
       "      <td>...</td>\n",
       "      <td>...</td>\n",
       "      <td>...</td>\n",
       "      <td>...</td>\n",
       "      <td>...</td>\n",
       "      <td>...</td>\n",
       "      <td>...</td>\n",
       "    </tr>\n",
       "    <tr>\n",
       "      <th>5860400</th>\n",
       "      <td>2014</td>\n",
       "      <td>100</td>\n",
       "      <td>100</td>\n",
       "      <td>100</td>\n",
       "      <td>2</td>\n",
       "      <td>100</td>\n",
       "      <td>100</td>\n",
       "      <td>01</td>\n",
       "      <td>100</td>\n",
       "      <td>100</td>\n",
       "      <td>...</td>\n",
       "      <td>13</td>\n",
       "      <td>07</td>\n",
       "      <td>100</td>\n",
       "      <td>01</td>\n",
       "      <td>0</td>\n",
       "      <td>24</td>\n",
       "      <td>11</td>\n",
       "      <td>1</td>\n",
       "      <td>100</td>\n",
       "      <td>1</td>\n",
       "    </tr>\n",
       "    <tr>\n",
       "      <th>5860401</th>\n",
       "      <td>2014</td>\n",
       "      <td>100</td>\n",
       "      <td>100</td>\n",
       "      <td>23</td>\n",
       "      <td>2</td>\n",
       "      <td>01</td>\n",
       "      <td>06</td>\n",
       "      <td>05</td>\n",
       "      <td>1</td>\n",
       "      <td>1</td>\n",
       "      <td>...</td>\n",
       "      <td>1</td>\n",
       "      <td>14</td>\n",
       "      <td>2006</td>\n",
       "      <td>01</td>\n",
       "      <td>0</td>\n",
       "      <td>29</td>\n",
       "      <td>96</td>\n",
       "      <td>2</td>\n",
       "      <td>09</td>\n",
       "      <td>5</td>\n",
       "    </tr>\n",
       "    <tr>\n",
       "      <th>5860402</th>\n",
       "      <td>2014</td>\n",
       "      <td>100</td>\n",
       "      <td>100</td>\n",
       "      <td>14</td>\n",
       "      <td>2</td>\n",
       "      <td>01</td>\n",
       "      <td>02</td>\n",
       "      <td>01</td>\n",
       "      <td>1</td>\n",
       "      <td>5</td>\n",
       "      <td>...</td>\n",
       "      <td>1</td>\n",
       "      <td>01</td>\n",
       "      <td>2006</td>\n",
       "      <td>01</td>\n",
       "      <td>1</td>\n",
       "      <td>100</td>\n",
       "      <td>11</td>\n",
       "      <td>2</td>\n",
       "      <td>01</td>\n",
       "      <td>1</td>\n",
       "    </tr>\n",
       "    <tr>\n",
       "      <th>5860403</th>\n",
       "      <td>2014</td>\n",
       "      <td>100</td>\n",
       "      <td>100</td>\n",
       "      <td>22</td>\n",
       "      <td>1</td>\n",
       "      <td>01</td>\n",
       "      <td>06</td>\n",
       "      <td>01</td>\n",
       "      <td>2</td>\n",
       "      <td>4</td>\n",
       "      <td>...</td>\n",
       "      <td>1</td>\n",
       "      <td>22</td>\n",
       "      <td>100</td>\n",
       "      <td>01</td>\n",
       "      <td>0</td>\n",
       "      <td>67</td>\n",
       "      <td>12</td>\n",
       "      <td>3</td>\n",
       "      <td>01</td>\n",
       "      <td>100</td>\n",
       "    </tr>\n",
       "    <tr>\n",
       "      <th>5860404</th>\n",
       "      <td>2014</td>\n",
       "      <td>100</td>\n",
       "      <td>100</td>\n",
       "      <td>22</td>\n",
       "      <td>1</td>\n",
       "      <td>01</td>\n",
       "      <td>06</td>\n",
       "      <td>01</td>\n",
       "      <td>2</td>\n",
       "      <td>4</td>\n",
       "      <td>...</td>\n",
       "      <td>1</td>\n",
       "      <td>22</td>\n",
       "      <td>100</td>\n",
       "      <td>02</td>\n",
       "      <td>0</td>\n",
       "      <td>10</td>\n",
       "      <td>98</td>\n",
       "      <td>1</td>\n",
       "      <td>01</td>\n",
       "      <td>100</td>\n",
       "    </tr>\n",
       "  </tbody>\n",
       "</table>\n",
       "<p>5860402 rows × 22 columns</p>\n",
       "</div>"
      ],
      "text/plain": [
       "         C_YEAR C_MNTH C_WDAY C_HOUR  C_SEV C_VEHS C_CONF C_RCFG C_WTHR  \\\n",
       "0          1999      1      1     20      2     02     34    100      1   \n",
       "1          1999      1      1     20      2     02     34    100      1   \n",
       "2          1999      1      1     20      2     02     34    100      1   \n",
       "3          1999      1      1     08      2     01     01    100      5   \n",
       "4          1999      1      1     08      2     01     01    100      5   \n",
       "...         ...    ...    ...    ...    ...    ...    ...    ...    ...   \n",
       "5860400    2014    100    100    100      2    100    100     01    100   \n",
       "5860401    2014    100    100     23      2     01     06     05      1   \n",
       "5860402    2014    100    100     14      2     01     02     01      1   \n",
       "5860403    2014    100    100     22      1     01     06     01      2   \n",
       "5860404    2014    100    100     22      1     01     06     01      2   \n",
       "\n",
       "        C_RSUR  ... V_ID V_TYPE V_YEAR P_ID P_SEX P_AGE  P_PSN P_ISEV P_SAFE  \\\n",
       "0            5  ...   01     06   1990   01     0    41     11      1    100   \n",
       "1            5  ...   02     01   1987   01     0    19     11      1    100   \n",
       "2            5  ...   02     01   1987   02     1    20     13      2     02   \n",
       "3            3  ...   01     01   1986   01     0    46     11      1    100   \n",
       "4            3  ...   99    100    100   01     0    05     99      2    100   \n",
       "...        ...  ...  ...    ...    ...  ...   ...   ...    ...    ...    ...   \n",
       "5860400    100  ...   13     07    100   01     0    24     11      1    100   \n",
       "5860401      1  ...    1     14   2006   01     0    29     96      2     09   \n",
       "5860402      5  ...    1     01   2006   01     1   100     11      2     01   \n",
       "5860403      4  ...    1     22    100   01     0    67     12      3     01   \n",
       "5860404      4  ...    1     22    100   02     0    10     98      1     01   \n",
       "\n",
       "        P_USER  \n",
       "0            1  \n",
       "1            1  \n",
       "2            2  \n",
       "3            1  \n",
       "4            3  \n",
       "...        ...  \n",
       "5860400      1  \n",
       "5860401      5  \n",
       "5860402      1  \n",
       "5860403    100  \n",
       "5860404    100  \n",
       "\n",
       "[5860402 rows x 22 columns]"
      ]
     },
     "execution_count": 14,
     "metadata": {},
     "output_type": "execute_result"
    }
   ],
   "source": [
    "db"
   ]
  },
  {
   "cell_type": "markdown",
   "id": "ae2e6c15",
   "metadata": {},
   "source": [
    "### 1.6 TRANSFORMACIÓN  VARIABLES CUANTITATIVAS"
   ]
  },
  {
   "cell_type": "markdown",
   "id": "8ce0f688",
   "metadata": {},
   "source": [
    "En el dataset observamos que las valores cuantitativas ya son números, por lo que se deben de cambiar a int para que el programa las considere valores numéricos. Por lo que, convertimos todas las columnas a tipo int. "
   ]
  },
  {
   "cell_type": "code",
   "execution_count": 15,
   "id": "9871d87d",
   "metadata": {},
   "outputs": [],
   "source": [
    "db= db.astype('int64')"
   ]
  },
  {
   "cell_type": "markdown",
   "id": "6052cb40",
   "metadata": {},
   "source": [
    "#### 1.6.1 VARIABLE `C_HOUR` "
   ]
  },
  {
   "cell_type": "markdown",
   "id": "18f416b4",
   "metadata": {},
   "source": [
    "Dividiremos las horas en cuatro segmentos, que se corresponderan con la `mañana`(1), la `tarde`(2), la `noche` (3), y la `madrugada`(0), ya que la hora concreta en la que se produjo el accidente es de menor interés que la franja horaria y esto facilitará el tratamiento de los datos."
   ]
  },
  {
   "cell_type": "code",
   "execution_count": 16,
   "id": "78dce5a4",
   "metadata": {},
   "outputs": [],
   "source": [
    "madrugada = [0,1,2,3,4,5]\n",
    "mañana = [6,7,8,9,10,11]\n",
    "tarde = [12,13,14,15,16,17]\n",
    "noche = [18,19,20,21,22,23]"
   ]
  },
  {
   "cell_type": "code",
   "execution_count": 17,
   "id": "273933ea",
   "metadata": {},
   "outputs": [],
   "source": [
    "db.C_HOUR.replace([madrugada,mañana,tarde,noche],[0,1,2,3],inplace=True)"
   ]
  },
  {
   "cell_type": "code",
   "execution_count": 18,
   "id": "39818c6d",
   "metadata": {},
   "outputs": [
    {
     "data": {
      "text/plain": [
       "2      2645478\n",
       "1      1395411\n",
       "3      1371935\n",
       "0       388169\n",
       "100      59409\n",
       "Name: C_HOUR, dtype: int64"
      ]
     },
     "execution_count": 18,
     "metadata": {},
     "output_type": "execute_result"
    }
   ],
   "source": [
    "db['C_HOUR'].value_counts()"
   ]
  },
  {
   "cell_type": "markdown",
   "id": "1bc69cf8",
   "metadata": {},
   "source": [
    "#### 1.6.2 VARIABLE `C_CONF`"
   ]
  },
  {
   "cell_type": "markdown",
   "id": "5614d108",
   "metadata": {},
   "source": [
    "Dividiremos la configuración del accidente dependiendo del numero de vehiculos, asi como si estaban aparcados o en movimiento, y si iban en la misma direcccion u opuesta: \n",
    "\n",
    "- `1`: Single Vehicle in Motion\n",
    "- `2`: Two Vehicles in Motion - Same Direction of Travel\n",
    "- `3`: Two Vehicles in Motion - Different Direction of Travel\n",
    "- `4`: Hit a Parked Motor Vehicle"
   ]
  },
  {
   "cell_type": "code",
   "execution_count": 19,
   "id": "f60e6d35",
   "metadata": {},
   "outputs": [],
   "source": [
    "A = [1,2,3,4,5,6]\n",
    "B = [21,22,23,24,25]\n",
    "C = [31,32,33,34,35,36]\n",
    "D = [41]"
   ]
  },
  {
   "cell_type": "code",
   "execution_count": 20,
   "id": "422e5bc8",
   "metadata": {},
   "outputs": [],
   "source": [
    "db.C_CONF.replace([A,B,C,D],[1,2,3,4],inplace=True)"
   ]
  },
  {
   "cell_type": "code",
   "execution_count": 21,
   "id": "febac427",
   "metadata": {},
   "outputs": [
    {
     "data": {
      "text/plain": [
       "2      2101295\n",
       "3      2026508\n",
       "1      1187642\n",
       "100     463996\n",
       "4        80961\n",
       "Name: C_CONF, dtype: int64"
      ]
     },
     "execution_count": 21,
     "metadata": {},
     "output_type": "execute_result"
    }
   ],
   "source": [
    "db['C_CONF'].value_counts()"
   ]
  },
  {
   "cell_type": "markdown",
   "id": "353f4527",
   "metadata": {},
   "source": [
    "#### 1.6.3 VARIABLE `C_TRAF`"
   ]
  },
  {
   "cell_type": "markdown",
   "id": "00ab8a9d",
   "metadata": {},
   "source": [
    "Dividiremos la variable en función de si habia explicitamente una señal de tráfico en el hecho (`1`), o si no había, o la visibilidad de esta era reducida (`0`)."
   ]
  },
  {
   "cell_type": "code",
   "execution_count": 22,
   "id": "a37eced7",
   "metadata": {},
   "outputs": [],
   "source": [
    "nosignal = [14,16,17,18]\n",
    "signal = [1,2,3,4,5,6,7,8,9,10,11,12,13,15]"
   ]
  },
  {
   "cell_type": "code",
   "execution_count": 23,
   "id": "c87307dd",
   "metadata": {},
   "outputs": [],
   "source": [
    "db.C_TRAF.replace([nosignal,signal],[0,1],inplace=True)"
   ]
  },
  {
   "cell_type": "code",
   "execution_count": 24,
   "id": "31775829",
   "metadata": {},
   "outputs": [
    {
     "data": {
      "text/plain": [
       "0      3072834\n",
       "1      2482070\n",
       "100     305498\n",
       "Name: C_TRAF, dtype: int64"
      ]
     },
     "execution_count": 24,
     "metadata": {},
     "output_type": "execute_result"
    }
   ],
   "source": [
    "db['C_TRAF'].value_counts()"
   ]
  },
  {
   "cell_type": "markdown",
   "id": "dbf6fdb1",
   "metadata": {},
   "source": [
    "#### 1.6.5 VARIABLE `P_SAFE`"
   ]
  },
  {
   "cell_type": "markdown",
   "id": "4d143c67",
   "metadata": {},
   "source": [
    "Esta vez, la división será en base al uso de un dispositivo de seguridad/preventivo (`1`) o si se carecía de ello (`0`)."
   ]
  },
  {
   "cell_type": "code",
   "execution_count": 25,
   "id": "87fb1eb6",
   "metadata": {},
   "outputs": [],
   "source": [
    "nosafetyd = [1,13]\n",
    "safetyd = [2,9,10,11,12]"
   ]
  },
  {
   "cell_type": "code",
   "execution_count": 26,
   "id": "52ce6de9",
   "metadata": {},
   "outputs": [],
   "source": [
    "db.P_SAFE.replace([nosafetyd,safetyd],[0,1],inplace=True)"
   ]
  },
  {
   "cell_type": "code",
   "execution_count": 27,
   "id": "0d012b44",
   "metadata": {},
   "outputs": [
    {
     "data": {
      "text/plain": [
       "1      4278785\n",
       "100    1234281\n",
       "0       347336\n",
       "Name: P_SAFE, dtype: int64"
      ]
     },
     "execution_count": 27,
     "metadata": {},
     "output_type": "execute_result"
    }
   ],
   "source": [
    "db['P_SAFE'].value_counts()"
   ]
  },
  {
   "cell_type": "markdown",
   "id": "9e1e5c3f",
   "metadata": {},
   "source": [
    "#### 1.6.6 VARIABLE `P_AGE`"
   ]
  },
  {
   "cell_type": "markdown",
   "id": "98b9487d",
   "metadata": {},
   "source": [
    "Dividiremos las edades de las personas involucradas en los accidentes en cinco sectores:\n",
    "- `1`: 0-15 niños \n",
    "- `2`: 16-30 jovenes\n",
    "- `3`: 31-45 jovenes adultos\n",
    "- `4`: 46-60 adultos \n",
    "- `5`: >60 personas mayores "
   ]
  },
  {
   "cell_type": "code",
   "execution_count": 28,
   "id": "85db0f8d",
   "metadata": {},
   "outputs": [],
   "source": [
    "bins2 = [0, 15, 30, 45, 60, 99]\n",
    "names2 = [\"1\",\"2\",\"3\",\"4\",\"5\"]"
   ]
  },
  {
   "cell_type": "code",
   "execution_count": 29,
   "id": "20fae598",
   "metadata": {},
   "outputs": [],
   "source": [
    "db.P_AGE = pd.cut(db.P_AGE, bins2, labels = names2)"
   ]
  },
  {
   "cell_type": "code",
   "execution_count": 30,
   "id": "02a09a96",
   "metadata": {},
   "outputs": [
    {
     "data": {
      "text/plain": [
       "2    1925959\n",
       "3    1408042\n",
       "4    1056586\n",
       "5     610886\n",
       "1     463773\n",
       "Name: P_AGE, dtype: int64"
      ]
     },
     "execution_count": 30,
     "metadata": {},
     "output_type": "execute_result"
    }
   ],
   "source": [
    "db['P_AGE'].value_counts()"
   ]
  },
  {
   "cell_type": "markdown",
   "id": "f05664ba",
   "metadata": {},
   "source": [
    "A continuación, comprobamos que los datos se han transformado correctamente:"
   ]
  },
  {
   "cell_type": "code",
   "execution_count": 31,
   "id": "ed80cd4f",
   "metadata": {},
   "outputs": [
    {
     "name": "stdout",
     "output_type": "stream",
     "text": [
      "Tipos de datos en el dataset, una vez transformados:\n"
     ]
    },
    {
     "data": {
      "text/html": [
       "<div>\n",
       "<style scoped>\n",
       "    .dataframe tbody tr th:only-of-type {\n",
       "        vertical-align: middle;\n",
       "    }\n",
       "\n",
       "    .dataframe tbody tr th {\n",
       "        vertical-align: top;\n",
       "    }\n",
       "\n",
       "    .dataframe thead th {\n",
       "        text-align: right;\n",
       "    }\n",
       "</style>\n",
       "<table border=\"1\" class=\"dataframe\">\n",
       "  <thead>\n",
       "    <tr style=\"text-align: right;\">\n",
       "      <th></th>\n",
       "      <th>Tipo de Variable</th>\n",
       "    </tr>\n",
       "  </thead>\n",
       "  <tbody>\n",
       "    <tr>\n",
       "      <th>C_YEAR</th>\n",
       "      <td>int64</td>\n",
       "    </tr>\n",
       "    <tr>\n",
       "      <th>C_MNTH</th>\n",
       "      <td>int64</td>\n",
       "    </tr>\n",
       "    <tr>\n",
       "      <th>C_WDAY</th>\n",
       "      <td>int64</td>\n",
       "    </tr>\n",
       "    <tr>\n",
       "      <th>C_HOUR</th>\n",
       "      <td>int64</td>\n",
       "    </tr>\n",
       "    <tr>\n",
       "      <th>C_SEV</th>\n",
       "      <td>int64</td>\n",
       "    </tr>\n",
       "    <tr>\n",
       "      <th>C_VEHS</th>\n",
       "      <td>int64</td>\n",
       "    </tr>\n",
       "    <tr>\n",
       "      <th>C_CONF</th>\n",
       "      <td>int64</td>\n",
       "    </tr>\n",
       "    <tr>\n",
       "      <th>C_RCFG</th>\n",
       "      <td>int64</td>\n",
       "    </tr>\n",
       "    <tr>\n",
       "      <th>C_WTHR</th>\n",
       "      <td>int64</td>\n",
       "    </tr>\n",
       "    <tr>\n",
       "      <th>C_RSUR</th>\n",
       "      <td>int64</td>\n",
       "    </tr>\n",
       "    <tr>\n",
       "      <th>C_RALN</th>\n",
       "      <td>int64</td>\n",
       "    </tr>\n",
       "    <tr>\n",
       "      <th>C_TRAF</th>\n",
       "      <td>int64</td>\n",
       "    </tr>\n",
       "    <tr>\n",
       "      <th>V_ID</th>\n",
       "      <td>int64</td>\n",
       "    </tr>\n",
       "    <tr>\n",
       "      <th>V_TYPE</th>\n",
       "      <td>int64</td>\n",
       "    </tr>\n",
       "    <tr>\n",
       "      <th>V_YEAR</th>\n",
       "      <td>int64</td>\n",
       "    </tr>\n",
       "    <tr>\n",
       "      <th>P_ID</th>\n",
       "      <td>int64</td>\n",
       "    </tr>\n",
       "    <tr>\n",
       "      <th>P_SEX</th>\n",
       "      <td>int64</td>\n",
       "    </tr>\n",
       "    <tr>\n",
       "      <th>P_AGE</th>\n",
       "      <td>category</td>\n",
       "    </tr>\n",
       "    <tr>\n",
       "      <th>P_PSN</th>\n",
       "      <td>int64</td>\n",
       "    </tr>\n",
       "    <tr>\n",
       "      <th>P_ISEV</th>\n",
       "      <td>int64</td>\n",
       "    </tr>\n",
       "    <tr>\n",
       "      <th>P_SAFE</th>\n",
       "      <td>int64</td>\n",
       "    </tr>\n",
       "    <tr>\n",
       "      <th>P_USER</th>\n",
       "      <td>int64</td>\n",
       "    </tr>\n",
       "  </tbody>\n",
       "</table>\n",
       "</div>"
      ],
      "text/plain": [
       "       Tipo de Variable\n",
       "C_YEAR            int64\n",
       "C_MNTH            int64\n",
       "C_WDAY            int64\n",
       "C_HOUR            int64\n",
       "C_SEV             int64\n",
       "C_VEHS            int64\n",
       "C_CONF            int64\n",
       "C_RCFG            int64\n",
       "C_WTHR            int64\n",
       "C_RSUR            int64\n",
       "C_RALN            int64\n",
       "C_TRAF            int64\n",
       "V_ID              int64\n",
       "V_TYPE            int64\n",
       "V_YEAR            int64\n",
       "P_ID              int64\n",
       "P_SEX             int64\n",
       "P_AGE          category\n",
       "P_PSN             int64\n",
       "P_ISEV            int64\n",
       "P_SAFE            int64\n",
       "P_USER            int64"
      ]
     },
     "execution_count": 31,
     "metadata": {},
     "output_type": "execute_result"
    }
   ],
   "source": [
    "print('Tipos de datos en el dataset, una vez transformados:')\n",
    "tipos=pd.DataFrame(db.dtypes)\n",
    "tipos=tipos.rename(columns={0:'Tipo de Variable'})\n",
    "tipos"
   ]
  },
  {
   "cell_type": "markdown",
   "id": "a617e33f",
   "metadata": {},
   "source": [
    "### MATRIZ CORRELACIÓN"
   ]
  },
  {
   "cell_type": "code",
   "execution_count": 32,
   "id": "357fd8b4",
   "metadata": {},
   "outputs": [
    {
     "data": {
      "image/png": "[encoded data removed]",
      "text/plain": [
       "<Figure size 1440x432 with 2 Axes>"
      ]
     },
     "metadata": {
      "needs_background": "light"
     },
     "output_type": "display_data"
    }
   ],
   "source": [
    "# Matriz de correlacion de variables continuas\n",
    "import matplotlib.pyplot as pl\n",
    "import seaborn as sb\n",
    "\n",
    "correl = db.corr(method='pearson')\n",
    "pl.figure(figsize=(20, 6))\n",
    "sb.heatmap(correl, annot=True)\n",
    "pl.title(\"Matriz de correlaciones\", fontsize =20)\n",
    "pl.show()"
   ]
  },
  {
   "cell_type": "markdown",
   "id": "e83c577d",
   "metadata": {},
   "source": [
    "De un simple vistazo podemos observar que por lo general hay una correlación baja entre las variables,  que oscilan entre -0.2 y 0.2. Destacan 4 correlaciones negativas entre V_YEAR y V_ID, V_YEAR y V_TYPE, y viceversa. Las correlaciones más altas se dan entre V_TYPE y V_ID."
   ]
  },
  {
   "cell_type": "markdown",
   "id": "e835d05d",
   "metadata": {},
   "source": [
    "### ¿Qué tipos de vehículos (modelos, antigüedad, etc.) y conductores son más propensos a tener accidentes (acción correctiva en prima)?  ¿Qué tipos de vehículos (modelos, antigüedad, etc.) y conductores son menos propensos a tener accidentes (descuento en prima)?"
   ]
  },
  {
   "cell_type": "markdown",
   "id": "f28e9f47",
   "metadata": {},
   "source": [
    "Para saber que vehículos y conductores son más (o menos) propensos a tener accidentes tendremos que filtrar la variable **P_PSN** *Person position* a 11 (*Driver* - Conductor). Esto se debe a que un mismo accidente puede estar contabilizado en diferentes líneas (más de una persona involucrada), por lo que un análisis sin este filtro no serñia completamente preciso."
   ]
  },
  {
   "cell_type": "code",
   "execution_count": 33,
   "id": "b363b251",
   "metadata": {},
   "outputs": [],
   "source": [
    "prueba = db"
   ]
  },
  {
   "cell_type": "code",
   "execution_count": 34,
   "id": "f6760f43",
   "metadata": {},
   "outputs": [],
   "source": [
    "pruebafilt = prueba[prueba['P_PSN'] == 11]  "
   ]
  },
  {
   "cell_type": "code",
   "execution_count": 35,
   "id": "4723ea72",
   "metadata": {},
   "outputs": [
    {
     "data": {
      "text/html": [
       "<div>\n",
       "<style scoped>\n",
       "    .dataframe tbody tr th:only-of-type {\n",
       "        vertical-align: middle;\n",
       "    }\n",
       "\n",
       "    .dataframe tbody tr th {\n",
       "        vertical-align: top;\n",
       "    }\n",
       "\n",
       "    .dataframe thead th {\n",
       "        text-align: right;\n",
       "    }\n",
       "</style>\n",
       "<table border=\"1\" class=\"dataframe\">\n",
       "  <thead>\n",
       "    <tr style=\"text-align: right;\">\n",
       "      <th></th>\n",
       "      <th>C_YEAR</th>\n",
       "      <th>C_MNTH</th>\n",
       "      <th>C_WDAY</th>\n",
       "      <th>C_HOUR</th>\n",
       "      <th>C_SEV</th>\n",
       "      <th>C_VEHS</th>\n",
       "      <th>C_CONF</th>\n",
       "      <th>C_RCFG</th>\n",
       "      <th>C_WTHR</th>\n",
       "      <th>C_RSUR</th>\n",
       "      <th>...</th>\n",
       "      <th>V_ID</th>\n",
       "      <th>V_TYPE</th>\n",
       "      <th>V_YEAR</th>\n",
       "      <th>P_ID</th>\n",
       "      <th>P_SEX</th>\n",
       "      <th>P_AGE</th>\n",
       "      <th>P_PSN</th>\n",
       "      <th>P_ISEV</th>\n",
       "      <th>P_SAFE</th>\n",
       "      <th>P_USER</th>\n",
       "    </tr>\n",
       "  </thead>\n",
       "  <tbody>\n",
       "    <tr>\n",
       "      <th>0</th>\n",
       "      <td>1999</td>\n",
       "      <td>1</td>\n",
       "      <td>1</td>\n",
       "      <td>3</td>\n",
       "      <td>2</td>\n",
       "      <td>2</td>\n",
       "      <td>3</td>\n",
       "      <td>100</td>\n",
       "      <td>1</td>\n",
       "      <td>5</td>\n",
       "      <td>...</td>\n",
       "      <td>1</td>\n",
       "      <td>6</td>\n",
       "      <td>1990</td>\n",
       "      <td>1</td>\n",
       "      <td>0</td>\n",
       "      <td>3</td>\n",
       "      <td>11</td>\n",
       "      <td>1</td>\n",
       "      <td>100</td>\n",
       "      <td>1</td>\n",
       "    </tr>\n",
       "    <tr>\n",
       "      <th>1</th>\n",
       "      <td>1999</td>\n",
       "      <td>1</td>\n",
       "      <td>1</td>\n",
       "      <td>3</td>\n",
       "      <td>2</td>\n",
       "      <td>2</td>\n",
       "      <td>3</td>\n",
       "      <td>100</td>\n",
       "      <td>1</td>\n",
       "      <td>5</td>\n",
       "      <td>...</td>\n",
       "      <td>2</td>\n",
       "      <td>1</td>\n",
       "      <td>1987</td>\n",
       "      <td>1</td>\n",
       "      <td>0</td>\n",
       "      <td>2</td>\n",
       "      <td>11</td>\n",
       "      <td>1</td>\n",
       "      <td>100</td>\n",
       "      <td>1</td>\n",
       "    </tr>\n",
       "  </tbody>\n",
       "</table>\n",
       "<p>2 rows × 22 columns</p>\n",
       "</div>"
      ],
      "text/plain": [
       "   C_YEAR  C_MNTH  C_WDAY  C_HOUR  C_SEV  C_VEHS  C_CONF  C_RCFG  C_WTHR  \\\n",
       "0    1999       1       1       3      2       2       3     100       1   \n",
       "1    1999       1       1       3      2       2       3     100       1   \n",
       "\n",
       "   C_RSUR  ...  V_ID  V_TYPE  V_YEAR  P_ID  P_SEX  P_AGE  P_PSN P_ISEV  \\\n",
       "0       5  ...     1       6    1990     1      0      3     11      1   \n",
       "1       5  ...     2       1    1987     1      0      2     11      1   \n",
       "\n",
       "   P_SAFE  P_USER  \n",
       "0     100       1  \n",
       "1     100       1  \n",
       "\n",
       "[2 rows x 22 columns]"
      ]
     },
     "execution_count": 35,
     "metadata": {},
     "output_type": "execute_result"
    }
   ],
   "source": [
    "pruebafilt.head(2)"
   ]
  },
  {
   "cell_type": "markdown",
   "id": "ada875fa",
   "metadata": {},
   "source": [
    "Los datos relacionados a personas son:\n",
    "- **P_ID**: Person sequence number\n",
    "- **P_SEX**: Person sex\n",
    "- **P_AGE**: Person age\n",
    "\n",
    "Consideraremos interesantes para el análisis el género del conductor y la edad, para saber si alguno es más propenso a tener más accidentes."
   ]
  },
  {
   "cell_type": "code",
   "execution_count": 36,
   "id": "b184147f",
   "metadata": {},
   "outputs": [
    {
     "data": {
      "text/plain": [
       "0      2355082\n",
       "1      1413370\n",
       "100     157634\n",
       "Name: P_SEX, dtype: int64"
      ]
     },
     "execution_count": 36,
     "metadata": {},
     "output_type": "execute_result"
    }
   ],
   "source": [
    "pruebafilt['P_SEX'].value_counts()"
   ]
  },
  {
   "cell_type": "markdown",
   "id": "972a7beb",
   "metadata": {},
   "source": [
    "Donde, especificado antes, 0 es relacionado a Male y 1 a Female. 100 son datos no definidos por lo que no los tendremos en cuenta."
   ]
  },
  {
   "cell_type": "code",
   "execution_count": 37,
   "id": "c71ba08b",
   "metadata": {},
   "outputs": [
    {
     "name": "stdout",
     "output_type": "stream",
     "text": [
      "0      59.985492\n",
      "1      35.999466\n",
      "100     4.015042\n",
      "Name: P_SEX, dtype: float64\n"
     ]
    },
    {
     "data": {
      "text/plain": [
       "Text(0, 0.5, 'Frecuencia')"
      ]
     },
     "execution_count": 37,
     "metadata": {},
     "output_type": "execute_result"
    },
    {
     "data": {
      "image/png": "[encoded data removed]",
      "text/plain": [
       "<Figure size 720x432 with 1 Axes>"
      ]
     },
     "metadata": {
      "needs_background": "light"
     },
     "output_type": "display_data"
    }
   ],
   "source": [
    "elimsex = pruebafilt[pruebafilt['P_SEX'] != 100]\n",
    "print(pruebafilt['P_SEX'].value_counts()/sum(pruebafilt['P_SEX'].value_counts())*100)\n",
    "ax = elimsex['P_SEX'].value_counts().plot(kind='bar',\n",
    "                                    figsize=(10,6),\n",
    "                                    title=\"Número de Accidentes por sexo\", color=[\"lightblue\",\"lightgreen\"])\n",
    "ax.set_xlabel(\"Sexo\")\n",
    "ax.set_ylabel(\"Frecuencia\")"
   ]
  },
  {
   "cell_type": "markdown",
   "id": "81a7dae6",
   "metadata": {},
   "source": [
    "Vemos que más de la mitad de los accidentes tienen como conductor a un hombre 59.99% frente a un 35.99% de mujeres. Hay un 4% de los datos que no están definidos ni como hombre ni como mujer, y los consideramos nulos."
   ]
  },
  {
   "cell_type": "code",
   "execution_count": 38,
   "id": "ba890b8a",
   "metadata": {},
   "outputs": [
    {
     "name": "stdout",
     "output_type": "stream",
     "text": [
      "2    34.539273\n",
      "3    30.375350\n",
      "4    22.556102\n",
      "5    11.752844\n",
      "1     0.776431\n",
      "Name: P_AGE, dtype: float64\n"
     ]
    },
    {
     "data": {
      "text/plain": [
       "<AxesSubplot:xlabel='P_AGE', ylabel='count'>"
      ]
     },
     "execution_count": 38,
     "metadata": {},
     "output_type": "execute_result"
    },
    {
     "data": {
      "image/png": "[encoded data removed]",
      "text/plain": [
       "<Figure size 720x432 with 1 Axes>"
      ]
     },
     "metadata": {
      "needs_background": "light"
     },
     "output_type": "display_data"
    }
   ],
   "source": [
    "elimage = pruebafilt[pruebafilt['P_AGE'] != 100] \n",
    "print(elimage['P_AGE'].value_counts()/sum(elimage['P_AGE'].value_counts())*100)\n",
    "fig, ax = plt.subplots(1, figsize=(10, 6))\n",
    "sns.countplot(x ='P_AGE', data = elimage)"
   ]
  },
  {
   "cell_type": "markdown",
   "id": "5e7ddd88",
   "metadata": {},
   "source": [
    "Observamos que los más propensos a tener accidentes son las personas de los grupos 2 (16 a 30 años), seguido del grupo 3 (31 a 45 años) y del grupo 4 (46-60 años). Hay menos de un 1% de los accidentes causados por conductores menores de 16 años, edad legal para conducir en Estados Unidos. Los valores por encima de 60 más bajos se pueden relacionar a una vida más sedentaria, sin necesidad de transportarse tanto (trabajo, universidad, etc) y por la experiencia conduciendo."
   ]
  },
  {
   "cell_type": "markdown",
   "id": "0df7829f",
   "metadata": {},
   "source": [
    "Los datos de coches que utilizaremos para este análisis serán: \n",
    "- **V_ID**: Vehicle sequence number\n",
    "- **V_TYPE**: Vehicle type\n",
    "- **V_YEAR**: Vehicle model year\n",
    "\n",
    "Sería interesante ver qué modelos son más y menos propensos a tener accidentes y de qué modelo serían."
   ]
  },
  {
   "cell_type": "code",
   "execution_count": 39,
   "id": "ad650138",
   "metadata": {},
   "outputs": [],
   "source": [
    "elim1 = pruebafilt[pruebafilt['V_TYPE'] != 100] "
   ]
  },
  {
   "cell_type": "code",
   "execution_count": 40,
   "id": "bf6eb159",
   "metadata": {},
   "outputs": [
    {
     "name": "stdout",
     "output_type": "stream",
     "text": [
      "1     85.176216\n",
      "6      3.140388\n",
      "17     2.743285\n",
      "14     2.418986\n",
      "7      1.896072\n",
      "8      1.640881\n",
      "5      1.177110\n",
      "11     0.638478\n",
      "24     0.458353\n",
      "9      0.180896\n",
      "20     0.170187\n",
      "16     0.130844\n",
      "22     0.079405\n",
      "23     0.047638\n",
      "18     0.044659\n",
      "19     0.036980\n",
      "21     0.010298\n",
      "10     0.009322\n",
      "Name: V_TYPE, dtype: float64\n"
     ]
    }
   ],
   "source": [
    "print(elim1[\"V_TYPE\"].value_counts()/sum(elim1[\"V_TYPE\"].value_counts())*100)"
   ]
  },
  {
   "cell_type": "code",
   "execution_count": 41,
   "id": "d3e3ef27",
   "metadata": {},
   "outputs": [
    {
     "data": {
      "image/png": "[encoded data removed]",
      "text/plain": [
       "<Figure size 720x432 with 1 Axes>"
      ]
     },
     "metadata": {
      "needs_background": "light"
     },
     "output_type": "display_data"
    }
   ],
   "source": [
    "ax = elim1['V_TYPE'].value_counts().plot(kind='bar',\n",
    "                                    figsize=(10,6),\n",
    "                                    title=\"Número de Accidentes por tipo de coche\", color=[\"darkblue\"])"
   ]
  },
  {
   "cell_type": "markdown",
   "id": "fff3ecc3",
   "metadata": {},
   "source": [
    "Los automóviles que más accidentes tienen son los vehículos ligeros con diferencia (01). Probablemente porque son los más comunes y existen más cantidades de estos vehículos. Los vehículos con menos accidentes serían los autobuses de tamaño pequeño (10).\n",
    "\n",
    "Si observaramos el número de accidentes por tipo de vehículo y edad:"
   ]
  },
  {
   "cell_type": "code",
   "execution_count": 42,
   "id": "052ea784",
   "metadata": {},
   "outputs": [
    {
     "data": {
      "text/plain": [
       "<AxesSubplot:xlabel='V_TYPE', ylabel='count'>"
      ]
     },
     "execution_count": 42,
     "metadata": {},
     "output_type": "execute_result"
    },
    {
     "data": {
      "image/png": "[encoded data removed]",
      "text/plain": [
       "<Figure size 720x432 with 1 Axes>"
      ]
     },
     "metadata": {
      "needs_background": "light"
     },
     "output_type": "display_data"
    }
   ],
   "source": [
    "fig, ax = plt.subplots(1, figsize=(10, 6))\n",
    "sns.countplot(x ='V_TYPE', hue = \"P_AGE\", data = elim1)"
   ]
  },
  {
   "cell_type": "markdown",
   "id": "a25fcf72",
   "metadata": {},
   "source": [
    "Vemos como la mayoría de accidentes para vehículos ligeros (1) están causados por jóvenes de 16 a 30 años, pero otros tipos de vehículos: furgonetas, camiones, tractores, etc. están principalmente causados por adultos de 31 a 45 años (5, 6, 7, 8).\n",
    "\n",
    "Las motocicletas (14) y las bicicletas (17) también son principalmente conducidas por jóvenes.\n"
   ]
  },
  {
   "cell_type": "code",
   "execution_count": 43,
   "id": "3047415c",
   "metadata": {},
   "outputs": [
    {
     "data": {
      "text/plain": [
       "<AxesSubplot:xlabel='V_TYPE', ylabel='count'>"
      ]
     },
     "execution_count": 43,
     "metadata": {},
     "output_type": "execute_result"
    },
    {
     "data": {
      "image/png": "[encoded data removed]",
      "text/plain": [
       "<Figure size 720x432 with 1 Axes>"
      ]
     },
     "metadata": {
      "needs_background": "light"
     },
     "output_type": "display_data"
    }
   ],
   "source": [
    "elimsex = elim1[elim1['P_SEX'] != 100]\n",
    "fig, ax = plt.subplots(1, figsize=(10, 6))\n",
    "sns.countplot(x ='V_TYPE', hue = \"P_SEX\", data = elimsex)"
   ]
  },
  {
   "cell_type": "markdown",
   "id": "bbea529a",
   "metadata": {},
   "source": [
    "Por género, los hombres son más propensos a tener accidentes que las mujeres, sin importar el tipo de coche."
   ]
  },
  {
   "cell_type": "code",
   "execution_count": 44,
   "id": "5871fe71",
   "metadata": {},
   "outputs": [],
   "source": [
    "elim2 = pruebafilt[pruebafilt['V_YEAR'] != 100] "
   ]
  },
  {
   "cell_type": "code",
   "execution_count": 45,
   "id": "ca8c766f",
   "metadata": {},
   "outputs": [
    {
     "name": "stdout",
     "output_type": "stream",
     "text": [
      "2000    6.122762\n",
      "1998    5.586712\n",
      "2002    5.553731\n",
      "1999    5.465102\n",
      "2003    5.305050\n",
      "          ...   \n",
      "1907    0.000055\n",
      "1904    0.000055\n",
      "1910    0.000028\n",
      "1906    0.000028\n",
      "1905    0.000028\n",
      "Name: V_YEAR, Length: 114, dtype: float64\n",
      "AxesSubplot(0.125,0.125;0.775x0.755)\n"
     ]
    },
    {
     "data": {
      "image/png": "[encoded data removed]",
      "text/plain": [
       "<Figure size 432x288 with 1 Axes>"
      ]
     },
     "metadata": {
      "needs_background": "light"
     },
     "output_type": "display_data"
    }
   ],
   "source": [
    "print(elim2[\"V_YEAR\"].value_counts()/sum(elim2[\"V_YEAR\"].value_counts())*100)\n",
    "print(elim2[\"V_YEAR\"].value_counts().head(5).sort_values().plot(kind = 'barh', title=\"Accidentes por año de modelo\"))"
   ]
  },
  {
   "cell_type": "code",
   "execution_count": 46,
   "id": "dd5f6268",
   "metadata": {},
   "outputs": [
    {
     "name": "stdout",
     "output_type": "stream",
     "text": [
      "AxesSubplot(0.125,0.125;0.775x0.755)\n"
     ]
    },
    {
     "data": {
      "image/png": "[encoded data removed]",
      "text/plain": [
       "<Figure size 432x288 with 1 Axes>"
      ]
     },
     "metadata": {
      "needs_background": "light"
     },
     "output_type": "display_data"
    }
   ],
   "source": [
    "print(elim2[\"V_YEAR\"].value_counts().tail(4).sort_values().plot(kind = 'barh', title=\"Accidentes por año de modelo\"))"
   ]
  },
  {
   "cell_type": "markdown",
   "id": "7725b110",
   "metadata": {},
   "source": [
    "Los modelos que más accidentes tienen son los del 2000, con un 6% de los accidentes totales. Los modelos que menos serían los de 1905, 106 y 1910 con 1 solo accidente. \n",
    "Sería útil saber cuántos accidentes ha habido por años para saber si esta diferencia está causada por un número mayor de accidentes (causado por ejemplo por un aumentos de coches)"
   ]
  },
  {
   "cell_type": "code",
   "execution_count": 47,
   "id": "0e62baf6",
   "metadata": {},
   "outputs": [
    {
     "name": "stdout",
     "output_type": "stream",
     "text": [
      "2000    7.172767\n",
      "2002    7.146761\n",
      "1999    6.993046\n",
      "2003    6.976133\n",
      "2001    6.951885\n",
      "2004    6.705533\n",
      "2005    6.696287\n",
      "2006    6.519572\n",
      "2007    6.313005\n",
      "2008    5.771932\n",
      "2009    5.592516\n",
      "2010    5.581055\n",
      "2012    5.494454\n",
      "2011    5.485692\n",
      "2013    5.445627\n",
      "2014    5.153733\n",
      "Name: C_YEAR, dtype: float64\n"
     ]
    },
    {
     "data": {
      "text/plain": [
       "<AxesSubplot:title={'center':'Accidentes por año'}>"
      ]
     },
     "execution_count": 47,
     "metadata": {},
     "output_type": "execute_result"
    },
    {
     "data": {
      "image/png": "[encoded data removed]",
      "text/plain": [
       "<Figure size 432x288 with 1 Axes>"
      ]
     },
     "metadata": {
      "needs_background": "light"
     },
     "output_type": "display_data"
    }
   ],
   "source": [
    "print(pruebafilt[\"C_YEAR\"].value_counts()/sum(pruebafilt[\"C_YEAR\"].value_counts())*100)\n",
    "pruebafilt[\"C_YEAR\"].value_counts().sort_values().plot(kind = 'barh', title=\"Accidentes por año\")"
   ]
  },
  {
   "cell_type": "markdown",
   "id": "b0a48e16",
   "metadata": {},
   "source": [
    "Y mirando la antigüedad en vez del año del modelo:"
   ]
  },
  {
   "cell_type": "code",
   "execution_count": 48,
   "id": "f9518d80",
   "metadata": {},
   "outputs": [],
   "source": [
    "# restamos el año menos el año del modelo\n",
    "pruebafilt[\"Antigüedad\"] = pruebafilt[\"C_YEAR\"] - pruebafilt[\"V_YEAR\"]"
   ]
  },
  {
   "cell_type": "code",
   "execution_count": 49,
   "id": "14b202a7",
   "metadata": {},
   "outputs": [
    {
     "data": {
      "text/plain": [
       "1     272134\n",
       "2     263320\n",
       "4     250990\n",
       "3     250287\n",
       "5     247957\n",
       "       ...  \n",
       "78         4\n",
       "90         3\n",
       "95         3\n",
       "88         1\n",
       "97         1\n",
       "Name: Antigüedad, Length: 102, dtype: int64"
      ]
     },
     "execution_count": 49,
     "metadata": {},
     "output_type": "execute_result"
    }
   ],
   "source": [
    "# quitamos los valores por encima de 100, ya que están causados porque la columna V_YEAR contenía algunos 0\n",
    "antiguedad = pruebafilt\n",
    "antiguedad = antiguedad[antiguedad['Antigüedad'] < 100] \n",
    "antiguedad[\"Antigüedad\"].value_counts()"
   ]
  },
  {
   "cell_type": "code",
   "execution_count": 50,
   "id": "30ebfa18",
   "metadata": {},
   "outputs": [
    {
     "name": "stdout",
     "output_type": "stream",
     "text": [
      "1     7.504387\n",
      "2     7.261332\n",
      "4     6.921319\n",
      "3     6.901933\n",
      "5     6.837681\n",
      "        ...   \n",
      "78    0.000110\n",
      "90    0.000083\n",
      "95    0.000083\n",
      "88    0.000028\n",
      "97    0.000028\n",
      "Name: Antigüedad, Length: 102, dtype: float64\n"
     ]
    },
    {
     "data": {
      "text/plain": [
       "<AxesSubplot:xlabel='Antigüedad', ylabel='count'>"
      ]
     },
     "execution_count": 50,
     "metadata": {},
     "output_type": "execute_result"
    },
    {
     "data": {
      "image/png": "[encoded data removed]",
      "text/plain": [
       "<Figure size 1800x432 with 1 Axes>"
      ]
     },
     "metadata": {
      "needs_background": "light"
     },
     "output_type": "display_data"
    }
   ],
   "source": [
    "print(antiguedad[\"Antigüedad\"].value_counts()/sum(antiguedad[\"Antigüedad\"].value_counts())*100)\n",
    "fig, ax = plt.subplots(1, figsize=(25, 6))\n",
    "sns.countplot(x ='Antigüedad', data = antiguedad)"
   ]
  },
  {
   "cell_type": "markdown",
   "id": "a9e7edde",
   "metadata": {},
   "source": [
    "Los coches de menos antigüedad son los que menos accidentes tienen, probablemente por la inexperiencia del conductor. De manera que sube la antigüedad del coche, baja el número de accidentes, probablemente por reducir el uso del vehículo en gran cantidad.\n",
    "\n",
    "Es curioso ver como hay número negativos, posiblemente causados por errores del dataset (el modelo de un coche no puede estar por encima del año en el que se produjo el accidente)."
   ]
  },
  {
   "cell_type": "markdown",
   "id": "77afd163",
   "metadata": {},
   "source": [
    "#### Conclusiones: \n",
    "- Los conductores más propensos a tener accidentes son los hombres con un 59.99% frente a un 35.99% de mujeres, y la edad más propensa se encuentra entre los 16 y 30 años.\n",
    "- Los vehículos ligeros conforman la mayoría de los accidentes con un  84.48% de los accidentes y los autobuses escolares pequeños los que menos. Los jóvenes son los que más sufren accidentes en vehículos ligeros, motocicletas y bicicletas y los adultos de 31 a 45 años en los demás tipos de vehículos (tractores, camiones, etc.)\n",
    "- Los coches fabricados alrededor de los 2000 sufren más accidentes que los coches por debajo y por encima de estas fechas. \n",
    "- Los coches con menos antigüedad son los que más accidentes tienen, y el número se reduce hasta casi desaparecer a lo largo de la antigüedad del vehículo."
   ]
  },
  {
   "cell_type": "markdown",
   "id": "4adeb1fb",
   "metadata": {},
   "source": [
    "### ¿Qué es lo que más contribuye a que existan fallecimientos en un accidente?"
   ]
  },
  {
   "cell_type": "markdown",
   "id": "aeecb60f",
   "metadata": {},
   "source": [
    "Para responder a esta pregunta analizaremos la variable **P_ISEV** (\"medical treatment required\"), que está compuesta por:"
   ]
  },
  {
   "cell_type": "code",
   "execution_count": 51,
   "id": "6e60124a",
   "metadata": {},
   "outputs": [
    {
     "data": {
      "text/plain": [
       "2      52.443996\n",
       "1      40.529762\n",
       "100     6.337654\n",
       "3       0.688588\n",
       "Name: P_ISEV, dtype: float64"
      ]
     },
     "execution_count": 51,
     "metadata": {},
     "output_type": "execute_result"
    }
   ],
   "source": [
    "db[\"P_ISEV\"].value_counts()/sum(db[\"P_ISEV\"].value_counts())*100"
   ]
  },
  {
   "cell_type": "markdown",
   "id": "6d063664",
   "metadata": {},
   "source": [
    "- 100: que serían tanto a los coches aparcados como los valores no conocidos\n",
    "- 1: accidente sin daño\n",
    "- 2: accidente con daño\n",
    "- 3: accidente mortal\n",
    "\n",
    "Vemos que está compuesto principalmente por accidentes con daño con **52.44%** , pero mortales son por debajo del **1%**. Un **40%** son accidentes sin daño."
   ]
  },
  {
   "cell_type": "code",
   "execution_count": 54,
   "id": "aebafb33",
   "metadata": {},
   "outputs": [
    {
     "data": {
      "text/plain": [
       "Index(['C_YEAR', 'C_MNTH', 'C_WDAY', 'C_HOUR', 'C_SEV', 'C_VEHS', 'C_CONF',\n",
       "       'C_RCFG', 'C_WTHR', 'C_RSUR', 'C_RALN', 'C_TRAF', 'V_ID', 'V_TYPE',\n",
       "       'V_YEAR', 'P_ID', 'P_SEX', 'P_AGE', 'P_PSN', 'P_ISEV', 'P_SAFE',\n",
       "       'P_USER'],\n",
       "      dtype='object')"
      ]
     },
     "execution_count": 54,
     "metadata": {},
     "output_type": "execute_result"
    }
   ],
   "source": [
    "elim3 = db\n",
    "elim3.columns"
   ]
  },
  {
   "cell_type": "markdown",
   "id": "1ec456bb",
   "metadata": {},
   "source": [
    "Analizaremos los accidentes mortales comparándolos con las distintas variables para comprobar cuáles son las mayores causantes."
   ]
  },
  {
   "cell_type": "code",
   "execution_count": 56,
   "id": "4d8cd798",
   "metadata": {},
   "outputs": [
    {
     "data": {
      "text/plain": [
       "<AxesSubplot:xlabel='C_HOUR', ylabel='count'>"
      ]
     },
     "execution_count": 56,
     "metadata": {},
     "output_type": "execute_result"
    },
    {
     "data": {
      "image/png": "[encoded data removed]",
      "text/plain": [
       "<Figure size 1800x360 with 3 Axes>"
      ]
     },
     "metadata": {
      "needs_background": "light"
     },
     "output_type": "display_data"
    }
   ],
   "source": [
    "elim3 = elim3[elim3['C_MNTH'] != 100] \n",
    "elim3 = elim3[elim3['C_MNTH'] != 100]\n",
    "elim3 = elim3[elim3['P_ISEV'] == 3] \n",
    "fig, ax = plt.subplots(1, 3, figsize=(25, 5))\n",
    "\n",
    "sns.countplot(x ='C_YEAR', hue=\"P_ISEV\", data = elim3,ax=ax[0])\n",
    "sns.countplot(x ='C_MNTH', hue=\"P_ISEV\", data = elim3, ax=ax[1])\n",
    "sns.countplot(x ='C_HOUR', hue=\"P_ISEV\", data = elim3, ax=ax[2])"
   ]
  },
  {
   "cell_type": "markdown",
   "id": "9a3d3005",
   "metadata": {},
   "source": [
    "Los años en los que más accidentes mortales había se ha visto reducido a lo largo de los años, con un incremento en 2005 y 2006. Los meses dónde más accidentes hay suelen estar relacionadas a épocas festivas (meses de navidad, verano, etc.). Las horas donde más accidentes mortales se producen son por la tarde y por la noche."
   ]
  },
  {
   "cell_type": "code",
   "execution_count": 59,
   "id": "0ab7cf6e",
   "metadata": {},
   "outputs": [
    {
     "data": {
      "text/plain": [
       "<AxesSubplot:xlabel='C_RCFG', ylabel='count'>"
      ]
     },
     "execution_count": 59,
     "metadata": {},
     "output_type": "execute_result"
    },
    {
     "data": {
      "image/png": "[encoded data removed]",
      "text/plain": [
       "<Figure size 1800x360 with 3 Axes>"
      ]
     },
     "metadata": {
      "needs_background": "light"
     },
     "output_type": "display_data"
    }
   ],
   "source": [
    "fig, ax = plt.subplots(1, 3, figsize=(25, 5))\n",
    "\n",
    "sns.countplot(x ='C_VEHS', hue=\"P_ISEV\", data = elim3, ax=ax[0])\n",
    "sns.countplot(x ='C_CONF', hue=\"P_ISEV\", data = elim3, ax=ax[1])\n",
    "sns.countplot(x ='C_RCFG', hue=\"P_ISEV\", data = elim3, ax=ax[2])"
   ]
  },
  {
   "cell_type": "markdown",
   "id": "e7d85352",
   "metadata": {},
   "source": [
    "La mayoría de los accidentes mortales:\n",
    "- **C_VEHS**: Tienen uno o dos vehículos involucrados,\n",
    "- **C_CONF**:Con un solo vehículo chocando un objeto, persona o por vueltas del propio coche o con dos vehículos en distintas direcciones.\n",
    "- **C_RCFG**:La mayoría de los accidentes son en carreteras que no son intersecciones y, en segundo lugar en intersecciones de un lugar público."
   ]
  },
  {
   "cell_type": "code",
   "execution_count": 60,
   "id": "b3da149d",
   "metadata": {},
   "outputs": [
    {
     "data": {
      "text/plain": [
       "<AxesSubplot:xlabel='C_TRAF', ylabel='count'>"
      ]
     },
     "execution_count": 60,
     "metadata": {},
     "output_type": "execute_result"
    },
    {
     "data": {
      "image/png": "[encoded data removed]",
      "text/plain": [
       "<Figure size 1800x360 with 4 Axes>"
      ]
     },
     "metadata": {
      "needs_background": "light"
     },
     "output_type": "display_data"
    }
   ],
   "source": [
    "elim3 = elim3[elim3['C_WTHR'] != 100]\n",
    "elim3 = elim3[elim3['C_RSUR'] != 100]\n",
    "elim3 = elim3[elim3['C_RALN'] != 100]\n",
    "elim3 = elim3[elim3['C_TRAF'] != 100]\n",
    "\n",
    "fig, ax = plt.subplots(1, 4, figsize=(25, 5))\n",
    "\n",
    "sns.countplot(x ='C_WTHR', hue=\"P_ISEV\", data = elim3, ax=ax[0])\n",
    "sns.countplot(x ='C_RSUR', hue=\"P_ISEV\", data = elim3, ax=ax[1])\n",
    "sns.countplot(x ='C_RALN', hue=\"P_ISEV\", data = elim3, ax=ax[2])\n",
    "sns.countplot(x ='C_TRAF', hue=\"P_ISEV\", data = elim3, ax=ax[3])"
   ]
  },
  {
   "cell_type": "markdown",
   "id": "f1d06107",
   "metadata": {},
   "source": [
    "- **C_WTHR**: Los mayores accidentes mortales, curiosamente son cuando hace sol. Esto puede ser explicado porque el número de coches en movimiento es más alto o porque es más probable que el cielo esté despejado.\n",
    "- **C_RSUR**: Lo mismo con el tipo de suelo, hay más probabilidad de que se realicen viajes. Cuando está mojado (2) y helado (5) también se producen accidentes mortales.\n",
    "- **C_RALN**: Las carreteras rectas y sin pendiente son las más propensas a tener accidentes, esto puede ser como mencionado antes por el número de carreteras que son así o porque las carreteras de más velocidad tienen estas características y tienden a ser más mortales. Carreteras curvas y con pendiente también tienen un número alto de accidentes mortales (3)\n",
    "- **C_TRAF**: Las carreteras no señalizadas son mucho más propensas a tener accidentes."
   ]
  },
  {
   "cell_type": "code",
   "execution_count": 61,
   "id": "4864831c",
   "metadata": {},
   "outputs": [
    {
     "data": {
      "text/plain": [
       "<AxesSubplot:xlabel='V_YEAR', ylabel='count'>"
      ]
     },
     "execution_count": 61,
     "metadata": {},
     "output_type": "execute_result"
    },
    {
     "data": {
      "image/png": "[encoded data removed]",
      "text/plain": [
       "<Figure size 2520x360 with 1 Axes>"
      ]
     },
     "metadata": {
      "needs_background": "light"
     },
     "output_type": "display_data"
    }
   ],
   "source": [
    "elim3 = elim3[elim3['V_YEAR'] != 100]\n",
    "fig, ax = plt.subplots(1, figsize=(35, 5))\n",
    "sns.countplot(x ='V_YEAR', hue=\"P_ISEV\", data = elim3)"
   ]
  },
  {
   "cell_type": "markdown",
   "id": "5240d41c",
   "metadata": {},
   "source": [
    "Los coches con más accidentes mortales se encuentran entre 1997 y 2003, luego ha decrecido notablemente, posiblemente por el incremento del control y seguridad de los vehículos."
   ]
  },
  {
   "cell_type": "code",
   "execution_count": 62,
   "id": "a44dc319",
   "metadata": {},
   "outputs": [
    {
     "data": {
      "text/plain": [
       "<AxesSubplot:xlabel='V_TYPE', ylabel='count'>"
      ]
     },
     "execution_count": 62,
     "metadata": {},
     "output_type": "execute_result"
    },
    {
     "data": {
      "image/png": "[encoded data removed]",
      "text/plain": [
       "<Figure size 2520x360 with 1 Axes>"
      ]
     },
     "metadata": {
      "needs_background": "light"
     },
     "output_type": "display_data"
    }
   ],
   "source": [
    "fig, ax = plt.subplots(1, figsize=(35, 5))\n",
    "sns.countplot(x ='V_TYPE', hue=\"P_ISEV\", data = elim3)"
   ]
  },
  {
   "cell_type": "markdown",
   "id": "6cc80bc5",
   "metadata": {},
   "source": [
    "Los accidentes mortales, según el tipo de coche están principalmente causados por vehículos ligeros y motocicletas (14), en menor cantidad."
   ]
  },
  {
   "cell_type": "code",
   "execution_count": 63,
   "id": "9c1d5d64",
   "metadata": {},
   "outputs": [
    {
     "data": {
      "text/plain": [
       "<AxesSubplot:xlabel='P_PSN', ylabel='count'>"
      ]
     },
     "execution_count": 63,
     "metadata": {},
     "output_type": "execute_result"
    },
    {
     "data": {
      "image/png": "[encoded data removed]",
      "text/plain": [
       "<Figure size 1800x360 with 3 Axes>"
      ]
     },
     "metadata": {
      "needs_background": "light"
     },
     "output_type": "display_data"
    }
   ],
   "source": [
    "elim3 = elim3[elim3['P_SEX'] != 100]\n",
    "elim3 = elim3[elim3['P_PSN'] != 100]\n",
    "\n",
    "fig, ax = plt.subplots(1, 3, figsize=(25, 5))\n",
    "\n",
    "sns.countplot(x ='P_AGE', hue=\"P_ISEV\", data = elim3, ax=ax[0])\n",
    "sns.countplot(x ='P_SEX', hue=\"P_ISEV\", data = elim3, ax=ax[1])\n",
    "sns.countplot(x ='P_PSN', hue=\"P_ISEV\", data = elim3, ax=ax[2])"
   ]
  },
  {
   "cell_type": "markdown",
   "id": "e1bb7ef2",
   "metadata": {},
   "source": [
    "- Las edades que tienen más accidentes mortales son los jóvenes de 16-30 años, que ya vimos anteriormente que eran los que más accidentes solían tener. De igual manera, los hombres suelen tener más accidentes mortales al igual que su número total de accidentes era mayor.\n",
    "- Las mayores muertes se encuentran entre los conductores (11), aunque también observamos muertes en el puesto de copiloto de coche o moto (13), y en menos cantidad en la parte trasera a la derecha (23)."
   ]
  },
  {
   "cell_type": "code",
   "execution_count": 64,
   "id": "aad5664e",
   "metadata": {},
   "outputs": [
    {
     "data": {
      "text/plain": [
       "<AxesSubplot:xlabel='P_USER', ylabel='count'>"
      ]
     },
     "execution_count": 64,
     "metadata": {},
     "output_type": "execute_result"
    },
    {
     "data": {
      "image/png": "[encoded data removed]",
      "text/plain": [
       "<Figure size 1800x360 with 2 Axes>"
      ]
     },
     "metadata": {
      "needs_background": "light"
     },
     "output_type": "display_data"
    }
   ],
   "source": [
    "elim3 = elim3[elim3['P_SAFE'] != 100]\n",
    "elim3 = elim3[elim3['P_USER'] != 100]\n",
    "\n",
    "fig, ax = plt.subplots(1, 2, figsize=(25, 5))\n",
    "\n",
    "sns.countplot(x ='P_SAFE', hue=\"P_ISEV\", data = elim3, ax=ax[0])\n",
    "sns.countplot(x ='P_USER', hue=\"P_ISEV\", data = elim3, ax=ax[1])"
   ]
  },
  {
   "cell_type": "markdown",
   "id": "08d3aa1f",
   "metadata": {},
   "source": [
    "- **P_SAFE**: Curiosamente el número es más alto para personas que utilizaban mecanismos de seguridad (1), aunque el número de accidentes totales también indica que hay más accidentes con personas usando protección de algún tipo\n",
    "- **P_USER**: El conductor (1), es el más propenso a tener accidentes mortales, seguido por los pasajeros y por último los motoristas."
   ]
  },
  {
   "cell_type": "markdown",
   "id": "68419e40",
   "metadata": {},
   "source": [
    "-----"
   ]
  },
  {
   "cell_type": "markdown",
   "id": "65f0534e",
   "metadata": {},
   "source": [
    "### PLUS: complementar con datos abiertos de clima (aunque Canadá es muy grande) y de otra tipología, ¿hay algún tipo de relación con temperaturas medias, precipitación media del día/mes, nieve...? ¿a más días festivos o de vacaciones, más accidentes? etc."
   ]
  },
  {
   "cell_type": "markdown",
   "id": "1308777d",
   "metadata": {},
   "source": [
    "Para realizar esta pregunta, vamos a llevar a cabo un análisis del número de accidentes con las variable **C_WTHR, C_MNTH y C_RSUR**, ya que creemos que tanto la época del año como el estado de las carreteras y el clima de Canadá puede afectar al número de accidentes que haya."
   ]
  },
  {
   "cell_type": "markdown",
   "id": "68b15dea",
   "metadata": {},
   "source": [
    "Para ello, como hemos realizado anteriormente, seleccionamos unicamente los accidentes que tengan a los conductores como posición principal con el fin de que no se repita el siniestro. "
   ]
  },
  {
   "cell_type": "code",
   "execution_count": 65,
   "id": "7f213fad",
   "metadata": {},
   "outputs": [
    {
     "data": {
      "text/html": [
       "<div>\n",
       "<style scoped>\n",
       "    .dataframe tbody tr th:only-of-type {\n",
       "        vertical-align: middle;\n",
       "    }\n",
       "\n",
       "    .dataframe tbody tr th {\n",
       "        vertical-align: top;\n",
       "    }\n",
       "\n",
       "    .dataframe thead th {\n",
       "        text-align: right;\n",
       "    }\n",
       "</style>\n",
       "<table border=\"1\" class=\"dataframe\">\n",
       "  <thead>\n",
       "    <tr style=\"text-align: right;\">\n",
       "      <th></th>\n",
       "      <th>C_YEAR</th>\n",
       "      <th>C_MNTH</th>\n",
       "      <th>C_WDAY</th>\n",
       "      <th>C_HOUR</th>\n",
       "      <th>C_SEV</th>\n",
       "      <th>C_VEHS</th>\n",
       "      <th>C_CONF</th>\n",
       "      <th>C_RCFG</th>\n",
       "      <th>C_WTHR</th>\n",
       "      <th>C_RSUR</th>\n",
       "      <th>...</th>\n",
       "      <th>V_ID</th>\n",
       "      <th>V_TYPE</th>\n",
       "      <th>V_YEAR</th>\n",
       "      <th>P_ID</th>\n",
       "      <th>P_SEX</th>\n",
       "      <th>P_AGE</th>\n",
       "      <th>P_PSN</th>\n",
       "      <th>P_ISEV</th>\n",
       "      <th>P_SAFE</th>\n",
       "      <th>P_USER</th>\n",
       "    </tr>\n",
       "  </thead>\n",
       "  <tbody>\n",
       "    <tr>\n",
       "      <th>0</th>\n",
       "      <td>1999</td>\n",
       "      <td>1</td>\n",
       "      <td>1</td>\n",
       "      <td>3</td>\n",
       "      <td>2</td>\n",
       "      <td>2</td>\n",
       "      <td>3</td>\n",
       "      <td>100</td>\n",
       "      <td>1</td>\n",
       "      <td>5</td>\n",
       "      <td>...</td>\n",
       "      <td>1</td>\n",
       "      <td>6</td>\n",
       "      <td>1990</td>\n",
       "      <td>1</td>\n",
       "      <td>0</td>\n",
       "      <td>3</td>\n",
       "      <td>11</td>\n",
       "      <td>1</td>\n",
       "      <td>100</td>\n",
       "      <td>1</td>\n",
       "    </tr>\n",
       "    <tr>\n",
       "      <th>1</th>\n",
       "      <td>1999</td>\n",
       "      <td>1</td>\n",
       "      <td>1</td>\n",
       "      <td>3</td>\n",
       "      <td>2</td>\n",
       "      <td>2</td>\n",
       "      <td>3</td>\n",
       "      <td>100</td>\n",
       "      <td>1</td>\n",
       "      <td>5</td>\n",
       "      <td>...</td>\n",
       "      <td>2</td>\n",
       "      <td>1</td>\n",
       "      <td>1987</td>\n",
       "      <td>1</td>\n",
       "      <td>0</td>\n",
       "      <td>2</td>\n",
       "      <td>11</td>\n",
       "      <td>1</td>\n",
       "      <td>100</td>\n",
       "      <td>1</td>\n",
       "    </tr>\n",
       "    <tr>\n",
       "      <th>3</th>\n",
       "      <td>1999</td>\n",
       "      <td>1</td>\n",
       "      <td>1</td>\n",
       "      <td>1</td>\n",
       "      <td>2</td>\n",
       "      <td>1</td>\n",
       "      <td>1</td>\n",
       "      <td>100</td>\n",
       "      <td>5</td>\n",
       "      <td>3</td>\n",
       "      <td>...</td>\n",
       "      <td>1</td>\n",
       "      <td>1</td>\n",
       "      <td>1986</td>\n",
       "      <td>1</td>\n",
       "      <td>0</td>\n",
       "      <td>4</td>\n",
       "      <td>11</td>\n",
       "      <td>1</td>\n",
       "      <td>100</td>\n",
       "      <td>1</td>\n",
       "    </tr>\n",
       "    <tr>\n",
       "      <th>5</th>\n",
       "      <td>1999</td>\n",
       "      <td>1</td>\n",
       "      <td>1</td>\n",
       "      <td>2</td>\n",
       "      <td>2</td>\n",
       "      <td>3</td>\n",
       "      <td>100</td>\n",
       "      <td>100</td>\n",
       "      <td>1</td>\n",
       "      <td>2</td>\n",
       "      <td>...</td>\n",
       "      <td>1</td>\n",
       "      <td>1</td>\n",
       "      <td>1984</td>\n",
       "      <td>1</td>\n",
       "      <td>0</td>\n",
       "      <td>2</td>\n",
       "      <td>11</td>\n",
       "      <td>1</td>\n",
       "      <td>100</td>\n",
       "      <td>1</td>\n",
       "    </tr>\n",
       "    <tr>\n",
       "      <th>6</th>\n",
       "      <td>1999</td>\n",
       "      <td>1</td>\n",
       "      <td>1</td>\n",
       "      <td>2</td>\n",
       "      <td>2</td>\n",
       "      <td>3</td>\n",
       "      <td>100</td>\n",
       "      <td>100</td>\n",
       "      <td>1</td>\n",
       "      <td>2</td>\n",
       "      <td>...</td>\n",
       "      <td>2</td>\n",
       "      <td>1</td>\n",
       "      <td>1991</td>\n",
       "      <td>1</td>\n",
       "      <td>0</td>\n",
       "      <td>2</td>\n",
       "      <td>11</td>\n",
       "      <td>1</td>\n",
       "      <td>100</td>\n",
       "      <td>1</td>\n",
       "    </tr>\n",
       "    <tr>\n",
       "      <th>...</th>\n",
       "      <td>...</td>\n",
       "      <td>...</td>\n",
       "      <td>...</td>\n",
       "      <td>...</td>\n",
       "      <td>...</td>\n",
       "      <td>...</td>\n",
       "      <td>...</td>\n",
       "      <td>...</td>\n",
       "      <td>...</td>\n",
       "      <td>...</td>\n",
       "      <td>...</td>\n",
       "      <td>...</td>\n",
       "      <td>...</td>\n",
       "      <td>...</td>\n",
       "      <td>...</td>\n",
       "      <td>...</td>\n",
       "      <td>...</td>\n",
       "      <td>...</td>\n",
       "      <td>...</td>\n",
       "      <td>...</td>\n",
       "      <td>...</td>\n",
       "    </tr>\n",
       "    <tr>\n",
       "      <th>5860397</th>\n",
       "      <td>2014</td>\n",
       "      <td>100</td>\n",
       "      <td>100</td>\n",
       "      <td>100</td>\n",
       "      <td>2</td>\n",
       "      <td>100</td>\n",
       "      <td>100</td>\n",
       "      <td>1</td>\n",
       "      <td>100</td>\n",
       "      <td>100</td>\n",
       "      <td>...</td>\n",
       "      <td>10</td>\n",
       "      <td>1</td>\n",
       "      <td>100</td>\n",
       "      <td>1</td>\n",
       "      <td>1</td>\n",
       "      <td>5</td>\n",
       "      <td>11</td>\n",
       "      <td>1</td>\n",
       "      <td>100</td>\n",
       "      <td>1</td>\n",
       "    </tr>\n",
       "    <tr>\n",
       "      <th>5860398</th>\n",
       "      <td>2014</td>\n",
       "      <td>100</td>\n",
       "      <td>100</td>\n",
       "      <td>100</td>\n",
       "      <td>2</td>\n",
       "      <td>100</td>\n",
       "      <td>100</td>\n",
       "      <td>1</td>\n",
       "      <td>100</td>\n",
       "      <td>100</td>\n",
       "      <td>...</td>\n",
       "      <td>11</td>\n",
       "      <td>1</td>\n",
       "      <td>100</td>\n",
       "      <td>1</td>\n",
       "      <td>1</td>\n",
       "      <td>2</td>\n",
       "      <td>11</td>\n",
       "      <td>1</td>\n",
       "      <td>100</td>\n",
       "      <td>1</td>\n",
       "    </tr>\n",
       "    <tr>\n",
       "      <th>5860399</th>\n",
       "      <td>2014</td>\n",
       "      <td>100</td>\n",
       "      <td>100</td>\n",
       "      <td>100</td>\n",
       "      <td>2</td>\n",
       "      <td>100</td>\n",
       "      <td>100</td>\n",
       "      <td>1</td>\n",
       "      <td>100</td>\n",
       "      <td>100</td>\n",
       "      <td>...</td>\n",
       "      <td>12</td>\n",
       "      <td>1</td>\n",
       "      <td>100</td>\n",
       "      <td>1</td>\n",
       "      <td>1</td>\n",
       "      <td>4</td>\n",
       "      <td>11</td>\n",
       "      <td>1</td>\n",
       "      <td>100</td>\n",
       "      <td>1</td>\n",
       "    </tr>\n",
       "    <tr>\n",
       "      <th>5860400</th>\n",
       "      <td>2014</td>\n",
       "      <td>100</td>\n",
       "      <td>100</td>\n",
       "      <td>100</td>\n",
       "      <td>2</td>\n",
       "      <td>100</td>\n",
       "      <td>100</td>\n",
       "      <td>1</td>\n",
       "      <td>100</td>\n",
       "      <td>100</td>\n",
       "      <td>...</td>\n",
       "      <td>13</td>\n",
       "      <td>7</td>\n",
       "      <td>100</td>\n",
       "      <td>1</td>\n",
       "      <td>0</td>\n",
       "      <td>2</td>\n",
       "      <td>11</td>\n",
       "      <td>1</td>\n",
       "      <td>100</td>\n",
       "      <td>1</td>\n",
       "    </tr>\n",
       "    <tr>\n",
       "      <th>5860402</th>\n",
       "      <td>2014</td>\n",
       "      <td>100</td>\n",
       "      <td>100</td>\n",
       "      <td>2</td>\n",
       "      <td>2</td>\n",
       "      <td>1</td>\n",
       "      <td>1</td>\n",
       "      <td>1</td>\n",
       "      <td>1</td>\n",
       "      <td>5</td>\n",
       "      <td>...</td>\n",
       "      <td>1</td>\n",
       "      <td>1</td>\n",
       "      <td>2006</td>\n",
       "      <td>1</td>\n",
       "      <td>1</td>\n",
       "      <td>NaN</td>\n",
       "      <td>11</td>\n",
       "      <td>2</td>\n",
       "      <td>0</td>\n",
       "      <td>1</td>\n",
       "    </tr>\n",
       "  </tbody>\n",
       "</table>\n",
       "<p>3926086 rows × 22 columns</p>\n",
       "</div>"
      ],
      "text/plain": [
       "         C_YEAR  C_MNTH  C_WDAY  C_HOUR  C_SEV  C_VEHS  C_CONF  C_RCFG  \\\n",
       "0          1999       1       1       3      2       2       3     100   \n",
       "1          1999       1       1       3      2       2       3     100   \n",
       "3          1999       1       1       1      2       1       1     100   \n",
       "5          1999       1       1       2      2       3     100     100   \n",
       "6          1999       1       1       2      2       3     100     100   \n",
       "...         ...     ...     ...     ...    ...     ...     ...     ...   \n",
       "5860397    2014     100     100     100      2     100     100       1   \n",
       "5860398    2014     100     100     100      2     100     100       1   \n",
       "5860399    2014     100     100     100      2     100     100       1   \n",
       "5860400    2014     100     100     100      2     100     100       1   \n",
       "5860402    2014     100     100       2      2       1       1       1   \n",
       "\n",
       "         C_WTHR  C_RSUR  ...  V_ID  V_TYPE  V_YEAR  P_ID  P_SEX  P_AGE  P_PSN  \\\n",
       "0             1       5  ...     1       6    1990     1      0      3     11   \n",
       "1             1       5  ...     2       1    1987     1      0      2     11   \n",
       "3             5       3  ...     1       1    1986     1      0      4     11   \n",
       "5             1       2  ...     1       1    1984     1      0      2     11   \n",
       "6             1       2  ...     2       1    1991     1      0      2     11   \n",
       "...         ...     ...  ...   ...     ...     ...   ...    ...    ...    ...   \n",
       "5860397     100     100  ...    10       1     100     1      1      5     11   \n",
       "5860398     100     100  ...    11       1     100     1      1      2     11   \n",
       "5860399     100     100  ...    12       1     100     1      1      4     11   \n",
       "5860400     100     100  ...    13       7     100     1      0      2     11   \n",
       "5860402       1       5  ...     1       1    2006     1      1    NaN     11   \n",
       "\n",
       "        P_ISEV  P_SAFE  P_USER  \n",
       "0            1     100       1  \n",
       "1            1     100       1  \n",
       "3            1     100       1  \n",
       "5            1     100       1  \n",
       "6            1     100       1  \n",
       "...        ...     ...     ...  \n",
       "5860397      1     100       1  \n",
       "5860398      1     100       1  \n",
       "5860399      1     100       1  \n",
       "5860400      1     100       1  \n",
       "5860402      2       0       1  \n",
       "\n",
       "[3926086 rows x 22 columns]"
      ]
     },
     "execution_count": 65,
     "metadata": {},
     "output_type": "execute_result"
    }
   ],
   "source": [
    "prueba2 = db\n",
    "plus = prueba2[prueba2['P_PSN'] == 11]  \n",
    "plus"
   ]
  },
  {
   "cell_type": "code",
   "execution_count": 66,
   "id": "c0ff5116",
   "metadata": {},
   "outputs": [],
   "source": [
    "plus = plus.loc[:, ['C_WTHR', 'C_MNTH', 'C_RSUR']]\n",
    "plus = plus[plus['C_MNTH'] != 100]\n",
    "plus = plus[plus['C_WTHR'] != 100]\n",
    "plus = plus[plus['C_RSUR'] != 100]"
   ]
  },
  {
   "cell_type": "markdown",
   "id": "7f8306b8",
   "metadata": {},
   "source": [
    "En primer lugar, realizamos una matriz de correlación para hacer un simple estudio de las correlaciones existentes entre las variables, y para ver cómo afectan unas a las otras. En primer lugar, realizamos una matriz de correlación para hacer un simple estudio de las correlaciones existentes entre las variables, y para ver cómo afectan unas a las otras. "
   ]
  },
  {
   "cell_type": "code",
   "execution_count": 67,
   "id": "034f44e2",
   "metadata": {},
   "outputs": [
    {
     "data": {
      "image/png": "[encoded data removed]",
      "text/plain": [
       "<Figure size 720x432 with 2 Axes>"
      ]
     },
     "metadata": {
      "needs_background": "light"
     },
     "output_type": "display_data"
    }
   ],
   "source": [
    "correl = plus.corr()\n",
    "\n",
    "correl = plus.corr(method='pearson')\n",
    "pl.figure(figsize=(10, 6))\n",
    "sb.heatmap(correl, annot=True)\n",
    "pl.title(\"Matriz de correlaciones\", fontsize =20)\n",
    "pl.show()"
   ]
  },
  {
   "cell_type": "markdown",
   "id": "ca90fc89",
   "metadata": {},
   "source": [
    "Observaciones:\n",
    "\n",
    "\n",
    "   - Existe una correlación negativa entre el mes y el clima en Canadá, de tal forma que una variable no influencia a la otra. \n",
    "   - Lo mismo ocurre con el estado en el que se encuentra la carretera. Correlación negativa entre el mes y el estado de la carretera (igual que la anterior)\n",
    "   - Por otro lado, existe una correlación positiva entre el clima y el estado de la carretera, de tal forma que, si por ejemplo hace sol, la carretera estará seca. \n",
    "\n",
    "\n",
    "Aunque no exista correlación con la variable “mes”, vamos a ver el **número de accidentes que hay mensualmente**:\n"
   ]
  },
  {
   "cell_type": "code",
   "execution_count": 68,
   "id": "6319e5ca",
   "metadata": {},
   "outputs": [
    {
     "name": "stdout",
     "output_type": "stream",
     "text": [
      "8     9.375857\n",
      "7     9.216732\n",
      "6     9.192416\n",
      "9     9.109206\n",
      "10    9.014372\n",
      "11    8.427227\n",
      "12    8.409939\n",
      "5     8.261582\n",
      "1     8.142272\n",
      "2     7.072409\n",
      "3     6.967368\n",
      "4     6.810621\n",
      "Name: C_MNTH, dtype: float64\n"
     ]
    },
    {
     "data": {
      "text/plain": [
       "Text(0, 0.5, 'Número de accidentes')"
      ]
     },
     "execution_count": 68,
     "metadata": {},
     "output_type": "execute_result"
    },
    {
     "data": {
      "image/png": "[encoded data removed]",
      "text/plain": [
       "<Figure size 720x432 with 1 Axes>"
      ]
     },
     "metadata": {
      "needs_background": "light"
     },
     "output_type": "display_data"
    }
   ],
   "source": [
    "mes = plus[plus['C_MNTH'] != 100]\n",
    "print(plus['C_MNTH'].value_counts()/sum(plus['C_MNTH'].value_counts())*100)\n",
    "ax = mes['C_MNTH'].value_counts().plot(kind='bar',\n",
    "                                    figsize=(10,6),\n",
    "                                    title=\"Número de Accidentes por mes\", color=[\"orange\"])\n",
    "ax.set_xlabel(\"Mes\")\n",
    "ax.set_ylabel(\"Número de accidentes\")\n"
   ]
  },
  {
   "cell_type": "markdown",
   "id": "56ec9f20",
   "metadata": {},
   "source": [
    "Vemos que el número de accidentes es bastante constante a lo largo del año, ya que no hay ningún mes que destaque por tener un mayor/menor número de siniestros. Se podría decir que los meses con menos accidentes son marzo y abril, mientras que agosto (mes de vacaciones para la mayoría de canadienses) es el mes con mayor número de accidentes.  "
   ]
  },
  {
   "cell_type": "markdown",
   "id": "d0772590",
   "metadata": {},
   "source": [
    "- Ahora veremos el número de accidentes según las **condiciones meteorológicas**:"
   ]
  },
  {
   "cell_type": "code",
   "execution_count": 69,
   "id": "4f15973e",
   "metadata": {},
   "outputs": [
    {
     "name": "stdout",
     "output_type": "stream",
     "text": [
      "1    70.918376\n",
      "2    11.008469\n",
      "3    10.514661\n",
      "4     5.392046\n",
      "6     1.439899\n",
      "5     0.492365\n",
      "7     0.234185\n",
      "Name: C_WTHR, dtype: float64\n"
     ]
    },
    {
     "data": {
      "text/plain": [
       "Text(0, 0.5, 'Número de accidentes')"
      ]
     },
     "execution_count": 69,
     "metadata": {},
     "output_type": "execute_result"
    },
    {
     "data": {
      "image/png": "[encoded data removed]",
      "text/plain": [
       "<Figure size 720x432 with 1 Axes>"
      ]
     },
     "metadata": {
      "needs_background": "light"
     },
     "output_type": "display_data"
    }
   ],
   "source": [
    "mes = plus[plus['C_WTHR'] != 100]\n",
    "print(plus['C_WTHR'].value_counts()/sum(plus['C_WTHR'].value_counts())*100)\n",
    "ax = mes['C_WTHR'].value_counts().plot(kind='bar',\n",
    "                                    figsize=(10,6),\n",
    "                                    title=\"Número de Accidentes según el clima\", color=[\"violet\"])\n",
    "ax.set_xlabel(\"Tiempo\")\n",
    "ax.set_ylabel(\"Número de accidentes\")"
   ]
  },
  {
   "cell_type": "markdown",
   "id": "9632e59f",
   "metadata": {},
   "source": [
    "Observamos que los días soleados destacan por ser los días en los que ocurren un mayor número de siniestros. Seguido de los días soleados, aunque con muchos menos accidentes, los días nublados pero sin precipitaciones, que se equiparan a los días con lluia, seguidos de los días en los que nieva. \n",
    "\n",
    "Esta observación se podría deber a que en los días de sol la gente en general suele llevar menos precauciones que un dia de lluvia, por ejemplo. Así en número de accidentes de tráfico es mayor."
   ]
  },
  {
   "cell_type": "code",
   "execution_count": 70,
   "id": "231bc3d2",
   "metadata": {},
   "outputs": [
    {
     "data": {
      "text/html": [
       "<div>\n",
       "<style scoped>\n",
       "    .dataframe tbody tr th:only-of-type {\n",
       "        vertical-align: middle;\n",
       "    }\n",
       "\n",
       "    .dataframe tbody tr th {\n",
       "        vertical-align: top;\n",
       "    }\n",
       "\n",
       "    .dataframe thead th {\n",
       "        text-align: right;\n",
       "    }\n",
       "</style>\n",
       "<table border=\"1\" class=\"dataframe\">\n",
       "  <thead>\n",
       "    <tr style=\"text-align: right;\">\n",
       "      <th></th>\n",
       "      <th>C_MNTH</th>\n",
       "      <th>C_RSUR</th>\n",
       "    </tr>\n",
       "    <tr>\n",
       "      <th>C_WTHR</th>\n",
       "      <th></th>\n",
       "      <th></th>\n",
       "    </tr>\n",
       "  </thead>\n",
       "  <tbody>\n",
       "    <tr>\n",
       "      <th>1</th>\n",
       "      <td>2654011</td>\n",
       "      <td>2654011</td>\n",
       "    </tr>\n",
       "    <tr>\n",
       "      <th>2</th>\n",
       "      <td>411975</td>\n",
       "      <td>411975</td>\n",
       "    </tr>\n",
       "    <tr>\n",
       "      <th>3</th>\n",
       "      <td>393495</td>\n",
       "      <td>393495</td>\n",
       "    </tr>\n",
       "    <tr>\n",
       "      <th>4</th>\n",
       "      <td>201789</td>\n",
       "      <td>201789</td>\n",
       "    </tr>\n",
       "    <tr>\n",
       "      <th>5</th>\n",
       "      <td>18426</td>\n",
       "      <td>18426</td>\n",
       "    </tr>\n",
       "    <tr>\n",
       "      <th>6</th>\n",
       "      <td>53886</td>\n",
       "      <td>53886</td>\n",
       "    </tr>\n",
       "    <tr>\n",
       "      <th>7</th>\n",
       "      <td>8764</td>\n",
       "      <td>8764</td>\n",
       "    </tr>\n",
       "  </tbody>\n",
       "</table>\n",
       "</div>"
      ],
      "text/plain": [
       "         C_MNTH   C_RSUR\n",
       "C_WTHR                  \n",
       "1       2654011  2654011\n",
       "2        411975   411975\n",
       "3        393495   393495\n",
       "4        201789   201789\n",
       "5         18426    18426\n",
       "6         53886    53886\n",
       "7          8764     8764"
      ]
     },
     "execution_count": 70,
     "metadata": {},
     "output_type": "execute_result"
    }
   ],
   "source": [
    "group = plus.groupby(\"C_WTHR\")\n",
    "group.count()"
   ]
  },
  {
   "cell_type": "code",
   "execution_count": 71,
   "id": "fc5489b7",
   "metadata": {},
   "outputs": [
    {
     "data": {
      "text/plain": [
       "<AxesSubplot:xlabel='C_MNTH', ylabel='count'>"
      ]
     },
     "execution_count": 71,
     "metadata": {},
     "output_type": "execute_result"
    },
    {
     "data": {
      "image/png": "[encoded data removed]",
      "text/plain": [
       "<Figure size 720x432 with 1 Axes>"
      ]
     },
     "metadata": {
      "needs_background": "light"
     },
     "output_type": "display_data"
    }
   ],
   "source": [
    "fig, ax = plt.subplots(1, figsize=(10,6))\n",
    "sns.countplot(x ='C_MNTH', hue = \"C_WTHR\", data = plus)"
   ]
  },
  {
   "cell_type": "markdown",
   "id": "4d32acb3",
   "metadata": {},
   "source": [
    "Cómo se ha mencionado anteriormente, los días soleados destacan por mayoría en ser los días con mayor número de accidentes, siendo el número de siniestros mayor en los meses de julio y agosto, seguido por junio y sptiembre. Es decir, en la época de verano. Por otro lado, los accidentes incrementan los días de nieve en los meses de diciembre, enero y febrero. Por otro lado, los accidentes por lluvia incrementan en los meses de septiembre, octubre y noviembre.\n",
    "\n",
    "Pero en general, en cada mes, los dias de sol contienen el mayor número de accidentes (lo cual no significa que en todos los meses haya un mayor número de días de sol, sino que los accidentes pueden estar concentrados en pocos días)."
   ]
  },
  {
   "cell_type": "markdown",
   "id": "9c0a5308",
   "metadata": {},
   "source": [
    "Ahora realizamos el mismo análisis teniendo en cuenta las **condiciones de la carretera**:"
   ]
  },
  {
   "cell_type": "code",
   "execution_count": 72,
   "id": "945cfb84",
   "metadata": {},
   "outputs": [
    {
     "data": {
      "text/plain": [
       "<AxesSubplot:title={'center':'Número de Accidentes según las Condiciones de la Vía'}>"
      ]
     },
     "execution_count": 72,
     "metadata": {},
     "output_type": "execute_result"
    },
    {
     "data": {
      "image/png": "[encoded data removed]",
      "text/plain": [
       "<Figure size 720x432 with 1 Axes>"
      ]
     },
     "metadata": {
      "needs_background": "light"
     },
     "output_type": "display_data"
    }
   ],
   "source": [
    "plus['C_RSUR'].value_counts().plot(kind='bar',\n",
    "                                    figsize=(10,6),\n",
    "                                    title=\"Número de Accidentes según las Condiciones de la Vía\", color=[\"lightblue\"])"
   ]
  },
  {
   "cell_type": "markdown",
   "id": "9d5968b4",
   "metadata": {},
   "source": [
    "Siguiendo este gráfico, es bastante evidente que el número de accidentes es mayor cuando la carretera esta seca. Seguido a este, vemos que los accidentes también se deben a una via húmeda y, en su medida, a una carretera con hielo o con nieve.\n",
    "\n",
    "Al igual que hemos visto antes, el hecho de que la mayoría de accidentes se produzca cuando la vía esta seca, se puede deber principalmente a:\n",
    "   - que la media de dias en los que no llueve/nieva sea alta\n",
    "   - que cuando la carretera esta seca, la gente toma menor precaución que cuando sabe que hay nieve, o esta húmeda\n",
    "\n",
    "A continuación analizaremos estas condiciones de la via a lo largo de los 12 meses del año:"
   ]
  },
  {
   "cell_type": "code",
   "execution_count": 73,
   "id": "988d6504",
   "metadata": {},
   "outputs": [
    {
     "data": {
      "text/plain": [
       "<AxesSubplot:xlabel='C_MNTH', ylabel='count'>"
      ]
     },
     "execution_count": 73,
     "metadata": {},
     "output_type": "execute_result"
    },
    {
     "data": {
      "image/png": "[encoded data removed]",
      "text/plain": [
       "<Figure size 720x432 with 1 Axes>"
      ]
     },
     "metadata": {
      "needs_background": "light"
     },
     "output_type": "display_data"
    }
   ],
   "source": [
    "fig, ax = plt.subplots(1, figsize=(10, 6))\n",
    "sns.countplot(x ='C_MNTH', hue = \"C_RSUR\", data = plus)"
   ]
  },
  {
   "cell_type": "markdown",
   "id": "02fcfbb5",
   "metadata": {},
   "source": [
    "Canadá es el segundo país más grande del mundo, lo cual implica climas variados a lo largo del mismo:\n",
    "- el norte de Canadá es extremadamente frío, con veranos que duran menos de dos meses, \n",
    "- la zona sur, en cambio, es más cálida.\n",
    "\n",
    "El clima de la zona de Vancouver - *costa oeste*, es templado. Aquí llueve casi la mitad de todo el invierno, pero en cambio, nunca nieva, y en verano hace sol. \n",
    "\n",
    "Cerca de *Toronto* el clima es de tipo continental. Los veranos son húmedos y calurosos (con temperaturas medias de 26ºC) y los inviernos, por lo contrario, fríos y con nieve (temperaturas medias de 0ºC). En promedio, a lo largo del año llueve 7 días al mes.\n",
    "\n",
    "El hecho de que el clima de Canadá sea variado, supone que no podamos sacar grandes conclusiones con respecto a los accidentes y su clima. Si que hemos podido observar que el hecho de que llueva, nieve, o haga frío, no suponen un incremento en el número de accidentes de tráfico."
   ]
  },
  {
   "cell_type": "markdown",
   "id": "8f8b77ed",
   "metadata": {},
   "source": [
    "---"
   ]
  }
 ],
 "metadata": {
  "kernelspec": {
   "display_name": "Python 3",
   "language": "python",
   "name": "python3"
  },
  "language_info": {
   "codemirror_mode": {
    "name": "ipython",
    "version": 3
   },
   "file_extension": ".py",
   "mimetype": "text/x-python",
   "name": "python",
   "nbconvert_exporter": "python",
   "pygments_lexer": "ipython3",
   "version": "3.8.8"
  }
 },
 "nbformat": 4,
 "nbformat_minor": 5
}
